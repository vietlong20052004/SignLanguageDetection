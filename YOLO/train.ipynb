{
 "cells": [
  {
   "cell_type": "code",
   "execution_count": 1,
   "metadata": {
    "_cell_guid": "b1076dfc-b9ad-4769-8c92-a6c4dae69d19",
    "_uuid": "8f2839f25d086af736a60e9eeb907d3b93b6e0e5",
    "execution": {
     "iopub.execute_input": "2024-12-15T06:01:17.820659Z",
     "iopub.status.busy": "2024-12-15T06:01:17.820304Z",
     "iopub.status.idle": "2024-12-15T06:01:28.248929Z",
     "shell.execute_reply": "2024-12-15T06:01:28.248118Z",
     "shell.execute_reply.started": "2024-12-15T06:01:17.820603Z"
    },
    "trusted": true
   },
   "outputs": [
    {
     "name": "stdout",
     "output_type": "stream",
     "text": [
      "Collecting ultralytics\n",
      "  Downloading ultralytics-8.3.49-py3-none-any.whl.metadata (35 kB)\n",
      "Requirement already satisfied: numpy>=1.23.0 in /opt/conda/lib/python3.10/site-packages (from ultralytics) (1.26.4)\n",
      "Requirement already satisfied: matplotlib>=3.3.0 in /opt/conda/lib/python3.10/site-packages (from ultralytics) (3.7.5)\n",
      "Requirement already satisfied: opencv-python>=4.6.0 in /opt/conda/lib/python3.10/site-packages (from ultralytics) (4.10.0.84)\n",
      "Requirement already satisfied: pillow>=7.1.2 in /opt/conda/lib/python3.10/site-packages (from ultralytics) (10.3.0)\n",
      "Requirement already satisfied: pyyaml>=5.3.1 in /opt/conda/lib/python3.10/site-packages (from ultralytics) (6.0.2)\n",
      "Requirement already satisfied: requests>=2.23.0 in /opt/conda/lib/python3.10/site-packages (from ultralytics) (2.32.3)\n",
      "Requirement already satisfied: scipy>=1.4.1 in /opt/conda/lib/python3.10/site-packages (from ultralytics) (1.14.1)\n",
      "Requirement already satisfied: torch>=1.8.0 in /opt/conda/lib/python3.10/site-packages (from ultralytics) (2.4.0)\n",
      "Requirement already satisfied: torchvision>=0.9.0 in /opt/conda/lib/python3.10/site-packages (from ultralytics) (0.19.0)\n",
      "Requirement already satisfied: tqdm>=4.64.0 in /opt/conda/lib/python3.10/site-packages (from ultralytics) (4.66.4)\n",
      "Requirement already satisfied: psutil in /opt/conda/lib/python3.10/site-packages (from ultralytics) (5.9.3)\n",
      "Requirement already satisfied: py-cpuinfo in /opt/conda/lib/python3.10/site-packages (from ultralytics) (9.0.0)\n",
      "Requirement already satisfied: pandas>=1.1.4 in /opt/conda/lib/python3.10/site-packages (from ultralytics) (2.2.3)\n",
      "Requirement already satisfied: seaborn>=0.11.0 in /opt/conda/lib/python3.10/site-packages (from ultralytics) (0.12.2)\n",
      "Collecting ultralytics-thop>=2.0.0 (from ultralytics)\n",
      "  Downloading ultralytics_thop-2.0.13-py3-none-any.whl.metadata (9.4 kB)\n",
      "Requirement already satisfied: contourpy>=1.0.1 in /opt/conda/lib/python3.10/site-packages (from matplotlib>=3.3.0->ultralytics) (1.2.1)\n",
      "Requirement already satisfied: cycler>=0.10 in /opt/conda/lib/python3.10/site-packages (from matplotlib>=3.3.0->ultralytics) (0.12.1)\n",
      "Requirement already satisfied: fonttools>=4.22.0 in /opt/conda/lib/python3.10/site-packages (from matplotlib>=3.3.0->ultralytics) (4.53.0)\n",
      "Requirement already satisfied: kiwisolver>=1.0.1 in /opt/conda/lib/python3.10/site-packages (from matplotlib>=3.3.0->ultralytics) (1.4.5)\n",
      "Requirement already satisfied: packaging>=20.0 in /opt/conda/lib/python3.10/site-packages (from matplotlib>=3.3.0->ultralytics) (21.3)\n",
      "Requirement already satisfied: pyparsing>=2.3.1 in /opt/conda/lib/python3.10/site-packages (from matplotlib>=3.3.0->ultralytics) (3.1.2)\n",
      "Requirement already satisfied: python-dateutil>=2.7 in /opt/conda/lib/python3.10/site-packages (from matplotlib>=3.3.0->ultralytics) (2.9.0.post0)\n",
      "Requirement already satisfied: pytz>=2020.1 in /opt/conda/lib/python3.10/site-packages (from pandas>=1.1.4->ultralytics) (2024.1)\n",
      "Requirement already satisfied: tzdata>=2022.7 in /opt/conda/lib/python3.10/site-packages (from pandas>=1.1.4->ultralytics) (2024.1)\n",
      "Requirement already satisfied: charset-normalizer<4,>=2 in /opt/conda/lib/python3.10/site-packages (from requests>=2.23.0->ultralytics) (3.3.2)\n",
      "Requirement already satisfied: idna<4,>=2.5 in /opt/conda/lib/python3.10/site-packages (from requests>=2.23.0->ultralytics) (3.7)\n",
      "Requirement already satisfied: urllib3<3,>=1.21.1 in /opt/conda/lib/python3.10/site-packages (from requests>=2.23.0->ultralytics) (1.26.18)\n",
      "Requirement already satisfied: certifi>=2017.4.17 in /opt/conda/lib/python3.10/site-packages (from requests>=2.23.0->ultralytics) (2024.6.2)\n",
      "Requirement already satisfied: filelock in /opt/conda/lib/python3.10/site-packages (from torch>=1.8.0->ultralytics) (3.15.1)\n",
      "Requirement already satisfied: typing-extensions>=4.8.0 in /opt/conda/lib/python3.10/site-packages (from torch>=1.8.0->ultralytics) (4.12.2)\n",
      "Requirement already satisfied: sympy in /opt/conda/lib/python3.10/site-packages (from torch>=1.8.0->ultralytics) (1.13.3)\n",
      "Requirement already satisfied: networkx in /opt/conda/lib/python3.10/site-packages (from torch>=1.8.0->ultralytics) (3.3)\n",
      "Requirement already satisfied: jinja2 in /opt/conda/lib/python3.10/site-packages (from torch>=1.8.0->ultralytics) (3.1.4)\n",
      "Requirement already satisfied: fsspec in /opt/conda/lib/python3.10/site-packages (from torch>=1.8.0->ultralytics) (2024.6.0)\n",
      "Requirement already satisfied: six>=1.5 in /opt/conda/lib/python3.10/site-packages (from python-dateutil>=2.7->matplotlib>=3.3.0->ultralytics) (1.16.0)\n",
      "Requirement already satisfied: MarkupSafe>=2.0 in /opt/conda/lib/python3.10/site-packages (from jinja2->torch>=1.8.0->ultralytics) (2.1.5)\n",
      "Requirement already satisfied: mpmath<1.4,>=1.1.0 in /opt/conda/lib/python3.10/site-packages (from sympy->torch>=1.8.0->ultralytics) (1.3.0)\n",
      "Downloading ultralytics-8.3.49-py3-none-any.whl (898 kB)\n",
      "\u001B[2K   \u001B[90m━━━━━━━━━━━━━━━━━━━━━━━━━━━━━━━━━━━━━━━━\u001B[0m \u001B[32m898.7/898.7 kB\u001B[0m \u001B[31m16.0 MB/s\u001B[0m eta \u001B[36m0:00:00\u001B[0ma \u001B[36m0:00:01\u001B[0m\n",
      "\u001B[?25hDownloading ultralytics_thop-2.0.13-py3-none-any.whl (26 kB)\n",
      "Installing collected packages: ultralytics-thop, ultralytics\n",
      "Successfully installed ultralytics-8.3.49 ultralytics-thop-2.0.13\n"
     ]
    }
   ],
   "source": [
    "!pip install ultralytics"
   ]
  },
  {
   "cell_type": "code",
   "execution_count": 2,
   "metadata": {
    "execution": {
     "iopub.execute_input": "2024-12-15T06:01:28.250981Z",
     "iopub.status.busy": "2024-12-15T06:01:28.250691Z",
     "iopub.status.idle": "2024-12-15T06:33:17.404443Z",
     "shell.execute_reply": "2024-12-15T06:33:17.403516Z",
     "shell.execute_reply.started": "2024-12-15T06:01:28.250953Z"
    },
    "trusted": true
   },
   "outputs": [
    {
     "name": "stdout",
     "output_type": "stream",
     "text": [
      "Creating new Ultralytics Settings v0.0.6 file ✅ \n",
      "View Ultralytics Settings with 'yolo settings' or at '/root/.config/Ultralytics/settings.json'\n",
      "Update Settings with 'yolo settings key=value', i.e. 'yolo settings runs_dir=path/to/dir'. For help see https://docs.ultralytics.com/quickstart/#ultralytics-settings.\n",
      "Downloading https://github.com/ultralytics/assets/releases/download/v8.3.0/yolov8n.pt to 'yolov8n.pt'...\n"
     ]
    },
    {
     "name": "stderr",
     "output_type": "stream",
     "text": [
      "100%|██████████| 6.25M/6.25M [00:00<00:00, 85.3MB/s]\n"
     ]
    },
    {
     "name": "stdout",
     "output_type": "stream",
     "text": [
      "Ultralytics 8.3.49 🚀 Python-3.10.14 torch-2.4.0 CUDA:0 (Tesla T4, 15095MiB)\n",
      "\u001B[34m\u001B[1mengine/trainer: \u001B[0mtask=detect, mode=train, model=yolov8n.pt, data=/kaggle/input/hands-data/archive/data.yaml, epochs=100, time=None, patience=15, batch=64, imgsz=640, save=True, save_period=-1, cache=False, device=None, workers=8, project=None, name=train, exist_ok=False, pretrained=True, optimizer=auto, verbose=True, seed=0, deterministic=True, single_cls=False, rect=False, cos_lr=False, close_mosaic=10, resume=False, amp=True, fraction=1.0, profile=False, freeze=None, multi_scale=False, overlap_mask=True, mask_ratio=4, dropout=0.0, val=True, split=val, save_json=False, save_hybrid=False, conf=None, iou=0.7, max_det=300, half=False, dnn=False, plots=True, source=None, vid_stride=1, stream_buffer=False, visualize=False, augment=True, agnostic_nms=False, classes=None, retina_masks=False, embed=None, show=False, save_frames=False, save_txt=False, save_conf=False, save_crop=False, show_labels=True, show_conf=True, show_boxes=True, line_width=None, format=torchscript, keras=False, optimize=False, int8=False, dynamic=False, simplify=True, opset=None, workspace=None, nms=False, lr0=0.01, lrf=0.01, momentum=0.937, weight_decay=0.0005, warmup_epochs=3.0, warmup_momentum=0.8, warmup_bias_lr=0.1, box=7.5, cls=0.5, dfl=1.5, pose=12.0, kobj=1.0, nbs=64, hsv_h=0.015, hsv_s=0.7, hsv_v=0.4, degrees=0.0, translate=0.1, scale=0.5, shear=0.0, perspective=0.0, flipud=0.0, fliplr=0.5, bgr=0.0, mosaic=1.0, mixup=0.0, copy_paste=0.0, copy_paste_mode=flip, auto_augment=randaugment, erasing=0.4, crop_fraction=1.0, cfg=None, tracker=botsort.yaml, save_dir=runs/detect/train\n",
      "Downloading https://ultralytics.com/assets/Arial.ttf to '/root/.config/Ultralytics/Arial.ttf'...\n"
     ]
    },
    {
     "name": "stderr",
     "output_type": "stream",
     "text": [
      "100%|██████████| 755k/755k [00:00<00:00, 17.8MB/s]\n"
     ]
    },
    {
     "name": "stdout",
     "output_type": "stream",
     "text": [
      "Overriding model.yaml nc=80 with nc=1\n",
      "\n",
      "                   from  n    params  module                                       arguments                     \n",
      "  0                  -1  1       464  ultralytics.nn.modules.conv.Conv             [3, 16, 3, 2]                 \n",
      "  1                  -1  1      4672  ultralytics.nn.modules.conv.Conv             [16, 32, 3, 2]                \n",
      "  2                  -1  1      7360  ultralytics.nn.modules.block.C2f             [32, 32, 1, True]             \n",
      "  3                  -1  1     18560  ultralytics.nn.modules.conv.Conv             [32, 64, 3, 2]                \n",
      "  4                  -1  2     49664  ultralytics.nn.modules.block.C2f             [64, 64, 2, True]             \n",
      "  5                  -1  1     73984  ultralytics.nn.modules.conv.Conv             [64, 128, 3, 2]               \n",
      "  6                  -1  2    197632  ultralytics.nn.modules.block.C2f             [128, 128, 2, True]           \n",
      "  7                  -1  1    295424  ultralytics.nn.modules.conv.Conv             [128, 256, 3, 2]              \n",
      "  8                  -1  1    460288  ultralytics.nn.modules.block.C2f             [256, 256, 1, True]           \n",
      "  9                  -1  1    164608  ultralytics.nn.modules.block.SPPF            [256, 256, 5]                 \n",
      " 10                  -1  1         0  torch.nn.modules.upsampling.Upsample         [None, 2, 'nearest']          \n",
      " 11             [-1, 6]  1         0  ultralytics.nn.modules.conv.Concat           [1]                           \n",
      " 12                  -1  1    148224  ultralytics.nn.modules.block.C2f             [384, 128, 1]                 \n",
      " 13                  -1  1         0  torch.nn.modules.upsampling.Upsample         [None, 2, 'nearest']          \n",
      " 14             [-1, 4]  1         0  ultralytics.nn.modules.conv.Concat           [1]                           \n",
      " 15                  -1  1     37248  ultralytics.nn.modules.block.C2f             [192, 64, 1]                  \n",
      " 16                  -1  1     36992  ultralytics.nn.modules.conv.Conv             [64, 64, 3, 2]                \n",
      " 17            [-1, 12]  1         0  ultralytics.nn.modules.conv.Concat           [1]                           \n",
      " 18                  -1  1    123648  ultralytics.nn.modules.block.C2f             [192, 128, 1]                 \n",
      " 19                  -1  1    147712  ultralytics.nn.modules.conv.Conv             [128, 128, 3, 2]              \n",
      " 20             [-1, 9]  1         0  ultralytics.nn.modules.conv.Concat           [1]                           \n",
      " 21                  -1  1    493056  ultralytics.nn.modules.block.C2f             [384, 256, 1]                 \n",
      " 22        [15, 18, 21]  1    751507  ultralytics.nn.modules.head.Detect           [1, [64, 128, 256]]           \n",
      "Model summary: 225 layers, 3,011,043 parameters, 3,011,027 gradients, 8.2 GFLOPs\n",
      "\n",
      "Transferred 319/355 items from pretrained weights\n",
      "\u001B[34m\u001B[1mTensorBoard: \u001B[0mStart with 'tensorboard --logdir runs/detect/train', view at http://localhost:6006/\n",
      "Freezing layer 'model.22.dfl.conv.weight'\n",
      "\u001B[34m\u001B[1mAMP: \u001B[0mrunning Automatic Mixed Precision (AMP) checks...\n",
      "Downloading https://github.com/ultralytics/assets/releases/download/v8.3.0/yolo11n.pt to 'yolo11n.pt'...\n"
     ]
    },
    {
     "name": "stderr",
     "output_type": "stream",
     "text": [
      "100%|██████████| 5.35M/5.35M [00:00<00:00, 75.5MB/s]\n"
     ]
    },
    {
     "name": "stdout",
     "output_type": "stream",
     "text": [
      "\u001B[34m\u001B[1mAMP: \u001B[0mchecks passed ✅\n"
     ]
    },
    {
     "name": "stderr",
     "output_type": "stream",
     "text": [
      "\u001B[34m\u001B[1mtrain: \u001B[0mScanning /kaggle/input/hands-data/archive/train/labels... 1551 images, 0 backgrounds, 0 corrupt: 100%|██████████| 1551/1551 [00:08<00:00, 172.91it/s]"
     ]
    },
    {
     "name": "stdout",
     "output_type": "stream",
     "text": [
      "\u001B[34m\u001B[1mtrain: \u001B[0mWARNING ⚠️ /kaggle/input/hands-data/archive/train/images/Poselet_10.jpg: 1 duplicate labels removed\n",
      "\u001B[34m\u001B[1mtrain: \u001B[0mWARNING ⚠️ /kaggle/input/hands-data/archive/train/images/Poselet_180.jpg: 1 duplicate labels removed\n",
      "\u001B[34m\u001B[1mtrain: \u001B[0mWARNING ⚠️ /kaggle/input/hands-data/archive/train/images/Poselet_247.jpg: 1 duplicate labels removed\n",
      "\u001B[34m\u001B[1mtrain: \u001B[0mWARNING ⚠️ /kaggle/input/hands-data/archive/train/images/Poselet_268.jpg: 1 duplicate labels removed\n",
      "\u001B[34m\u001B[1mtrain: \u001B[0mWARNING ⚠️ /kaggle/input/hands-data/archive/train/images/Poselet_282.jpg: 1 duplicate labels removed\n",
      "\u001B[34m\u001B[1mtrain: \u001B[0mWARNING ⚠️ /kaggle/input/hands-data/archive/train/images/Poselet_290.jpg: 1 duplicate labels removed\n",
      "\u001B[34m\u001B[1mtrain: \u001B[0mWARNING ⚠️ /kaggle/input/hands-data/archive/train/images/Poselet_298.jpg: 1 duplicate labels removed\n",
      "\u001B[34m\u001B[1mtrain: \u001B[0mWARNING ⚠️ /kaggle/input/hands-data/archive/train/images/Poselet_359.jpg: 1 duplicate labels removed\n",
      "\u001B[34m\u001B[1mtrain: \u001B[0mWARNING ⚠️ /kaggle/input/hands-data/archive/train/images/Skin_281.jpg: 1 duplicate labels removed\n",
      "\u001B[34m\u001B[1mtrain: \u001B[0mWARNING ⚠️ /kaggle/input/hands-data/archive/train/images/VOC2010_723.jpg: 1 duplicate labels removed\n",
      "\u001B[34m\u001B[1mtrain: \u001B[0mWARNING ⚠️ /kaggle/input/hands-data/archive/train/images/VOC2010_749.jpg: 1 duplicate labels removed\n"
     ]
    },
    {
     "name": "stderr",
     "output_type": "stream",
     "text": [
      "\n"
     ]
    },
    {
     "name": "stdout",
     "output_type": "stream",
     "text": [
      "\u001B[34m\u001B[1mtrain: \u001B[0mWARNING ⚠️ Cache directory /kaggle/input/hands-data/archive/train is not writeable, cache not saved.\n",
      "\u001B[34m\u001B[1malbumentations: \u001B[0mBlur(p=0.01, blur_limit=(3, 7)), MedianBlur(p=0.01, blur_limit=(3, 7)), ToGray(p=0.01, num_output_channels=3, method='weighted_average'), CLAHE(p=0.01, clip_limit=(1.0, 4.0), tile_grid_size=(8, 8))\n"
     ]
    },
    {
     "name": "stderr",
     "output_type": "stream",
     "text": [
      "/opt/conda/lib/python3.10/site-packages/albumentations/__init__.py:24: UserWarning: A new version of Albumentations is available: 1.4.22 (you have 1.4.21). Upgrade using: pip install -U albumentations. To disable automatic update checks, set the environment variable NO_ALBUMENTATIONS_UPDATE to 1.\n",
      "  check_for_updates()\n",
      "/opt/conda/lib/python3.10/multiprocessing/popen_fork.py:66: RuntimeWarning: os.fork() was called. os.fork() is incompatible with multithreaded code, and JAX is multithreaded, so this will likely lead to a deadlock.\n",
      "  self.pid = os.fork()\n",
      "\u001B[34m\u001B[1mval: \u001B[0mScanning /kaggle/input/hands-data/archive/valid/labels... 510 images, 0 backgrounds, 0 corrupt: 100%|██████████| 510/510 [00:02<00:00, 172.52it/s]"
     ]
    },
    {
     "name": "stdout",
     "output_type": "stream",
     "text": [
      "\u001B[34m\u001B[1mval: \u001B[0mWARNING ⚠️ Cache directory /kaggle/input/hands-data/archive/valid is not writeable, cache not saved.\n"
     ]
    },
    {
     "name": "stderr",
     "output_type": "stream",
     "text": [
      "\n"
     ]
    },
    {
     "name": "stdout",
     "output_type": "stream",
     "text": [
      "Plotting labels to runs/detect/train/labels.jpg... \n",
      "\u001B[34m\u001B[1moptimizer:\u001B[0m 'optimizer=auto' found, ignoring 'lr0=0.01' and 'momentum=0.937' and determining best 'optimizer', 'lr0' and 'momentum' automatically... \n",
      "\u001B[34m\u001B[1moptimizer:\u001B[0m AdamW(lr=0.002, momentum=0.9) with parameter groups 57 weight(decay=0.0), 64 weight(decay=0.0005), 63 bias(decay=0.0)\n",
      "\u001B[34m\u001B[1mTensorBoard: \u001B[0mmodel graph visualization added ✅\n",
      "Image sizes 640 train, 640 val\n",
      "Using 2 dataloader workers\n",
      "Logging results to \u001B[1mruns/detect/train\u001B[0m\n",
      "Starting training for 100 epochs...\n",
      "\n",
      "      Epoch    GPU_mem   box_loss   cls_loss   dfl_loss  Instances       Size\n"
     ]
    },
    {
     "name": "stderr",
     "output_type": "stream",
     "text": [
      "      1/100      8.14G      1.962      3.238      1.711         43        640: 100%|██████████| 25/25 [00:16<00:00,  1.52it/s]\n",
      "                 Class     Images  Instances      Box(P          R      mAP50  mAP50-95): 100%|██████████| 4/4 [00:04<00:00,  1.03s/it]"
     ]
    },
    {
     "name": "stdout",
     "output_type": "stream",
     "text": [
      "                   all        510       1003    0.00625      0.953      0.217     0.0812\n"
     ]
    },
    {
     "name": "stderr",
     "output_type": "stream",
     "text": [
      "\n"
     ]
    },
    {
     "name": "stdout",
     "output_type": "stream",
     "text": [
      "\n",
      "      Epoch    GPU_mem   box_loss   cls_loss   dfl_loss  Instances       Size\n"
     ]
    },
    {
     "name": "stderr",
     "output_type": "stream",
     "text": [
      "      2/100      8.14G      1.686      2.094      1.461         33        640: 100%|██████████| 25/25 [00:13<00:00,  1.82it/s]\n",
      "                 Class     Images  Instances      Box(P          R      mAP50  mAP50-95): 100%|██████████| 4/4 [00:03<00:00,  1.29it/s]"
     ]
    },
    {
     "name": "stdout",
     "output_type": "stream",
     "text": [
      "                   all        510       1003      0.629      0.086      0.231     0.0913\n"
     ]
    },
    {
     "name": "stderr",
     "output_type": "stream",
     "text": [
      "\n"
     ]
    },
    {
     "name": "stdout",
     "output_type": "stream",
     "text": [
      "\n",
      "      Epoch    GPU_mem   box_loss   cls_loss   dfl_loss  Instances       Size\n"
     ]
    },
    {
     "name": "stderr",
     "output_type": "stream",
     "text": [
      "      3/100      8.11G      1.705      1.933       1.47         45        640: 100%|██████████| 25/25 [00:14<00:00,  1.72it/s]\n",
      "                 Class     Images  Instances      Box(P          R      mAP50  mAP50-95): 100%|██████████| 4/4 [00:03<00:00,  1.21it/s]"
     ]
    },
    {
     "name": "stdout",
     "output_type": "stream",
     "text": [
      "                   all        510       1003       0.32       0.33       0.23     0.0985\n"
     ]
    },
    {
     "name": "stderr",
     "output_type": "stream",
     "text": [
      "\n"
     ]
    },
    {
     "name": "stdout",
     "output_type": "stream",
     "text": [
      "\n",
      "      Epoch    GPU_mem   box_loss   cls_loss   dfl_loss  Instances       Size\n"
     ]
    },
    {
     "name": "stderr",
     "output_type": "stream",
     "text": [
      "      4/100      8.06G      1.719      1.821      1.502         53        640: 100%|██████████| 25/25 [00:13<00:00,  1.81it/s]\n",
      "                 Class     Images  Instances      Box(P          R      mAP50  mAP50-95): 100%|██████████| 4/4 [00:03<00:00,  1.22it/s]"
     ]
    },
    {
     "name": "stdout",
     "output_type": "stream",
     "text": [
      "                   all        510       1003      0.448      0.394      0.379      0.162\n"
     ]
    },
    {
     "name": "stderr",
     "output_type": "stream",
     "text": [
      "\n"
     ]
    },
    {
     "name": "stdout",
     "output_type": "stream",
     "text": [
      "\n",
      "      Epoch    GPU_mem   box_loss   cls_loss   dfl_loss  Instances       Size\n"
     ]
    },
    {
     "name": "stderr",
     "output_type": "stream",
     "text": [
      "      5/100      8.06G      1.741      1.771      1.519         70        640: 100%|██████████| 25/25 [00:14<00:00,  1.79it/s]\n",
      "                 Class     Images  Instances      Box(P          R      mAP50  mAP50-95): 100%|██████████| 4/4 [00:03<00:00,  1.29it/s]"
     ]
    },
    {
     "name": "stdout",
     "output_type": "stream",
     "text": [
      "                   all        510       1003      0.121      0.258     0.0837     0.0391\n"
     ]
    },
    {
     "name": "stderr",
     "output_type": "stream",
     "text": [
      "\n"
     ]
    },
    {
     "name": "stdout",
     "output_type": "stream",
     "text": [
      "\n",
      "      Epoch    GPU_mem   box_loss   cls_loss   dfl_loss  Instances       Size\n"
     ]
    },
    {
     "name": "stderr",
     "output_type": "stream",
     "text": [
      "      6/100      8.13G      1.683      1.605      1.491         44        640: 100%|██████████| 25/25 [00:14<00:00,  1.74it/s]\n",
      "                 Class     Images  Instances      Box(P          R      mAP50  mAP50-95): 100%|██████████| 4/4 [00:03<00:00,  1.23it/s]"
     ]
    },
    {
     "name": "stdout",
     "output_type": "stream",
     "text": [
      "                   all        510       1003       0.33      0.324       0.24      0.111\n"
     ]
    },
    {
     "name": "stderr",
     "output_type": "stream",
     "text": [
      "\n"
     ]
    },
    {
     "name": "stdout",
     "output_type": "stream",
     "text": [
      "\n",
      "      Epoch    GPU_mem   box_loss   cls_loss   dfl_loss  Instances       Size\n"
     ]
    },
    {
     "name": "stderr",
     "output_type": "stream",
     "text": [
      "      7/100      8.13G       1.69      1.564      1.468         55        640: 100%|██████████| 25/25 [00:14<00:00,  1.73it/s]\n",
      "                 Class     Images  Instances      Box(P          R      mAP50  mAP50-95): 100%|██████████| 4/4 [00:03<00:00,  1.25it/s]"
     ]
    },
    {
     "name": "stdout",
     "output_type": "stream",
     "text": [
      "                   all        510       1003      0.594      0.515      0.559      0.265\n"
     ]
    },
    {
     "name": "stderr",
     "output_type": "stream",
     "text": [
      "\n"
     ]
    },
    {
     "name": "stdout",
     "output_type": "stream",
     "text": [
      "\n",
      "      Epoch    GPU_mem   box_loss   cls_loss   dfl_loss  Instances       Size\n"
     ]
    },
    {
     "name": "stderr",
     "output_type": "stream",
     "text": [
      "      8/100      8.11G      1.647      1.483      1.464         37        640: 100%|██████████| 25/25 [00:14<00:00,  1.67it/s]\n",
      "                 Class     Images  Instances      Box(P          R      mAP50  mAP50-95): 100%|██████████| 4/4 [00:03<00:00,  1.31it/s]"
     ]
    },
    {
     "name": "stdout",
     "output_type": "stream",
     "text": [
      "                   all        510       1003       0.59      0.569      0.585      0.288\n"
     ]
    },
    {
     "name": "stderr",
     "output_type": "stream",
     "text": [
      "\n"
     ]
    },
    {
     "name": "stdout",
     "output_type": "stream",
     "text": [
      "\n",
      "      Epoch    GPU_mem   box_loss   cls_loss   dfl_loss  Instances       Size\n"
     ]
    },
    {
     "name": "stderr",
     "output_type": "stream",
     "text": [
      "      9/100      8.06G      1.618      1.421      1.446         41        640: 100%|██████████| 25/25 [00:14<00:00,  1.67it/s]\n",
      "                 Class     Images  Instances      Box(P          R      mAP50  mAP50-95): 100%|██████████| 4/4 [00:03<00:00,  1.30it/s]"
     ]
    },
    {
     "name": "stdout",
     "output_type": "stream",
     "text": [
      "                   all        510       1003      0.624      0.535      0.609      0.284\n"
     ]
    },
    {
     "name": "stderr",
     "output_type": "stream",
     "text": [
      "\n"
     ]
    },
    {
     "name": "stdout",
     "output_type": "stream",
     "text": [
      "\n",
      "      Epoch    GPU_mem   box_loss   cls_loss   dfl_loss  Instances       Size\n"
     ]
    },
    {
     "name": "stderr",
     "output_type": "stream",
     "text": [
      "     10/100      8.14G      1.622      1.387      1.438         50        640: 100%|██████████| 25/25 [00:14<00:00,  1.67it/s]\n",
      "                 Class     Images  Instances      Box(P          R      mAP50  mAP50-95): 100%|██████████| 4/4 [00:03<00:00,  1.32it/s]"
     ]
    },
    {
     "name": "stdout",
     "output_type": "stream",
     "text": [
      "                   all        510       1003      0.653      0.532      0.592      0.294\n"
     ]
    },
    {
     "name": "stderr",
     "output_type": "stream",
     "text": [
      "\n"
     ]
    },
    {
     "name": "stdout",
     "output_type": "stream",
     "text": [
      "\n",
      "      Epoch    GPU_mem   box_loss   cls_loss   dfl_loss  Instances       Size\n"
     ]
    },
    {
     "name": "stderr",
     "output_type": "stream",
     "text": [
      "     11/100      8.12G      1.612       1.36      1.457         45        640: 100%|██████████| 25/25 [00:14<00:00,  1.68it/s]\n",
      "                 Class     Images  Instances      Box(P          R      mAP50  mAP50-95): 100%|██████████| 4/4 [00:03<00:00,  1.22it/s]"
     ]
    },
    {
     "name": "stdout",
     "output_type": "stream",
     "text": [
      "                   all        510       1003      0.686      0.554      0.612       0.26\n"
     ]
    },
    {
     "name": "stderr",
     "output_type": "stream",
     "text": [
      "\n"
     ]
    },
    {
     "name": "stdout",
     "output_type": "stream",
     "text": [
      "\n",
      "      Epoch    GPU_mem   box_loss   cls_loss   dfl_loss  Instances       Size\n"
     ]
    },
    {
     "name": "stderr",
     "output_type": "stream",
     "text": [
      "     12/100      8.15G      1.582      1.329      1.432         43        640: 100%|██████████| 25/25 [00:14<00:00,  1.72it/s]\n",
      "                 Class     Images  Instances      Box(P          R      mAP50  mAP50-95): 100%|██████████| 4/4 [00:03<00:00,  1.26it/s]"
     ]
    },
    {
     "name": "stdout",
     "output_type": "stream",
     "text": [
      "                   all        510       1003      0.696      0.634      0.685      0.329\n"
     ]
    },
    {
     "name": "stderr",
     "output_type": "stream",
     "text": [
      "\n"
     ]
    },
    {
     "name": "stdout",
     "output_type": "stream",
     "text": [
      "\n",
      "      Epoch    GPU_mem   box_loss   cls_loss   dfl_loss  Instances       Size\n"
     ]
    },
    {
     "name": "stderr",
     "output_type": "stream",
     "text": [
      "     13/100      8.06G      1.577      1.301       1.41         59        640: 100%|██████████| 25/25 [00:15<00:00,  1.60it/s]\n",
      "                 Class     Images  Instances      Box(P          R      mAP50  mAP50-95): 100%|██████████| 4/4 [00:03<00:00,  1.31it/s]"
     ]
    },
    {
     "name": "stdout",
     "output_type": "stream",
     "text": [
      "                   all        510       1003      0.697      0.631      0.678      0.338\n"
     ]
    },
    {
     "name": "stderr",
     "output_type": "stream",
     "text": [
      "\n"
     ]
    },
    {
     "name": "stdout",
     "output_type": "stream",
     "text": [
      "\n",
      "      Epoch    GPU_mem   box_loss   cls_loss   dfl_loss  Instances       Size\n"
     ]
    },
    {
     "name": "stderr",
     "output_type": "stream",
     "text": [
      "     14/100      8.16G      1.577      1.271      1.414         40        640: 100%|██████████| 25/25 [00:14<00:00,  1.71it/s]\n",
      "                 Class     Images  Instances      Box(P          R      mAP50  mAP50-95): 100%|██████████| 4/4 [00:02<00:00,  1.35it/s]"
     ]
    },
    {
     "name": "stdout",
     "output_type": "stream",
     "text": [
      "                   all        510       1003      0.672      0.546      0.622      0.295\n"
     ]
    },
    {
     "name": "stderr",
     "output_type": "stream",
     "text": [
      "\n"
     ]
    },
    {
     "name": "stdout",
     "output_type": "stream",
     "text": [
      "\n",
      "      Epoch    GPU_mem   box_loss   cls_loss   dfl_loss  Instances       Size\n"
     ]
    },
    {
     "name": "stderr",
     "output_type": "stream",
     "text": [
      "     15/100      8.06G      1.563      1.222      1.401         48        640: 100%|██████████| 25/25 [00:15<00:00,  1.66it/s]\n",
      "                 Class     Images  Instances      Box(P          R      mAP50  mAP50-95): 100%|██████████| 4/4 [00:03<00:00,  1.26it/s]"
     ]
    },
    {
     "name": "stdout",
     "output_type": "stream",
     "text": [
      "                   all        510       1003      0.764       0.62      0.704       0.35\n"
     ]
    },
    {
     "name": "stderr",
     "output_type": "stream",
     "text": [
      "\n"
     ]
    },
    {
     "name": "stdout",
     "output_type": "stream",
     "text": [
      "\n",
      "      Epoch    GPU_mem   box_loss   cls_loss   dfl_loss  Instances       Size\n"
     ]
    },
    {
     "name": "stderr",
     "output_type": "stream",
     "text": [
      "     16/100      8.11G       1.55       1.24      1.401         51        640: 100%|██████████| 25/25 [00:14<00:00,  1.71it/s]\n",
      "                 Class     Images  Instances      Box(P          R      mAP50  mAP50-95): 100%|██████████| 4/4 [00:03<00:00,  1.28it/s]"
     ]
    },
    {
     "name": "stdout",
     "output_type": "stream",
     "text": [
      "                   all        510       1003      0.784      0.672      0.769      0.383\n"
     ]
    },
    {
     "name": "stderr",
     "output_type": "stream",
     "text": [
      "\n"
     ]
    },
    {
     "name": "stdout",
     "output_type": "stream",
     "text": [
      "\n",
      "      Epoch    GPU_mem   box_loss   cls_loss   dfl_loss  Instances       Size\n"
     ]
    },
    {
     "name": "stderr",
     "output_type": "stream",
     "text": [
      "     17/100      8.11G      1.537      1.188      1.381         49        640: 100%|██████████| 25/25 [00:14<00:00,  1.70it/s]\n",
      "                 Class     Images  Instances      Box(P          R      mAP50  mAP50-95): 100%|██████████| 4/4 [00:03<00:00,  1.28it/s]"
     ]
    },
    {
     "name": "stdout",
     "output_type": "stream",
     "text": [
      "                   all        510       1003      0.733      0.704      0.758      0.388\n"
     ]
    },
    {
     "name": "stderr",
     "output_type": "stream",
     "text": [
      "\n"
     ]
    },
    {
     "name": "stdout",
     "output_type": "stream",
     "text": [
      "\n",
      "      Epoch    GPU_mem   box_loss   cls_loss   dfl_loss  Instances       Size\n"
     ]
    },
    {
     "name": "stderr",
     "output_type": "stream",
     "text": [
      "     18/100      8.06G      1.542      1.203      1.374         49        640: 100%|██████████| 25/25 [00:14<00:00,  1.71it/s]\n",
      "                 Class     Images  Instances      Box(P          R      mAP50  mAP50-95): 100%|██████████| 4/4 [00:03<00:00,  1.21it/s]"
     ]
    },
    {
     "name": "stdout",
     "output_type": "stream",
     "text": [
      "                   all        510       1003      0.735      0.562       0.66      0.338\n"
     ]
    },
    {
     "name": "stderr",
     "output_type": "stream",
     "text": [
      "\n"
     ]
    },
    {
     "name": "stdout",
     "output_type": "stream",
     "text": [
      "\n",
      "      Epoch    GPU_mem   box_loss   cls_loss   dfl_loss  Instances       Size\n"
     ]
    },
    {
     "name": "stderr",
     "output_type": "stream",
     "text": [
      "     19/100      8.12G       1.53      1.153      1.374         52        640: 100%|██████████| 25/25 [00:14<00:00,  1.70it/s]\n",
      "                 Class     Images  Instances      Box(P          R      mAP50  mAP50-95): 100%|██████████| 4/4 [00:03<00:00,  1.31it/s]"
     ]
    },
    {
     "name": "stdout",
     "output_type": "stream",
     "text": [
      "                   all        510       1003      0.771      0.664      0.762      0.379\n"
     ]
    },
    {
     "name": "stderr",
     "output_type": "stream",
     "text": [
      "\n"
     ]
    },
    {
     "name": "stdout",
     "output_type": "stream",
     "text": [
      "\n",
      "      Epoch    GPU_mem   box_loss   cls_loss   dfl_loss  Instances       Size\n"
     ]
    },
    {
     "name": "stderr",
     "output_type": "stream",
     "text": [
      "     20/100      8.11G      1.491      1.116      1.371         33        640: 100%|██████████| 25/25 [00:14<00:00,  1.68it/s]\n",
      "                 Class     Images  Instances      Box(P          R      mAP50  mAP50-95): 100%|██████████| 4/4 [00:03<00:00,  1.28it/s]"
     ]
    },
    {
     "name": "stdout",
     "output_type": "stream",
     "text": [
      "                   all        510       1003       0.77      0.688      0.774      0.409\n"
     ]
    },
    {
     "name": "stderr",
     "output_type": "stream",
     "text": [
      "\n"
     ]
    },
    {
     "name": "stdout",
     "output_type": "stream",
     "text": [
      "\n",
      "      Epoch    GPU_mem   box_loss   cls_loss   dfl_loss  Instances       Size\n"
     ]
    },
    {
     "name": "stderr",
     "output_type": "stream",
     "text": [
      "     21/100      8.11G      1.513      1.112      1.366         44        640: 100%|██████████| 25/25 [00:15<00:00,  1.65it/s]\n",
      "                 Class     Images  Instances      Box(P          R      mAP50  mAP50-95): 100%|██████████| 4/4 [00:03<00:00,  1.33it/s]"
     ]
    },
    {
     "name": "stdout",
     "output_type": "stream",
     "text": [
      "                   all        510       1003      0.759      0.678      0.763      0.375\n"
     ]
    },
    {
     "name": "stderr",
     "output_type": "stream",
     "text": [
      "\n"
     ]
    },
    {
     "name": "stdout",
     "output_type": "stream",
     "text": [
      "\n",
      "      Epoch    GPU_mem   box_loss   cls_loss   dfl_loss  Instances       Size\n"
     ]
    },
    {
     "name": "stderr",
     "output_type": "stream",
     "text": [
      "     22/100      8.12G      1.455      1.068      1.343         42        640: 100%|██████████| 25/25 [00:14<00:00,  1.69it/s]\n",
      "                 Class     Images  Instances      Box(P          R      mAP50  mAP50-95): 100%|██████████| 4/4 [00:03<00:00,  1.32it/s]"
     ]
    },
    {
     "name": "stdout",
     "output_type": "stream",
     "text": [
      "                   all        510       1003      0.774      0.692      0.763      0.407\n"
     ]
    },
    {
     "name": "stderr",
     "output_type": "stream",
     "text": [
      "\n"
     ]
    },
    {
     "name": "stdout",
     "output_type": "stream",
     "text": [
      "\n",
      "      Epoch    GPU_mem   box_loss   cls_loss   dfl_loss  Instances       Size\n"
     ]
    },
    {
     "name": "stderr",
     "output_type": "stream",
     "text": [
      "     23/100      8.13G      1.506      1.097      1.362         40        640: 100%|██████████| 25/25 [00:14<00:00,  1.72it/s]\n",
      "                 Class     Images  Instances      Box(P          R      mAP50  mAP50-95): 100%|██████████| 4/4 [00:03<00:00,  1.32it/s]"
     ]
    },
    {
     "name": "stdout",
     "output_type": "stream",
     "text": [
      "                   all        510       1003      0.781      0.655      0.751      0.384\n"
     ]
    },
    {
     "name": "stderr",
     "output_type": "stream",
     "text": [
      "\n"
     ]
    },
    {
     "name": "stdout",
     "output_type": "stream",
     "text": [
      "\n",
      "      Epoch    GPU_mem   box_loss   cls_loss   dfl_loss  Instances       Size\n"
     ]
    },
    {
     "name": "stderr",
     "output_type": "stream",
     "text": [
      "     24/100      8.16G      1.483      1.078      1.341         44        640: 100%|██████████| 25/25 [00:14<00:00,  1.68it/s]\n",
      "                 Class     Images  Instances      Box(P          R      mAP50  mAP50-95): 100%|██████████| 4/4 [00:03<00:00,  1.32it/s]"
     ]
    },
    {
     "name": "stdout",
     "output_type": "stream",
     "text": [
      "                   all        510       1003      0.773      0.741      0.802       0.41\n"
     ]
    },
    {
     "name": "stderr",
     "output_type": "stream",
     "text": [
      "\n"
     ]
    },
    {
     "name": "stdout",
     "output_type": "stream",
     "text": [
      "\n",
      "      Epoch    GPU_mem   box_loss   cls_loss   dfl_loss  Instances       Size\n"
     ]
    },
    {
     "name": "stderr",
     "output_type": "stream",
     "text": [
      "     25/100      8.11G      1.464      1.044      1.345         33        640: 100%|██████████| 25/25 [00:14<00:00,  1.71it/s]\n",
      "                 Class     Images  Instances      Box(P          R      mAP50  mAP50-95): 100%|██████████| 4/4 [00:03<00:00,  1.25it/s]"
     ]
    },
    {
     "name": "stdout",
     "output_type": "stream",
     "text": [
      "                   all        510       1003      0.793      0.739       0.82      0.447\n"
     ]
    },
    {
     "name": "stderr",
     "output_type": "stream",
     "text": [
      "\n"
     ]
    },
    {
     "name": "stdout",
     "output_type": "stream",
     "text": [
      "\n",
      "      Epoch    GPU_mem   box_loss   cls_loss   dfl_loss  Instances       Size\n"
     ]
    },
    {
     "name": "stderr",
     "output_type": "stream",
     "text": [
      "     26/100      8.06G      1.456      1.057      1.335         36        640: 100%|██████████| 25/25 [00:14<00:00,  1.72it/s]\n",
      "                 Class     Images  Instances      Box(P          R      mAP50  mAP50-95): 100%|██████████| 4/4 [00:03<00:00,  1.32it/s]"
     ]
    },
    {
     "name": "stdout",
     "output_type": "stream",
     "text": [
      "                   all        510       1003      0.805      0.721      0.809      0.439\n"
     ]
    },
    {
     "name": "stderr",
     "output_type": "stream",
     "text": [
      "\n"
     ]
    },
    {
     "name": "stdout",
     "output_type": "stream",
     "text": [
      "\n",
      "      Epoch    GPU_mem   box_loss   cls_loss   dfl_loss  Instances       Size\n"
     ]
    },
    {
     "name": "stderr",
     "output_type": "stream",
     "text": [
      "     27/100      8.06G      1.431      1.016      1.319         42        640: 100%|██████████| 25/25 [00:14<00:00,  1.69it/s]\n",
      "                 Class     Images  Instances      Box(P          R      mAP50  mAP50-95): 100%|██████████| 4/4 [00:02<00:00,  1.34it/s]"
     ]
    },
    {
     "name": "stdout",
     "output_type": "stream",
     "text": [
      "                   all        510       1003      0.772      0.678      0.765      0.407\n"
     ]
    },
    {
     "name": "stderr",
     "output_type": "stream",
     "text": [
      "\n"
     ]
    },
    {
     "name": "stdout",
     "output_type": "stream",
     "text": [
      "\n",
      "      Epoch    GPU_mem   box_loss   cls_loss   dfl_loss  Instances       Size\n"
     ]
    },
    {
     "name": "stderr",
     "output_type": "stream",
     "text": [
      "     28/100      8.12G      1.427      1.017       1.32         54        640: 100%|██████████| 25/25 [00:14<00:00,  1.70it/s]\n",
      "                 Class     Images  Instances      Box(P          R      mAP50  mAP50-95): 100%|██████████| 4/4 [00:03<00:00,  1.28it/s]"
     ]
    },
    {
     "name": "stdout",
     "output_type": "stream",
     "text": [
      "                   all        510       1003      0.826      0.699      0.807      0.424\n"
     ]
    },
    {
     "name": "stderr",
     "output_type": "stream",
     "text": [
      "\n"
     ]
    },
    {
     "name": "stdout",
     "output_type": "stream",
     "text": [
      "\n",
      "      Epoch    GPU_mem   box_loss   cls_loss   dfl_loss  Instances       Size\n"
     ]
    },
    {
     "name": "stderr",
     "output_type": "stream",
     "text": [
      "     29/100      8.06G        1.4     0.9891      1.303         55        640: 100%|██████████| 25/25 [00:14<00:00,  1.68it/s]\n",
      "                 Class     Images  Instances      Box(P          R      mAP50  mAP50-95): 100%|██████████| 4/4 [00:03<00:00,  1.30it/s]"
     ]
    },
    {
     "name": "stdout",
     "output_type": "stream",
     "text": [
      "                   all        510       1003      0.815      0.726      0.813      0.439\n"
     ]
    },
    {
     "name": "stderr",
     "output_type": "stream",
     "text": [
      "\n"
     ]
    },
    {
     "name": "stdout",
     "output_type": "stream",
     "text": [
      "\n",
      "      Epoch    GPU_mem   box_loss   cls_loss   dfl_loss  Instances       Size\n"
     ]
    },
    {
     "name": "stderr",
     "output_type": "stream",
     "text": [
      "     30/100      8.11G      1.384     0.9562      1.285         39        640: 100%|██████████| 25/25 [00:14<00:00,  1.72it/s]\n",
      "                 Class     Images  Instances      Box(P          R      mAP50  mAP50-95): 100%|██████████| 4/4 [00:03<00:00,  1.26it/s]"
     ]
    },
    {
     "name": "stdout",
     "output_type": "stream",
     "text": [
      "                   all        510       1003      0.826      0.692      0.808      0.439\n"
     ]
    },
    {
     "name": "stderr",
     "output_type": "stream",
     "text": [
      "\n"
     ]
    },
    {
     "name": "stdout",
     "output_type": "stream",
     "text": [
      "\n",
      "      Epoch    GPU_mem   box_loss   cls_loss   dfl_loss  Instances       Size\n"
     ]
    },
    {
     "name": "stderr",
     "output_type": "stream",
     "text": [
      "     31/100      8.06G      1.403     0.9665      1.294         47        640: 100%|██████████| 25/25 [00:14<00:00,  1.71it/s]\n",
      "                 Class     Images  Instances      Box(P          R      mAP50  mAP50-95): 100%|██████████| 4/4 [00:02<00:00,  1.34it/s]"
     ]
    },
    {
     "name": "stdout",
     "output_type": "stream",
     "text": [
      "                   all        510       1003      0.814      0.747      0.823      0.441\n"
     ]
    },
    {
     "name": "stderr",
     "output_type": "stream",
     "text": [
      "\n"
     ]
    },
    {
     "name": "stdout",
     "output_type": "stream",
     "text": [
      "\n",
      "      Epoch    GPU_mem   box_loss   cls_loss   dfl_loss  Instances       Size\n"
     ]
    },
    {
     "name": "stderr",
     "output_type": "stream",
     "text": [
      "     32/100      8.12G       1.42     0.9973      1.308         57        640: 100%|██████████| 25/25 [00:14<00:00,  1.67it/s]\n",
      "                 Class     Images  Instances      Box(P          R      mAP50  mAP50-95): 100%|██████████| 4/4 [00:03<00:00,  1.24it/s]"
     ]
    },
    {
     "name": "stdout",
     "output_type": "stream",
     "text": [
      "                   all        510       1003      0.813      0.736      0.818      0.429\n"
     ]
    },
    {
     "name": "stderr",
     "output_type": "stream",
     "text": [
      "\n"
     ]
    },
    {
     "name": "stdout",
     "output_type": "stream",
     "text": [
      "\n",
      "      Epoch    GPU_mem   box_loss   cls_loss   dfl_loss  Instances       Size\n"
     ]
    },
    {
     "name": "stderr",
     "output_type": "stream",
     "text": [
      "     33/100      8.06G       1.39     0.9654      1.292         53        640: 100%|██████████| 25/25 [00:14<00:00,  1.70it/s]\n",
      "                 Class     Images  Instances      Box(P          R      mAP50  mAP50-95): 100%|██████████| 4/4 [00:03<00:00,  1.27it/s]"
     ]
    },
    {
     "name": "stdout",
     "output_type": "stream",
     "text": [
      "                   all        510       1003      0.751      0.668      0.731      0.359\n"
     ]
    },
    {
     "name": "stderr",
     "output_type": "stream",
     "text": [
      "\n"
     ]
    },
    {
     "name": "stdout",
     "output_type": "stream",
     "text": [
      "\n",
      "      Epoch    GPU_mem   box_loss   cls_loss   dfl_loss  Instances       Size\n"
     ]
    },
    {
     "name": "stderr",
     "output_type": "stream",
     "text": [
      "     34/100      8.05G       1.39     0.9489      1.292         38        640: 100%|██████████| 25/25 [00:15<00:00,  1.66it/s]\n",
      "                 Class     Images  Instances      Box(P          R      mAP50  mAP50-95): 100%|██████████| 4/4 [00:02<00:00,  1.34it/s]"
     ]
    },
    {
     "name": "stdout",
     "output_type": "stream",
     "text": [
      "                   all        510       1003      0.814      0.729       0.82      0.433\n"
     ]
    },
    {
     "name": "stderr",
     "output_type": "stream",
     "text": [
      "\n"
     ]
    },
    {
     "name": "stdout",
     "output_type": "stream",
     "text": [
      "\n",
      "      Epoch    GPU_mem   box_loss   cls_loss   dfl_loss  Instances       Size\n"
     ]
    },
    {
     "name": "stderr",
     "output_type": "stream",
     "text": [
      "     35/100      8.13G      1.376     0.9277      1.275         44        640: 100%|██████████| 25/25 [00:14<00:00,  1.73it/s]\n",
      "                 Class     Images  Instances      Box(P          R      mAP50  mAP50-95): 100%|██████████| 4/4 [00:03<00:00,  1.23it/s]"
     ]
    },
    {
     "name": "stdout",
     "output_type": "stream",
     "text": [
      "                   all        510       1003      0.851      0.731       0.83      0.439\n"
     ]
    },
    {
     "name": "stderr",
     "output_type": "stream",
     "text": [
      "\n"
     ]
    },
    {
     "name": "stdout",
     "output_type": "stream",
     "text": [
      "\n",
      "      Epoch    GPU_mem   box_loss   cls_loss   dfl_loss  Instances       Size\n"
     ]
    },
    {
     "name": "stderr",
     "output_type": "stream",
     "text": [
      "     36/100      8.11G       1.37     0.9276      1.273         39        640: 100%|██████████| 25/25 [00:14<00:00,  1.70it/s]\n",
      "                 Class     Images  Instances      Box(P          R      mAP50  mAP50-95): 100%|██████████| 4/4 [00:03<00:00,  1.30it/s]"
     ]
    },
    {
     "name": "stdout",
     "output_type": "stream",
     "text": [
      "                   all        510       1003      0.811      0.681      0.782      0.409\n"
     ]
    },
    {
     "name": "stderr",
     "output_type": "stream",
     "text": [
      "\n"
     ]
    },
    {
     "name": "stdout",
     "output_type": "stream",
     "text": [
      "\n",
      "      Epoch    GPU_mem   box_loss   cls_loss   dfl_loss  Instances       Size\n"
     ]
    },
    {
     "name": "stderr",
     "output_type": "stream",
     "text": [
      "     37/100      8.12G      1.366     0.8987      1.275         46        640: 100%|██████████| 25/25 [00:14<00:00,  1.72it/s]\n",
      "                 Class     Images  Instances      Box(P          R      mAP50  mAP50-95): 100%|██████████| 4/4 [00:03<00:00,  1.32it/s]"
     ]
    },
    {
     "name": "stdout",
     "output_type": "stream",
     "text": [
      "                   all        510       1003      0.841      0.729       0.83      0.444\n"
     ]
    },
    {
     "name": "stderr",
     "output_type": "stream",
     "text": [
      "\n"
     ]
    },
    {
     "name": "stdout",
     "output_type": "stream",
     "text": [
      "\n",
      "      Epoch    GPU_mem   box_loss   cls_loss   dfl_loss  Instances       Size\n"
     ]
    },
    {
     "name": "stderr",
     "output_type": "stream",
     "text": [
      "     38/100      8.12G      1.347     0.8925      1.268         48        640: 100%|██████████| 25/25 [00:14<00:00,  1.69it/s]\n",
      "                 Class     Images  Instances      Box(P          R      mAP50  mAP50-95): 100%|██████████| 4/4 [00:02<00:00,  1.38it/s]"
     ]
    },
    {
     "name": "stdout",
     "output_type": "stream",
     "text": [
      "                   all        510       1003      0.837      0.736      0.833      0.452\n"
     ]
    },
    {
     "name": "stderr",
     "output_type": "stream",
     "text": [
      "\n"
     ]
    },
    {
     "name": "stdout",
     "output_type": "stream",
     "text": [
      "\n",
      "      Epoch    GPU_mem   box_loss   cls_loss   dfl_loss  Instances       Size\n"
     ]
    },
    {
     "name": "stderr",
     "output_type": "stream",
     "text": [
      "     39/100      8.11G      1.358     0.8891      1.274         40        640: 100%|██████████| 25/25 [00:14<00:00,  1.70it/s]\n",
      "                 Class     Images  Instances      Box(P          R      mAP50  mAP50-95): 100%|██████████| 4/4 [00:02<00:00,  1.36it/s]"
     ]
    },
    {
     "name": "stdout",
     "output_type": "stream",
     "text": [
      "                   all        510       1003      0.814       0.76      0.835      0.461\n"
     ]
    },
    {
     "name": "stderr",
     "output_type": "stream",
     "text": [
      "\n"
     ]
    },
    {
     "name": "stdout",
     "output_type": "stream",
     "text": [
      "\n",
      "      Epoch    GPU_mem   box_loss   cls_loss   dfl_loss  Instances       Size\n"
     ]
    },
    {
     "name": "stderr",
     "output_type": "stream",
     "text": [
      "     40/100      8.12G      1.341     0.8879      1.261         26        640: 100%|██████████| 25/25 [00:14<00:00,  1.71it/s]\n",
      "                 Class     Images  Instances      Box(P          R      mAP50  mAP50-95): 100%|██████████| 4/4 [00:02<00:00,  1.35it/s]"
     ]
    },
    {
     "name": "stdout",
     "output_type": "stream",
     "text": [
      "                   all        510       1003      0.828      0.724      0.829      0.443\n"
     ]
    },
    {
     "name": "stderr",
     "output_type": "stream",
     "text": [
      "\n"
     ]
    },
    {
     "name": "stdout",
     "output_type": "stream",
     "text": [
      "\n",
      "      Epoch    GPU_mem   box_loss   cls_loss   dfl_loss  Instances       Size\n"
     ]
    },
    {
     "name": "stderr",
     "output_type": "stream",
     "text": [
      "     41/100      8.12G       1.32     0.8642      1.244         47        640: 100%|██████████| 25/25 [00:14<00:00,  1.69it/s]\n",
      "                 Class     Images  Instances      Box(P          R      mAP50  mAP50-95): 100%|██████████| 4/4 [00:02<00:00,  1.35it/s]"
     ]
    },
    {
     "name": "stdout",
     "output_type": "stream",
     "text": [
      "                   all        510       1003      0.842      0.768      0.847      0.464\n"
     ]
    },
    {
     "name": "stderr",
     "output_type": "stream",
     "text": [
      "\n"
     ]
    },
    {
     "name": "stdout",
     "output_type": "stream",
     "text": [
      "\n",
      "      Epoch    GPU_mem   box_loss   cls_loss   dfl_loss  Instances       Size\n"
     ]
    },
    {
     "name": "stderr",
     "output_type": "stream",
     "text": [
      "     42/100      8.06G      1.308     0.8664      1.239         43        640: 100%|██████████| 25/25 [00:14<00:00,  1.70it/s]\n",
      "                 Class     Images  Instances      Box(P          R      mAP50  mAP50-95): 100%|██████████| 4/4 [00:03<00:00,  1.33it/s]"
     ]
    },
    {
     "name": "stdout",
     "output_type": "stream",
     "text": [
      "                   all        510       1003      0.839      0.694      0.805      0.435\n"
     ]
    },
    {
     "name": "stderr",
     "output_type": "stream",
     "text": [
      "\n"
     ]
    },
    {
     "name": "stdout",
     "output_type": "stream",
     "text": [
      "\n",
      "      Epoch    GPU_mem   box_loss   cls_loss   dfl_loss  Instances       Size\n"
     ]
    },
    {
     "name": "stderr",
     "output_type": "stream",
     "text": [
      "     43/100      8.11G      1.327     0.8641      1.249         50        640: 100%|██████████| 25/25 [00:14<00:00,  1.69it/s]\n",
      "                 Class     Images  Instances      Box(P          R      mAP50  mAP50-95): 100%|██████████| 4/4 [00:03<00:00,  1.33it/s]"
     ]
    },
    {
     "name": "stdout",
     "output_type": "stream",
     "text": [
      "                   all        510       1003      0.832      0.753       0.84      0.445\n"
     ]
    },
    {
     "name": "stderr",
     "output_type": "stream",
     "text": [
      "\n"
     ]
    },
    {
     "name": "stdout",
     "output_type": "stream",
     "text": [
      "\n",
      "      Epoch    GPU_mem   box_loss   cls_loss   dfl_loss  Instances       Size\n"
     ]
    },
    {
     "name": "stderr",
     "output_type": "stream",
     "text": [
      "     44/100      8.05G      1.312     0.8619      1.243         64        640: 100%|██████████| 25/25 [00:14<00:00,  1.73it/s]\n",
      "                 Class     Images  Instances      Box(P          R      mAP50  mAP50-95): 100%|██████████| 4/4 [00:02<00:00,  1.34it/s]"
     ]
    },
    {
     "name": "stdout",
     "output_type": "stream",
     "text": [
      "                   all        510       1003      0.853       0.77      0.864      0.469\n"
     ]
    },
    {
     "name": "stderr",
     "output_type": "stream",
     "text": [
      "\n"
     ]
    },
    {
     "name": "stdout",
     "output_type": "stream",
     "text": [
      "\n",
      "      Epoch    GPU_mem   box_loss   cls_loss   dfl_loss  Instances       Size\n"
     ]
    },
    {
     "name": "stderr",
     "output_type": "stream",
     "text": [
      "     45/100      8.11G      1.317     0.8655      1.247         47        640: 100%|██████████| 25/25 [00:15<00:00,  1.65it/s]\n",
      "                 Class     Images  Instances      Box(P          R      mAP50  mAP50-95): 100%|██████████| 4/4 [00:02<00:00,  1.35it/s]"
     ]
    },
    {
     "name": "stdout",
     "output_type": "stream",
     "text": [
      "                   all        510       1003      0.841      0.762       0.85      0.475\n"
     ]
    },
    {
     "name": "stderr",
     "output_type": "stream",
     "text": [
      "\n"
     ]
    },
    {
     "name": "stdout",
     "output_type": "stream",
     "text": [
      "\n",
      "      Epoch    GPU_mem   box_loss   cls_loss   dfl_loss  Instances       Size\n"
     ]
    },
    {
     "name": "stderr",
     "output_type": "stream",
     "text": [
      "     46/100      8.11G      1.268     0.8064      1.221         51        640: 100%|██████████| 25/25 [00:14<00:00,  1.72it/s]\n",
      "                 Class     Images  Instances      Box(P          R      mAP50  mAP50-95): 100%|██████████| 4/4 [00:03<00:00,  1.29it/s]"
     ]
    },
    {
     "name": "stdout",
     "output_type": "stream",
     "text": [
      "                   all        510       1003       0.85      0.767       0.86      0.473\n"
     ]
    },
    {
     "name": "stderr",
     "output_type": "stream",
     "text": [
      "\n"
     ]
    },
    {
     "name": "stdout",
     "output_type": "stream",
     "text": [
      "\n",
      "      Epoch    GPU_mem   box_loss   cls_loss   dfl_loss  Instances       Size\n"
     ]
    },
    {
     "name": "stderr",
     "output_type": "stream",
     "text": [
      "     47/100      8.11G       1.26     0.8012      1.209         52        640: 100%|██████████| 25/25 [00:14<00:00,  1.72it/s]\n",
      "                 Class     Images  Instances      Box(P          R      mAP50  mAP50-95): 100%|██████████| 4/4 [00:02<00:00,  1.35it/s]"
     ]
    },
    {
     "name": "stdout",
     "output_type": "stream",
     "text": [
      "                   all        510       1003      0.868      0.712      0.837      0.466\n"
     ]
    },
    {
     "name": "stderr",
     "output_type": "stream",
     "text": [
      "\n"
     ]
    },
    {
     "name": "stdout",
     "output_type": "stream",
     "text": [
      "\n",
      "      Epoch    GPU_mem   box_loss   cls_loss   dfl_loss  Instances       Size\n"
     ]
    },
    {
     "name": "stderr",
     "output_type": "stream",
     "text": [
      "     48/100      8.11G      1.246     0.7688      1.205         43        640: 100%|██████████| 25/25 [00:14<00:00,  1.71it/s]\n",
      "                 Class     Images  Instances      Box(P          R      mAP50  mAP50-95): 100%|██████████| 4/4 [00:03<00:00,  1.29it/s]"
     ]
    },
    {
     "name": "stdout",
     "output_type": "stream",
     "text": [
      "                   all        510       1003       0.79      0.789      0.845      0.454\n"
     ]
    },
    {
     "name": "stderr",
     "output_type": "stream",
     "text": [
      "\n"
     ]
    },
    {
     "name": "stdout",
     "output_type": "stream",
     "text": [
      "\n",
      "      Epoch    GPU_mem   box_loss   cls_loss   dfl_loss  Instances       Size\n"
     ]
    },
    {
     "name": "stderr",
     "output_type": "stream",
     "text": [
      "     49/100      8.11G      1.259      0.799      1.209         56        640: 100%|██████████| 25/25 [00:14<00:00,  1.73it/s]\n",
      "                 Class     Images  Instances      Box(P          R      mAP50  mAP50-95): 100%|██████████| 4/4 [00:03<00:00,  1.31it/s]"
     ]
    },
    {
     "name": "stdout",
     "output_type": "stream",
     "text": [
      "                   all        510       1003      0.838      0.788      0.872      0.489\n"
     ]
    },
    {
     "name": "stderr",
     "output_type": "stream",
     "text": [
      "\n"
     ]
    },
    {
     "name": "stdout",
     "output_type": "stream",
     "text": [
      "\n",
      "      Epoch    GPU_mem   box_loss   cls_loss   dfl_loss  Instances       Size\n"
     ]
    },
    {
     "name": "stderr",
     "output_type": "stream",
     "text": [
      "     50/100      8.06G      1.265     0.8074      1.213         50        640: 100%|██████████| 25/25 [00:14<00:00,  1.68it/s]\n",
      "                 Class     Images  Instances      Box(P          R      mAP50  mAP50-95): 100%|██████████| 4/4 [00:02<00:00,  1.34it/s]"
     ]
    },
    {
     "name": "stdout",
     "output_type": "stream",
     "text": [
      "                   all        510       1003      0.854      0.764      0.855      0.475\n"
     ]
    },
    {
     "name": "stderr",
     "output_type": "stream",
     "text": [
      "\n"
     ]
    },
    {
     "name": "stdout",
     "output_type": "stream",
     "text": [
      "\n",
      "      Epoch    GPU_mem   box_loss   cls_loss   dfl_loss  Instances       Size\n"
     ]
    },
    {
     "name": "stderr",
     "output_type": "stream",
     "text": [
      "     51/100      8.11G       1.25     0.7654      1.196         57        640: 100%|██████████| 25/25 [00:14<00:00,  1.72it/s]\n",
      "                 Class     Images  Instances      Box(P          R      mAP50  mAP50-95): 100%|██████████| 4/4 [00:02<00:00,  1.36it/s]"
     ]
    },
    {
     "name": "stdout",
     "output_type": "stream",
     "text": [
      "                   all        510       1003      0.884      0.762      0.871       0.48\n"
     ]
    },
    {
     "name": "stderr",
     "output_type": "stream",
     "text": [
      "\n"
     ]
    },
    {
     "name": "stdout",
     "output_type": "stream",
     "text": [
      "\n",
      "      Epoch    GPU_mem   box_loss   cls_loss   dfl_loss  Instances       Size\n"
     ]
    },
    {
     "name": "stderr",
     "output_type": "stream",
     "text": [
      "     52/100      8.05G      1.243     0.7752      1.195         45        640: 100%|██████████| 25/25 [00:14<00:00,  1.71it/s]\n",
      "                 Class     Images  Instances      Box(P          R      mAP50  mAP50-95): 100%|██████████| 4/4 [00:02<00:00,  1.34it/s]"
     ]
    },
    {
     "name": "stdout",
     "output_type": "stream",
     "text": [
      "                   all        510       1003      0.848      0.774      0.862      0.482\n"
     ]
    },
    {
     "name": "stderr",
     "output_type": "stream",
     "text": [
      "\n"
     ]
    },
    {
     "name": "stdout",
     "output_type": "stream",
     "text": [
      "\n",
      "      Epoch    GPU_mem   box_loss   cls_loss   dfl_loss  Instances       Size\n"
     ]
    },
    {
     "name": "stderr",
     "output_type": "stream",
     "text": [
      "     53/100      8.06G      1.221     0.7717      1.194         45        640: 100%|██████████| 25/25 [00:14<00:00,  1.72it/s]\n",
      "                 Class     Images  Instances      Box(P          R      mAP50  mAP50-95): 100%|██████████| 4/4 [00:03<00:00,  1.28it/s]"
     ]
    },
    {
     "name": "stdout",
     "output_type": "stream",
     "text": [
      "                   all        510       1003      0.847      0.755      0.834      0.461\n"
     ]
    },
    {
     "name": "stderr",
     "output_type": "stream",
     "text": [
      "\n"
     ]
    },
    {
     "name": "stdout",
     "output_type": "stream",
     "text": [
      "\n",
      "      Epoch    GPU_mem   box_loss   cls_loss   dfl_loss  Instances       Size\n"
     ]
    },
    {
     "name": "stderr",
     "output_type": "stream",
     "text": [
      "     54/100      8.12G      1.226      0.781      1.188         32        640: 100%|██████████| 25/25 [00:14<00:00,  1.72it/s]\n",
      "                 Class     Images  Instances      Box(P          R      mAP50  mAP50-95): 100%|██████████| 4/4 [00:03<00:00,  1.31it/s]"
     ]
    },
    {
     "name": "stdout",
     "output_type": "stream",
     "text": [
      "                   all        510       1003      0.856      0.765      0.865      0.472\n"
     ]
    },
    {
     "name": "stderr",
     "output_type": "stream",
     "text": [
      "\n"
     ]
    },
    {
     "name": "stdout",
     "output_type": "stream",
     "text": [
      "\n",
      "      Epoch    GPU_mem   box_loss   cls_loss   dfl_loss  Instances       Size\n"
     ]
    },
    {
     "name": "stderr",
     "output_type": "stream",
     "text": [
      "     55/100      8.06G      1.218     0.7632      1.193         48        640: 100%|██████████| 25/25 [00:14<00:00,  1.69it/s]\n",
      "                 Class     Images  Instances      Box(P          R      mAP50  mAP50-95): 100%|██████████| 4/4 [00:02<00:00,  1.35it/s]"
     ]
    },
    {
     "name": "stdout",
     "output_type": "stream",
     "text": [
      "                   all        510       1003      0.871      0.774      0.876      0.483\n"
     ]
    },
    {
     "name": "stderr",
     "output_type": "stream",
     "text": [
      "\n"
     ]
    },
    {
     "name": "stdout",
     "output_type": "stream",
     "text": [
      "\n",
      "      Epoch    GPU_mem   box_loss   cls_loss   dfl_loss  Instances       Size\n"
     ]
    },
    {
     "name": "stderr",
     "output_type": "stream",
     "text": [
      "     56/100      8.05G      1.209     0.7426      1.177         45        640: 100%|██████████| 25/25 [00:14<00:00,  1.72it/s]\n",
      "                 Class     Images  Instances      Box(P          R      mAP50  mAP50-95): 100%|██████████| 4/4 [00:02<00:00,  1.38it/s]"
     ]
    },
    {
     "name": "stdout",
     "output_type": "stream",
     "text": [
      "                   all        510       1003      0.852      0.752      0.848      0.452\n"
     ]
    },
    {
     "name": "stderr",
     "output_type": "stream",
     "text": [
      "\n"
     ]
    },
    {
     "name": "stdout",
     "output_type": "stream",
     "text": [
      "\n",
      "      Epoch    GPU_mem   box_loss   cls_loss   dfl_loss  Instances       Size\n"
     ]
    },
    {
     "name": "stderr",
     "output_type": "stream",
     "text": [
      "     57/100      8.12G      1.209     0.7539      1.181         55        640: 100%|██████████| 25/25 [00:15<00:00,  1.66it/s]\n",
      "                 Class     Images  Instances      Box(P          R      mAP50  mAP50-95): 100%|██████████| 4/4 [00:02<00:00,  1.42it/s]"
     ]
    },
    {
     "name": "stdout",
     "output_type": "stream",
     "text": [
      "                   all        510       1003      0.877      0.767      0.865       0.48\n"
     ]
    },
    {
     "name": "stderr",
     "output_type": "stream",
     "text": [
      "\n"
     ]
    },
    {
     "name": "stdout",
     "output_type": "stream",
     "text": [
      "\n",
      "      Epoch    GPU_mem   box_loss   cls_loss   dfl_loss  Instances       Size\n"
     ]
    },
    {
     "name": "stderr",
     "output_type": "stream",
     "text": [
      "     58/100      8.11G      1.174     0.7301      1.166         42        640: 100%|██████████| 25/25 [00:14<00:00,  1.72it/s]\n",
      "                 Class     Images  Instances      Box(P          R      mAP50  mAP50-95): 100%|██████████| 4/4 [00:02<00:00,  1.42it/s]"
     ]
    },
    {
     "name": "stdout",
     "output_type": "stream",
     "text": [
      "                   all        510       1003      0.858      0.768      0.865      0.482\n"
     ]
    },
    {
     "name": "stderr",
     "output_type": "stream",
     "text": [
      "\n"
     ]
    },
    {
     "name": "stdout",
     "output_type": "stream",
     "text": [
      "\n",
      "      Epoch    GPU_mem   box_loss   cls_loss   dfl_loss  Instances       Size\n"
     ]
    },
    {
     "name": "stderr",
     "output_type": "stream",
     "text": [
      "     59/100      8.06G      1.173     0.7193      1.165         55        640: 100%|██████████| 25/25 [00:14<00:00,  1.71it/s]\n",
      "                 Class     Images  Instances      Box(P          R      mAP50  mAP50-95): 100%|██████████| 4/4 [00:03<00:00,  1.30it/s]"
     ]
    },
    {
     "name": "stdout",
     "output_type": "stream",
     "text": [
      "                   all        510       1003      0.833      0.781      0.852      0.454\n"
     ]
    },
    {
     "name": "stderr",
     "output_type": "stream",
     "text": [
      "\n"
     ]
    },
    {
     "name": "stdout",
     "output_type": "stream",
     "text": [
      "\n",
      "      Epoch    GPU_mem   box_loss   cls_loss   dfl_loss  Instances       Size\n"
     ]
    },
    {
     "name": "stderr",
     "output_type": "stream",
     "text": [
      "     60/100      8.16G       1.16     0.7169      1.153         57        640: 100%|██████████| 25/25 [00:14<00:00,  1.73it/s]\n",
      "                 Class     Images  Instances      Box(P          R      mAP50  mAP50-95): 100%|██████████| 4/4 [00:03<00:00,  1.25it/s]"
     ]
    },
    {
     "name": "stdout",
     "output_type": "stream",
     "text": [
      "                   all        510       1003      0.829      0.746      0.836      0.429\n"
     ]
    },
    {
     "name": "stderr",
     "output_type": "stream",
     "text": [
      "\n"
     ]
    },
    {
     "name": "stdout",
     "output_type": "stream",
     "text": [
      "\n",
      "      Epoch    GPU_mem   box_loss   cls_loss   dfl_loss  Instances       Size\n"
     ]
    },
    {
     "name": "stderr",
     "output_type": "stream",
     "text": [
      "     61/100      8.13G      1.173     0.7236      1.172         43        640: 100%|██████████| 25/25 [00:14<00:00,  1.72it/s]\n",
      "                 Class     Images  Instances      Box(P          R      mAP50  mAP50-95): 100%|██████████| 4/4 [00:02<00:00,  1.34it/s]"
     ]
    },
    {
     "name": "stdout",
     "output_type": "stream",
     "text": [
      "                   all        510       1003      0.884      0.777      0.876      0.504\n"
     ]
    },
    {
     "name": "stderr",
     "output_type": "stream",
     "text": [
      "\n"
     ]
    },
    {
     "name": "stdout",
     "output_type": "stream",
     "text": [
      "\n",
      "      Epoch    GPU_mem   box_loss   cls_loss   dfl_loss  Instances       Size\n"
     ]
    },
    {
     "name": "stderr",
     "output_type": "stream",
     "text": [
      "     62/100      8.12G      1.148     0.6954      1.149         45        640: 100%|██████████| 25/25 [00:14<00:00,  1.71it/s]\n",
      "                 Class     Images  Instances      Box(P          R      mAP50  mAP50-95): 100%|██████████| 4/4 [00:02<00:00,  1.34it/s]"
     ]
    },
    {
     "name": "stdout",
     "output_type": "stream",
     "text": [
      "                   all        510       1003       0.88       0.75      0.866      0.483\n"
     ]
    },
    {
     "name": "stderr",
     "output_type": "stream",
     "text": [
      "\n"
     ]
    },
    {
     "name": "stdout",
     "output_type": "stream",
     "text": [
      "\n",
      "      Epoch    GPU_mem   box_loss   cls_loss   dfl_loss  Instances       Size\n"
     ]
    },
    {
     "name": "stderr",
     "output_type": "stream",
     "text": [
      "     63/100      8.06G      1.144     0.7024      1.149         53        640: 100%|██████████| 25/25 [00:14<00:00,  1.70it/s]\n",
      "                 Class     Images  Instances      Box(P          R      mAP50  mAP50-95): 100%|██████████| 4/4 [00:02<00:00,  1.42it/s]"
     ]
    },
    {
     "name": "stdout",
     "output_type": "stream",
     "text": [
      "                   all        510       1003      0.861       0.78      0.877       0.49\n"
     ]
    },
    {
     "name": "stderr",
     "output_type": "stream",
     "text": [
      "\n"
     ]
    },
    {
     "name": "stdout",
     "output_type": "stream",
     "text": [
      "\n",
      "      Epoch    GPU_mem   box_loss   cls_loss   dfl_loss  Instances       Size\n"
     ]
    },
    {
     "name": "stderr",
     "output_type": "stream",
     "text": [
      "     64/100      8.11G      1.113     0.6885      1.137         30        640: 100%|██████████| 25/25 [00:14<00:00,  1.71it/s]\n",
      "                 Class     Images  Instances      Box(P          R      mAP50  mAP50-95): 100%|██████████| 4/4 [00:02<00:00,  1.34it/s]"
     ]
    },
    {
     "name": "stdout",
     "output_type": "stream",
     "text": [
      "                   all        510       1003      0.862      0.763      0.859       0.47\n"
     ]
    },
    {
     "name": "stderr",
     "output_type": "stream",
     "text": [
      "\n"
     ]
    },
    {
     "name": "stdout",
     "output_type": "stream",
     "text": [
      "\n",
      "      Epoch    GPU_mem   box_loss   cls_loss   dfl_loss  Instances       Size\n"
     ]
    },
    {
     "name": "stderr",
     "output_type": "stream",
     "text": [
      "     65/100      8.06G      1.138     0.6897      1.149         48        640: 100%|██████████| 25/25 [00:14<00:00,  1.72it/s]\n",
      "                 Class     Images  Instances      Box(P          R      mAP50  mAP50-95): 100%|██████████| 4/4 [00:02<00:00,  1.37it/s]"
     ]
    },
    {
     "name": "stdout",
     "output_type": "stream",
     "text": [
      "                   all        510       1003      0.879      0.783      0.876      0.469\n"
     ]
    },
    {
     "name": "stderr",
     "output_type": "stream",
     "text": [
      "\n"
     ]
    },
    {
     "name": "stdout",
     "output_type": "stream",
     "text": [
      "\n",
      "      Epoch    GPU_mem   box_loss   cls_loss   dfl_loss  Instances       Size\n"
     ]
    },
    {
     "name": "stderr",
     "output_type": "stream",
     "text": [
      "     66/100      8.13G      1.121     0.6801       1.13         48        640: 100%|██████████| 25/25 [00:14<00:00,  1.70it/s]\n",
      "                 Class     Images  Instances      Box(P          R      mAP50  mAP50-95): 100%|██████████| 4/4 [00:03<00:00,  1.31it/s]"
     ]
    },
    {
     "name": "stdout",
     "output_type": "stream",
     "text": [
      "                   all        510       1003      0.842      0.738      0.841      0.456\n"
     ]
    },
    {
     "name": "stderr",
     "output_type": "stream",
     "text": [
      "\n"
     ]
    },
    {
     "name": "stdout",
     "output_type": "stream",
     "text": [
      "\n",
      "      Epoch    GPU_mem   box_loss   cls_loss   dfl_loss  Instances       Size\n"
     ]
    },
    {
     "name": "stderr",
     "output_type": "stream",
     "text": [
      "     67/100      8.15G       1.12     0.6796      1.133         40        640: 100%|██████████| 25/25 [00:14<00:00,  1.72it/s]\n",
      "                 Class     Images  Instances      Box(P          R      mAP50  mAP50-95): 100%|██████████| 4/4 [00:03<00:00,  1.31it/s]"
     ]
    },
    {
     "name": "stdout",
     "output_type": "stream",
     "text": [
      "                   all        510       1003      0.873      0.776      0.873      0.474\n"
     ]
    },
    {
     "name": "stderr",
     "output_type": "stream",
     "text": [
      "\n"
     ]
    },
    {
     "name": "stdout",
     "output_type": "stream",
     "text": [
      "\n",
      "      Epoch    GPU_mem   box_loss   cls_loss   dfl_loss  Instances       Size\n"
     ]
    },
    {
     "name": "stderr",
     "output_type": "stream",
     "text": [
      "     68/100      8.11G      1.116     0.6723      1.129         51        640: 100%|██████████| 25/25 [00:15<00:00,  1.64it/s]\n",
      "                 Class     Images  Instances      Box(P          R      mAP50  mAP50-95): 100%|██████████| 4/4 [00:02<00:00,  1.37it/s]"
     ]
    },
    {
     "name": "stdout",
     "output_type": "stream",
     "text": [
      "                   all        510       1003      0.875      0.785      0.881      0.495\n"
     ]
    },
    {
     "name": "stderr",
     "output_type": "stream",
     "text": [
      "\n"
     ]
    },
    {
     "name": "stdout",
     "output_type": "stream",
     "text": [
      "\n",
      "      Epoch    GPU_mem   box_loss   cls_loss   dfl_loss  Instances       Size\n"
     ]
    },
    {
     "name": "stderr",
     "output_type": "stream",
     "text": [
      "     69/100      8.11G      1.112     0.6746      1.124         49        640: 100%|██████████| 25/25 [00:14<00:00,  1.68it/s]\n",
      "                 Class     Images  Instances      Box(P          R      mAP50  mAP50-95): 100%|██████████| 4/4 [00:03<00:00,  1.33it/s]"
     ]
    },
    {
     "name": "stdout",
     "output_type": "stream",
     "text": [
      "                   all        510       1003      0.875       0.76      0.866      0.476\n"
     ]
    },
    {
     "name": "stderr",
     "output_type": "stream",
     "text": [
      "\n"
     ]
    },
    {
     "name": "stdout",
     "output_type": "stream",
     "text": [
      "\n",
      "      Epoch    GPU_mem   box_loss   cls_loss   dfl_loss  Instances       Size\n"
     ]
    },
    {
     "name": "stderr",
     "output_type": "stream",
     "text": [
      "     70/100      8.11G      1.102     0.6668       1.12         38        640: 100%|██████████| 25/25 [00:14<00:00,  1.70it/s]\n",
      "                 Class     Images  Instances      Box(P          R      mAP50  mAP50-95): 100%|██████████| 4/4 [00:02<00:00,  1.38it/s]"
     ]
    },
    {
     "name": "stdout",
     "output_type": "stream",
     "text": [
      "                   all        510       1003       0.84      0.781       0.87      0.482\n"
     ]
    },
    {
     "name": "stderr",
     "output_type": "stream",
     "text": [
      "\n"
     ]
    },
    {
     "name": "stdout",
     "output_type": "stream",
     "text": [
      "\n",
      "      Epoch    GPU_mem   box_loss   cls_loss   dfl_loss  Instances       Size\n"
     ]
    },
    {
     "name": "stderr",
     "output_type": "stream",
     "text": [
      "     71/100      8.11G      1.088     0.6473      1.118         49        640: 100%|██████████| 25/25 [00:14<00:00,  1.67it/s]\n",
      "                 Class     Images  Instances      Box(P          R      mAP50  mAP50-95): 100%|██████████| 4/4 [00:03<00:00,  1.32it/s]"
     ]
    },
    {
     "name": "stdout",
     "output_type": "stream",
     "text": [
      "                   all        510       1003      0.839      0.792      0.883      0.501\n"
     ]
    },
    {
     "name": "stderr",
     "output_type": "stream",
     "text": [
      "\n"
     ]
    },
    {
     "name": "stdout",
     "output_type": "stream",
     "text": [
      "\n",
      "      Epoch    GPU_mem   box_loss   cls_loss   dfl_loss  Instances       Size\n"
     ]
    },
    {
     "name": "stderr",
     "output_type": "stream",
     "text": [
      "     72/100      8.12G      1.077     0.6454      1.106         42        640: 100%|██████████| 25/25 [00:14<00:00,  1.72it/s]\n",
      "                 Class     Images  Instances      Box(P          R      mAP50  mAP50-95): 100%|██████████| 4/4 [00:03<00:00,  1.31it/s]"
     ]
    },
    {
     "name": "stdout",
     "output_type": "stream",
     "text": [
      "                   all        510       1003      0.875      0.782      0.888      0.495\n"
     ]
    },
    {
     "name": "stderr",
     "output_type": "stream",
     "text": [
      "\n"
     ]
    },
    {
     "name": "stdout",
     "output_type": "stream",
     "text": [
      "\n",
      "      Epoch    GPU_mem   box_loss   cls_loss   dfl_loss  Instances       Size\n"
     ]
    },
    {
     "name": "stderr",
     "output_type": "stream",
     "text": [
      "     73/100      8.11G      1.074     0.6514      1.103         36        640: 100%|██████████| 25/25 [00:14<00:00,  1.67it/s]\n",
      "                 Class     Images  Instances      Box(P          R      mAP50  mAP50-95): 100%|██████████| 4/4 [00:03<00:00,  1.30it/s]"
     ]
    },
    {
     "name": "stdout",
     "output_type": "stream",
     "text": [
      "                   all        510       1003      0.872      0.767       0.88      0.501\n"
     ]
    },
    {
     "name": "stderr",
     "output_type": "stream",
     "text": [
      "\n"
     ]
    },
    {
     "name": "stdout",
     "output_type": "stream",
     "text": [
      "\n",
      "      Epoch    GPU_mem   box_loss   cls_loss   dfl_loss  Instances       Size\n"
     ]
    },
    {
     "name": "stderr",
     "output_type": "stream",
     "text": [
      "     74/100      8.06G      1.068     0.6381      1.103         40        640: 100%|██████████| 25/25 [00:14<00:00,  1.68it/s]\n",
      "                 Class     Images  Instances      Box(P          R      mAP50  mAP50-95): 100%|██████████| 4/4 [00:03<00:00,  1.21it/s]"
     ]
    },
    {
     "name": "stdout",
     "output_type": "stream",
     "text": [
      "                   all        510       1003      0.873      0.796      0.892      0.492\n"
     ]
    },
    {
     "name": "stderr",
     "output_type": "stream",
     "text": [
      "\n"
     ]
    },
    {
     "name": "stdout",
     "output_type": "stream",
     "text": [
      "\n",
      "      Epoch    GPU_mem   box_loss   cls_loss   dfl_loss  Instances       Size\n"
     ]
    },
    {
     "name": "stderr",
     "output_type": "stream",
     "text": [
      "     75/100      8.12G      1.058      0.635      1.094         51        640: 100%|██████████| 25/25 [00:14<00:00,  1.71it/s]\n",
      "                 Class     Images  Instances      Box(P          R      mAP50  mAP50-95): 100%|██████████| 4/4 [00:03<00:00,  1.29it/s]"
     ]
    },
    {
     "name": "stdout",
     "output_type": "stream",
     "text": [
      "                   all        510       1003      0.862      0.772       0.87      0.473\n"
     ]
    },
    {
     "name": "stderr",
     "output_type": "stream",
     "text": [
      "\n"
     ]
    },
    {
     "name": "stdout",
     "output_type": "stream",
     "text": [
      "\n",
      "      Epoch    GPU_mem   box_loss   cls_loss   dfl_loss  Instances       Size\n"
     ]
    },
    {
     "name": "stderr",
     "output_type": "stream",
     "text": [
      "     76/100      8.05G      1.068     0.6403      1.101         48        640: 100%|██████████| 25/25 [00:14<00:00,  1.68it/s]\n",
      "                 Class     Images  Instances      Box(P          R      mAP50  mAP50-95): 100%|██████████| 4/4 [00:02<00:00,  1.34it/s]"
     ]
    },
    {
     "name": "stdout",
     "output_type": "stream",
     "text": [
      "                   all        510       1003      0.886      0.782      0.883      0.504\n"
     ]
    },
    {
     "name": "stderr",
     "output_type": "stream",
     "text": [
      "\n"
     ]
    },
    {
     "name": "stdout",
     "output_type": "stream",
     "text": [
      "\n",
      "      Epoch    GPU_mem   box_loss   cls_loss   dfl_loss  Instances       Size\n"
     ]
    },
    {
     "name": "stderr",
     "output_type": "stream",
     "text": [
      "     77/100      8.06G      1.055     0.6309      1.097         41        640: 100%|██████████| 25/25 [00:15<00:00,  1.64it/s]\n",
      "                 Class     Images  Instances      Box(P          R      mAP50  mAP50-95): 100%|██████████| 4/4 [00:02<00:00,  1.36it/s]"
     ]
    },
    {
     "name": "stdout",
     "output_type": "stream",
     "text": [
      "                   all        510       1003      0.867      0.807      0.885      0.499\n"
     ]
    },
    {
     "name": "stderr",
     "output_type": "stream",
     "text": [
      "\n"
     ]
    },
    {
     "name": "stdout",
     "output_type": "stream",
     "text": [
      "\n",
      "      Epoch    GPU_mem   box_loss   cls_loss   dfl_loss  Instances       Size\n"
     ]
    },
    {
     "name": "stderr",
     "output_type": "stream",
     "text": [
      "     78/100      8.12G      1.054     0.6331      1.093         43        640: 100%|██████████| 25/25 [00:15<00:00,  1.66it/s]\n",
      "                 Class     Images  Instances      Box(P          R      mAP50  mAP50-95): 100%|██████████| 4/4 [00:03<00:00,  1.31it/s]"
     ]
    },
    {
     "name": "stdout",
     "output_type": "stream",
     "text": [
      "                   all        510       1003      0.885      0.791      0.893        0.5\n"
     ]
    },
    {
     "name": "stderr",
     "output_type": "stream",
     "text": [
      "\n"
     ]
    },
    {
     "name": "stdout",
     "output_type": "stream",
     "text": [
      "\n",
      "      Epoch    GPU_mem   box_loss   cls_loss   dfl_loss  Instances       Size\n"
     ]
    },
    {
     "name": "stderr",
     "output_type": "stream",
     "text": [
      "     79/100      8.11G      1.029     0.6142      1.088         32        640: 100%|██████████| 25/25 [00:14<00:00,  1.70it/s]\n",
      "                 Class     Images  Instances      Box(P          R      mAP50  mAP50-95): 100%|██████████| 4/4 [00:03<00:00,  1.31it/s]"
     ]
    },
    {
     "name": "stdout",
     "output_type": "stream",
     "text": [
      "                   all        510       1003      0.847      0.807      0.888      0.497\n"
     ]
    },
    {
     "name": "stderr",
     "output_type": "stream",
     "text": [
      "\n"
     ]
    },
    {
     "name": "stdout",
     "output_type": "stream",
     "text": [
      "\n",
      "      Epoch    GPU_mem   box_loss   cls_loss   dfl_loss  Instances       Size\n"
     ]
    },
    {
     "name": "stderr",
     "output_type": "stream",
     "text": [
      "     80/100      8.06G      1.029     0.6136      1.086         45        640: 100%|██████████| 25/25 [00:14<00:00,  1.68it/s]\n",
      "                 Class     Images  Instances      Box(P          R      mAP50  mAP50-95): 100%|██████████| 4/4 [00:03<00:00,  1.32it/s]"
     ]
    },
    {
     "name": "stdout",
     "output_type": "stream",
     "text": [
      "                   all        510       1003      0.857      0.785      0.879      0.483\n"
     ]
    },
    {
     "name": "stderr",
     "output_type": "stream",
     "text": [
      "\n"
     ]
    },
    {
     "name": "stdout",
     "output_type": "stream",
     "text": [
      "\n",
      "      Epoch    GPU_mem   box_loss   cls_loss   dfl_loss  Instances       Size\n"
     ]
    },
    {
     "name": "stderr",
     "output_type": "stream",
     "text": [
      "     81/100      8.05G      1.025     0.6126      1.087         40        640: 100%|██████████| 25/25 [00:14<00:00,  1.70it/s]\n",
      "                 Class     Images  Instances      Box(P          R      mAP50  mAP50-95): 100%|██████████| 4/4 [00:03<00:00,  1.23it/s]"
     ]
    },
    {
     "name": "stdout",
     "output_type": "stream",
     "text": [
      "                   all        510       1003      0.848      0.809      0.883       0.48\n"
     ]
    },
    {
     "name": "stderr",
     "output_type": "stream",
     "text": [
      "\n"
     ]
    },
    {
     "name": "stdout",
     "output_type": "stream",
     "text": [
      "\n",
      "      Epoch    GPU_mem   box_loss   cls_loss   dfl_loss  Instances       Size\n"
     ]
    },
    {
     "name": "stderr",
     "output_type": "stream",
     "text": [
      "     82/100      8.11G      1.009     0.6018      1.077         39        640: 100%|██████████| 25/25 [00:14<00:00,  1.71it/s]\n",
      "                 Class     Images  Instances      Box(P          R      mAP50  mAP50-95): 100%|██████████| 4/4 [00:02<00:00,  1.38it/s]"
     ]
    },
    {
     "name": "stdout",
     "output_type": "stream",
     "text": [
      "                   all        510       1003      0.858      0.819      0.886      0.489\n"
     ]
    },
    {
     "name": "stderr",
     "output_type": "stream",
     "text": [
      "\n"
     ]
    },
    {
     "name": "stdout",
     "output_type": "stream",
     "text": [
      "\n",
      "      Epoch    GPU_mem   box_loss   cls_loss   dfl_loss  Instances       Size\n"
     ]
    },
    {
     "name": "stderr",
     "output_type": "stream",
     "text": [
      "     83/100      8.11G       1.01     0.5977      1.074         43        640: 100%|██████████| 25/25 [00:14<00:00,  1.71it/s]\n",
      "                 Class     Images  Instances      Box(P          R      mAP50  mAP50-95): 100%|██████████| 4/4 [00:03<00:00,  1.30it/s]"
     ]
    },
    {
     "name": "stdout",
     "output_type": "stream",
     "text": [
      "                   all        510       1003      0.861      0.808      0.891      0.499\n"
     ]
    },
    {
     "name": "stderr",
     "output_type": "stream",
     "text": [
      "\n"
     ]
    },
    {
     "name": "stdout",
     "output_type": "stream",
     "text": [
      "\n",
      "      Epoch    GPU_mem   box_loss   cls_loss   dfl_loss  Instances       Size\n"
     ]
    },
    {
     "name": "stderr",
     "output_type": "stream",
     "text": [
      "     84/100      8.12G     0.9865      0.587      1.074         27        640: 100%|██████████| 25/25 [00:14<00:00,  1.72it/s]\n",
      "                 Class     Images  Instances      Box(P          R      mAP50  mAP50-95): 100%|██████████| 4/4 [00:03<00:00,  1.30it/s]"
     ]
    },
    {
     "name": "stdout",
     "output_type": "stream",
     "text": [
      "                   all        510       1003       0.88      0.805      0.892      0.498\n"
     ]
    },
    {
     "name": "stderr",
     "output_type": "stream",
     "text": [
      "\n"
     ]
    },
    {
     "name": "stdout",
     "output_type": "stream",
     "text": [
      "\n",
      "      Epoch    GPU_mem   box_loss   cls_loss   dfl_loss  Instances       Size\n"
     ]
    },
    {
     "name": "stderr",
     "output_type": "stream",
     "text": [
      "     85/100      8.05G     0.9844     0.5906      1.063         50        640: 100%|██████████| 25/25 [00:15<00:00,  1.61it/s]\n",
      "                 Class     Images  Instances      Box(P          R      mAP50  mAP50-95): 100%|██████████| 4/4 [00:03<00:00,  1.30it/s]"
     ]
    },
    {
     "name": "stdout",
     "output_type": "stream",
     "text": [
      "                   all        510       1003      0.857      0.808      0.893      0.512\n"
     ]
    },
    {
     "name": "stderr",
     "output_type": "stream",
     "text": [
      "\n"
     ]
    },
    {
     "name": "stdout",
     "output_type": "stream",
     "text": [
      "\n",
      "      Epoch    GPU_mem   box_loss   cls_loss   dfl_loss  Instances       Size\n"
     ]
    },
    {
     "name": "stderr",
     "output_type": "stream",
     "text": [
      "     86/100      8.12G     0.9978     0.5897      1.067         51        640: 100%|██████████| 25/25 [00:14<00:00,  1.71it/s]\n",
      "                 Class     Images  Instances      Box(P          R      mAP50  mAP50-95): 100%|██████████| 4/4 [00:02<00:00,  1.35it/s]"
     ]
    },
    {
     "name": "stdout",
     "output_type": "stream",
     "text": [
      "                   all        510       1003      0.873      0.798      0.896      0.507\n"
     ]
    },
    {
     "name": "stderr",
     "output_type": "stream",
     "text": [
      "\n"
     ]
    },
    {
     "name": "stdout",
     "output_type": "stream",
     "text": [
      "\n",
      "      Epoch    GPU_mem   box_loss   cls_loss   dfl_loss  Instances       Size\n"
     ]
    },
    {
     "name": "stderr",
     "output_type": "stream",
     "text": [
      "     87/100      8.05G     0.9885     0.5852      1.059         37        640: 100%|██████████| 25/25 [00:15<00:00,  1.64it/s]\n",
      "                 Class     Images  Instances      Box(P          R      mAP50  mAP50-95): 100%|██████████| 4/4 [00:03<00:00,  1.32it/s]"
     ]
    },
    {
     "name": "stdout",
     "output_type": "stream",
     "text": [
      "                   all        510       1003       0.89      0.793      0.894      0.505\n"
     ]
    },
    {
     "name": "stderr",
     "output_type": "stream",
     "text": [
      "\n"
     ]
    },
    {
     "name": "stdout",
     "output_type": "stream",
     "text": [
      "\n",
      "      Epoch    GPU_mem   box_loss   cls_loss   dfl_loss  Instances       Size\n"
     ]
    },
    {
     "name": "stderr",
     "output_type": "stream",
     "text": [
      "     88/100      8.06G     0.9788     0.5833      1.051         53        640: 100%|██████████| 25/25 [00:14<00:00,  1.72it/s]\n",
      "                 Class     Images  Instances      Box(P          R      mAP50  mAP50-95): 100%|██████████| 4/4 [00:03<00:00,  1.24it/s]"
     ]
    },
    {
     "name": "stdout",
     "output_type": "stream",
     "text": [
      "                   all        510       1003      0.885      0.801      0.903      0.512\n"
     ]
    },
    {
     "name": "stderr",
     "output_type": "stream",
     "text": [
      "\n"
     ]
    },
    {
     "name": "stdout",
     "output_type": "stream",
     "text": [
      "\n",
      "      Epoch    GPU_mem   box_loss   cls_loss   dfl_loss  Instances       Size\n"
     ]
    },
    {
     "name": "stderr",
     "output_type": "stream",
     "text": [
      "     89/100      8.06G     0.9887     0.5843      1.055         50        640: 100%|██████████| 25/25 [00:14<00:00,  1.71it/s]\n",
      "                 Class     Images  Instances      Box(P          R      mAP50  mAP50-95): 100%|██████████| 4/4 [00:03<00:00,  1.31it/s]"
     ]
    },
    {
     "name": "stdout",
     "output_type": "stream",
     "text": [
      "                   all        510       1003      0.883      0.794      0.891      0.504\n"
     ]
    },
    {
     "name": "stderr",
     "output_type": "stream",
     "text": [
      "\n"
     ]
    },
    {
     "name": "stdout",
     "output_type": "stream",
     "text": [
      "\n",
      "      Epoch    GPU_mem   box_loss   cls_loss   dfl_loss  Instances       Size\n"
     ]
    },
    {
     "name": "stderr",
     "output_type": "stream",
     "text": [
      "     90/100      8.06G     0.9579     0.5644       1.04         55        640: 100%|██████████| 25/25 [00:14<00:00,  1.69it/s]\n",
      "                 Class     Images  Instances      Box(P          R      mAP50  mAP50-95): 100%|██████████| 4/4 [00:03<00:00,  1.27it/s]"
     ]
    },
    {
     "name": "stdout",
     "output_type": "stream",
     "text": [
      "                   all        510       1003      0.896      0.789      0.896      0.506\n"
     ]
    },
    {
     "name": "stderr",
     "output_type": "stream",
     "text": [
      "\n"
     ]
    },
    {
     "name": "stdout",
     "output_type": "stream",
     "text": [
      "Closing dataloader mosaic\n",
      "\u001B[34m\u001B[1malbumentations: \u001B[0mBlur(p=0.01, blur_limit=(3, 7)), MedianBlur(p=0.01, blur_limit=(3, 7)), ToGray(p=0.01, num_output_channels=3, method='weighted_average'), CLAHE(p=0.01, clip_limit=(1.0, 4.0), tile_grid_size=(8, 8))\n"
     ]
    },
    {
     "name": "stderr",
     "output_type": "stream",
     "text": [
      "/opt/conda/lib/python3.10/multiprocessing/popen_fork.py:66: RuntimeWarning: os.fork() was called. os.fork() is incompatible with multithreaded code, and JAX is multithreaded, so this will likely lead to a deadlock.\n",
      "  self.pid = os.fork()\n",
      "/opt/conda/lib/python3.10/multiprocessing/popen_fork.py:66: RuntimeWarning: os.fork() was called. os.fork() is incompatible with multithreaded code, and JAX is multithreaded, so this will likely lead to a deadlock.\n",
      "  self.pid = os.fork()\n"
     ]
    },
    {
     "name": "stdout",
     "output_type": "stream",
     "text": [
      "\n",
      "      Epoch    GPU_mem   box_loss   cls_loss   dfl_loss  Instances       Size\n"
     ]
    },
    {
     "name": "stderr",
     "output_type": "stream",
     "text": [
      "     91/100      7.99G     0.9267     0.5157      1.035         25        640: 100%|██████████| 25/25 [00:17<00:00,  1.46it/s]\n",
      "                 Class     Images  Instances      Box(P          R      mAP50  mAP50-95): 100%|██████████| 4/4 [00:02<00:00,  1.37it/s]"
     ]
    },
    {
     "name": "stdout",
     "output_type": "stream",
     "text": [
      "                   all        510       1003      0.885      0.781      0.878      0.506\n"
     ]
    },
    {
     "name": "stderr",
     "output_type": "stream",
     "text": [
      "\n"
     ]
    },
    {
     "name": "stdout",
     "output_type": "stream",
     "text": [
      "\n",
      "      Epoch    GPU_mem   box_loss   cls_loss   dfl_loss  Instances       Size\n"
     ]
    },
    {
     "name": "stderr",
     "output_type": "stream",
     "text": [
      "     92/100      7.99G      0.883     0.4657      1.013         30        640: 100%|██████████| 25/25 [00:14<00:00,  1.71it/s]\n",
      "                 Class     Images  Instances      Box(P          R      mAP50  mAP50-95): 100%|██████████| 4/4 [00:02<00:00,  1.35it/s]"
     ]
    },
    {
     "name": "stdout",
     "output_type": "stream",
     "text": [
      "                   all        510       1003       0.86      0.803      0.887      0.502\n"
     ]
    },
    {
     "name": "stderr",
     "output_type": "stream",
     "text": [
      "\n"
     ]
    },
    {
     "name": "stdout",
     "output_type": "stream",
     "text": [
      "\n",
      "      Epoch    GPU_mem   box_loss   cls_loss   dfl_loss  Instances       Size\n"
     ]
    },
    {
     "name": "stderr",
     "output_type": "stream",
     "text": [
      "     93/100      8.04G      0.855     0.4504     0.9985         30        640: 100%|██████████| 25/25 [00:14<00:00,  1.74it/s]\n",
      "                 Class     Images  Instances      Box(P          R      mAP50  mAP50-95): 100%|██████████| 4/4 [00:03<00:00,  1.32it/s]"
     ]
    },
    {
     "name": "stdout",
     "output_type": "stream",
     "text": [
      "                   all        510       1003       0.86      0.811      0.887      0.502\n"
     ]
    },
    {
     "name": "stderr",
     "output_type": "stream",
     "text": [
      "\n"
     ]
    },
    {
     "name": "stdout",
     "output_type": "stream",
     "text": [
      "\n",
      "      Epoch    GPU_mem   box_loss   cls_loss   dfl_loss  Instances       Size\n"
     ]
    },
    {
     "name": "stderr",
     "output_type": "stream",
     "text": [
      "     94/100      7.99G     0.8624     0.4516      1.007         22        640: 100%|██████████| 25/25 [00:14<00:00,  1.74it/s]\n",
      "                 Class     Images  Instances      Box(P          R      mAP50  mAP50-95): 100%|██████████| 4/4 [00:02<00:00,  1.36it/s]"
     ]
    },
    {
     "name": "stdout",
     "output_type": "stream",
     "text": [
      "                   all        510       1003      0.874      0.804      0.897      0.502\n"
     ]
    },
    {
     "name": "stderr",
     "output_type": "stream",
     "text": [
      "\n"
     ]
    },
    {
     "name": "stdout",
     "output_type": "stream",
     "text": [
      "\n",
      "      Epoch    GPU_mem   box_loss   cls_loss   dfl_loss  Instances       Size\n"
     ]
    },
    {
     "name": "stderr",
     "output_type": "stream",
     "text": [
      "     95/100      8.04G     0.8316     0.4318     0.9837         22        640: 100%|██████████| 25/25 [00:14<00:00,  1.73it/s]\n",
      "                 Class     Images  Instances      Box(P          R      mAP50  mAP50-95): 100%|██████████| 4/4 [00:02<00:00,  1.34it/s]"
     ]
    },
    {
     "name": "stdout",
     "output_type": "stream",
     "text": [
      "                   all        510       1003      0.906      0.774      0.893      0.503\n"
     ]
    },
    {
     "name": "stderr",
     "output_type": "stream",
     "text": [
      "\n"
     ]
    },
    {
     "name": "stdout",
     "output_type": "stream",
     "text": [
      "\n",
      "      Epoch    GPU_mem   box_loss   cls_loss   dfl_loss  Instances       Size\n"
     ]
    },
    {
     "name": "stderr",
     "output_type": "stream",
     "text": [
      "     96/100      7.99G     0.8452     0.4363     0.9948         27        640: 100%|██████████| 25/25 [00:14<00:00,  1.74it/s]\n",
      "                 Class     Images  Instances      Box(P          R      mAP50  mAP50-95): 100%|██████████| 4/4 [00:02<00:00,  1.35it/s]"
     ]
    },
    {
     "name": "stdout",
     "output_type": "stream",
     "text": [
      "                   all        510       1003       0.87      0.813      0.899      0.504\n"
     ]
    },
    {
     "name": "stderr",
     "output_type": "stream",
     "text": [
      "\n"
     ]
    },
    {
     "name": "stdout",
     "output_type": "stream",
     "text": [
      "\n",
      "      Epoch    GPU_mem   box_loss   cls_loss   dfl_loss  Instances       Size\n"
     ]
    },
    {
     "name": "stderr",
     "output_type": "stream",
     "text": [
      "     97/100      7.99G     0.8397      0.438     0.9958         28        640: 100%|██████████| 25/25 [00:14<00:00,  1.73it/s]\n",
      "                 Class     Images  Instances      Box(P          R      mAP50  mAP50-95): 100%|██████████| 4/4 [00:02<00:00,  1.33it/s]"
     ]
    },
    {
     "name": "stdout",
     "output_type": "stream",
     "text": [
      "                   all        510       1003       0.88      0.805      0.899      0.508\n"
     ]
    },
    {
     "name": "stderr",
     "output_type": "stream",
     "text": [
      "\n"
     ]
    },
    {
     "name": "stdout",
     "output_type": "stream",
     "text": [
      "\n",
      "      Epoch    GPU_mem   box_loss   cls_loss   dfl_loss  Instances       Size\n"
     ]
    },
    {
     "name": "stderr",
     "output_type": "stream",
     "text": [
      "     98/100      7.99G     0.8175     0.4286      0.978         23        640: 100%|██████████| 25/25 [00:14<00:00,  1.74it/s]\n",
      "                 Class     Images  Instances      Box(P          R      mAP50  mAP50-95): 100%|██████████| 4/4 [00:02<00:00,  1.36it/s]"
     ]
    },
    {
     "name": "stdout",
     "output_type": "stream",
     "text": [
      "                   all        510       1003      0.881      0.792      0.894      0.516\n"
     ]
    },
    {
     "name": "stderr",
     "output_type": "stream",
     "text": [
      "\n"
     ]
    },
    {
     "name": "stdout",
     "output_type": "stream",
     "text": [
      "\n",
      "      Epoch    GPU_mem   box_loss   cls_loss   dfl_loss  Instances       Size\n"
     ]
    },
    {
     "name": "stderr",
     "output_type": "stream",
     "text": [
      "     99/100      7.99G     0.8198     0.4309     0.9784         27        640: 100%|██████████| 25/25 [00:14<00:00,  1.73it/s]\n",
      "                 Class     Images  Instances      Box(P          R      mAP50  mAP50-95): 100%|██████████| 4/4 [00:02<00:00,  1.34it/s]"
     ]
    },
    {
     "name": "stdout",
     "output_type": "stream",
     "text": [
      "                   all        510       1003      0.893      0.792      0.901       0.51\n"
     ]
    },
    {
     "name": "stderr",
     "output_type": "stream",
     "text": [
      "\n"
     ]
    },
    {
     "name": "stdout",
     "output_type": "stream",
     "text": [
      "\n",
      "      Epoch    GPU_mem   box_loss   cls_loss   dfl_loss  Instances       Size\n"
     ]
    },
    {
     "name": "stderr",
     "output_type": "stream",
     "text": [
      "    100/100      7.99G     0.8239     0.4231     0.9876         23        640: 100%|██████████| 25/25 [00:14<00:00,  1.74it/s]\n",
      "                 Class     Images  Instances      Box(P          R      mAP50  mAP50-95): 100%|██████████| 4/4 [00:02<00:00,  1.34it/s]"
     ]
    },
    {
     "name": "stdout",
     "output_type": "stream",
     "text": [
      "                   all        510       1003      0.898      0.795      0.902      0.511\n"
     ]
    },
    {
     "name": "stderr",
     "output_type": "stream",
     "text": [
      "\n"
     ]
    },
    {
     "name": "stdout",
     "output_type": "stream",
     "text": [
      "\n",
      "100 epochs completed in 0.515 hours.\n",
      "Optimizer stripped from runs/detect/train/weights/last.pt, 6.2MB\n",
      "Optimizer stripped from runs/detect/train/weights/best.pt, 6.2MB\n",
      "\n",
      "Validating runs/detect/train/weights/best.pt...\n",
      "Ultralytics 8.3.49 🚀 Python-3.10.14 torch-2.4.0 CUDA:0 (Tesla T4, 15095MiB)\n",
      "Model summary (fused): 168 layers, 3,005,843 parameters, 0 gradients, 8.1 GFLOPs\n"
     ]
    },
    {
     "name": "stderr",
     "output_type": "stream",
     "text": [
      "                 Class     Images  Instances      Box(P          R      mAP50  mAP50-95): 100%|██████████| 4/4 [00:06<00:00,  1.52s/it]\n"
     ]
    },
    {
     "name": "stdout",
     "output_type": "stream",
     "text": [
      "                   all        510       1003      0.881      0.783      0.893      0.518\n",
      "Speed: 0.1ms preprocess, 6.6ms inference, 0.0ms loss, 1.1ms postprocess per image\n",
      "Results saved to \u001B[1mruns/detect/train\u001B[0m\n"
     ]
    },
    {
     "data": {
      "text/plain": [
       "ultralytics.utils.metrics.DetMetrics object with attributes:\n",
       "\n",
       "ap_class_index: array([0])\n",
       "box: ultralytics.utils.metrics.Metric object\n",
       "confusion_matrix: <ultralytics.utils.metrics.ConfusionMatrix object at 0x7e7c6baff220>\n",
       "curves: ['Precision-Recall(B)', 'F1-Confidence(B)', 'Precision-Confidence(B)', 'Recall-Confidence(B)']\n",
       "curves_results: [[array([          0,    0.001001,    0.002002,    0.003003,    0.004004,    0.005005,    0.006006,    0.007007,    0.008008,    0.009009,     0.01001,    0.011011,    0.012012,    0.013013,    0.014014,    0.015015,    0.016016,    0.017017,    0.018018,    0.019019,     0.02002,    0.021021,    0.022022,    0.023023,\n",
       "          0.024024,    0.025025,    0.026026,    0.027027,    0.028028,    0.029029,     0.03003,    0.031031,    0.032032,    0.033033,    0.034034,    0.035035,    0.036036,    0.037037,    0.038038,    0.039039,     0.04004,    0.041041,    0.042042,    0.043043,    0.044044,    0.045045,    0.046046,    0.047047,\n",
       "          0.048048,    0.049049,     0.05005,    0.051051,    0.052052,    0.053053,    0.054054,    0.055055,    0.056056,    0.057057,    0.058058,    0.059059,     0.06006,    0.061061,    0.062062,    0.063063,    0.064064,    0.065065,    0.066066,    0.067067,    0.068068,    0.069069,     0.07007,    0.071071,\n",
       "          0.072072,    0.073073,    0.074074,    0.075075,    0.076076,    0.077077,    0.078078,    0.079079,     0.08008,    0.081081,    0.082082,    0.083083,    0.084084,    0.085085,    0.086086,    0.087087,    0.088088,    0.089089,     0.09009,    0.091091,    0.092092,    0.093093,    0.094094,    0.095095,\n",
       "          0.096096,    0.097097,    0.098098,    0.099099,      0.1001,      0.1011,      0.1021,      0.1031,      0.1041,     0.10511,     0.10611,     0.10711,     0.10811,     0.10911,     0.11011,     0.11111,     0.11211,     0.11311,     0.11411,     0.11512,     0.11612,     0.11712,     0.11812,     0.11912,\n",
       "           0.12012,     0.12112,     0.12212,     0.12312,     0.12412,     0.12513,     0.12613,     0.12713,     0.12813,     0.12913,     0.13013,     0.13113,     0.13213,     0.13313,     0.13413,     0.13514,     0.13614,     0.13714,     0.13814,     0.13914,     0.14014,     0.14114,     0.14214,     0.14314,\n",
       "           0.14414,     0.14515,     0.14615,     0.14715,     0.14815,     0.14915,     0.15015,     0.15115,     0.15215,     0.15315,     0.15415,     0.15516,     0.15616,     0.15716,     0.15816,     0.15916,     0.16016,     0.16116,     0.16216,     0.16316,     0.16416,     0.16517,     0.16617,     0.16717,\n",
       "           0.16817,     0.16917,     0.17017,     0.17117,     0.17217,     0.17317,     0.17417,     0.17518,     0.17618,     0.17718,     0.17818,     0.17918,     0.18018,     0.18118,     0.18218,     0.18318,     0.18418,     0.18519,     0.18619,     0.18719,     0.18819,     0.18919,     0.19019,     0.19119,\n",
       "           0.19219,     0.19319,     0.19419,      0.1952,      0.1962,      0.1972,      0.1982,      0.1992,      0.2002,      0.2012,      0.2022,      0.2032,      0.2042,     0.20521,     0.20621,     0.20721,     0.20821,     0.20921,     0.21021,     0.21121,     0.21221,     0.21321,     0.21421,     0.21522,\n",
       "           0.21622,     0.21722,     0.21822,     0.21922,     0.22022,     0.22122,     0.22222,     0.22322,     0.22422,     0.22523,     0.22623,     0.22723,     0.22823,     0.22923,     0.23023,     0.23123,     0.23223,     0.23323,     0.23423,     0.23524,     0.23624,     0.23724,     0.23824,     0.23924,\n",
       "           0.24024,     0.24124,     0.24224,     0.24324,     0.24424,     0.24525,     0.24625,     0.24725,     0.24825,     0.24925,     0.25025,     0.25125,     0.25225,     0.25325,     0.25425,     0.25526,     0.25626,     0.25726,     0.25826,     0.25926,     0.26026,     0.26126,     0.26226,     0.26326,\n",
       "           0.26426,     0.26527,     0.26627,     0.26727,     0.26827,     0.26927,     0.27027,     0.27127,     0.27227,     0.27327,     0.27427,     0.27528,     0.27628,     0.27728,     0.27828,     0.27928,     0.28028,     0.28128,     0.28228,     0.28328,     0.28428,     0.28529,     0.28629,     0.28729,\n",
       "           0.28829,     0.28929,     0.29029,     0.29129,     0.29229,     0.29329,     0.29429,      0.2953,      0.2963,      0.2973,      0.2983,      0.2993,      0.3003,      0.3013,      0.3023,      0.3033,      0.3043,     0.30531,     0.30631,     0.30731,     0.30831,     0.30931,     0.31031,     0.31131,\n",
       "           0.31231,     0.31331,     0.31431,     0.31532,     0.31632,     0.31732,     0.31832,     0.31932,     0.32032,     0.32132,     0.32232,     0.32332,     0.32432,     0.32533,     0.32633,     0.32733,     0.32833,     0.32933,     0.33033,     0.33133,     0.33233,     0.33333,     0.33433,     0.33534,\n",
       "           0.33634,     0.33734,     0.33834,     0.33934,     0.34034,     0.34134,     0.34234,     0.34334,     0.34434,     0.34535,     0.34635,     0.34735,     0.34835,     0.34935,     0.35035,     0.35135,     0.35235,     0.35335,     0.35435,     0.35536,     0.35636,     0.35736,     0.35836,     0.35936,\n",
       "           0.36036,     0.36136,     0.36236,     0.36336,     0.36436,     0.36537,     0.36637,     0.36737,     0.36837,     0.36937,     0.37037,     0.37137,     0.37237,     0.37337,     0.37437,     0.37538,     0.37638,     0.37738,     0.37838,     0.37938,     0.38038,     0.38138,     0.38238,     0.38338,\n",
       "           0.38438,     0.38539,     0.38639,     0.38739,     0.38839,     0.38939,     0.39039,     0.39139,     0.39239,     0.39339,     0.39439,      0.3954,      0.3964,      0.3974,      0.3984,      0.3994,      0.4004,      0.4014,      0.4024,      0.4034,      0.4044,     0.40541,     0.40641,     0.40741,\n",
       "           0.40841,     0.40941,     0.41041,     0.41141,     0.41241,     0.41341,     0.41441,     0.41542,     0.41642,     0.41742,     0.41842,     0.41942,     0.42042,     0.42142,     0.42242,     0.42342,     0.42442,     0.42543,     0.42643,     0.42743,     0.42843,     0.42943,     0.43043,     0.43143,\n",
       "           0.43243,     0.43343,     0.43443,     0.43544,     0.43644,     0.43744,     0.43844,     0.43944,     0.44044,     0.44144,     0.44244,     0.44344,     0.44444,     0.44545,     0.44645,     0.44745,     0.44845,     0.44945,     0.45045,     0.45145,     0.45245,     0.45345,     0.45445,     0.45546,\n",
       "           0.45646,     0.45746,     0.45846,     0.45946,     0.46046,     0.46146,     0.46246,     0.46346,     0.46446,     0.46547,     0.46647,     0.46747,     0.46847,     0.46947,     0.47047,     0.47147,     0.47247,     0.47347,     0.47447,     0.47548,     0.47648,     0.47748,     0.47848,     0.47948,\n",
       "           0.48048,     0.48148,     0.48248,     0.48348,     0.48448,     0.48549,     0.48649,     0.48749,     0.48849,     0.48949,     0.49049,     0.49149,     0.49249,     0.49349,     0.49449,      0.4955,      0.4965,      0.4975,      0.4985,      0.4995,      0.5005,      0.5015,      0.5025,      0.5035,\n",
       "            0.5045,     0.50551,     0.50651,     0.50751,     0.50851,     0.50951,     0.51051,     0.51151,     0.51251,     0.51351,     0.51451,     0.51552,     0.51652,     0.51752,     0.51852,     0.51952,     0.52052,     0.52152,     0.52252,     0.52352,     0.52452,     0.52553,     0.52653,     0.52753,\n",
       "           0.52853,     0.52953,     0.53053,     0.53153,     0.53253,     0.53353,     0.53453,     0.53554,     0.53654,     0.53754,     0.53854,     0.53954,     0.54054,     0.54154,     0.54254,     0.54354,     0.54454,     0.54555,     0.54655,     0.54755,     0.54855,     0.54955,     0.55055,     0.55155,\n",
       "           0.55255,     0.55355,     0.55455,     0.55556,     0.55656,     0.55756,     0.55856,     0.55956,     0.56056,     0.56156,     0.56256,     0.56356,     0.56456,     0.56557,     0.56657,     0.56757,     0.56857,     0.56957,     0.57057,     0.57157,     0.57257,     0.57357,     0.57457,     0.57558,\n",
       "           0.57658,     0.57758,     0.57858,     0.57958,     0.58058,     0.58158,     0.58258,     0.58358,     0.58458,     0.58559,     0.58659,     0.58759,     0.58859,     0.58959,     0.59059,     0.59159,     0.59259,     0.59359,     0.59459,      0.5956,      0.5966,      0.5976,      0.5986,      0.5996,\n",
       "            0.6006,      0.6016,      0.6026,      0.6036,      0.6046,     0.60561,     0.60661,     0.60761,     0.60861,     0.60961,     0.61061,     0.61161,     0.61261,     0.61361,     0.61461,     0.61562,     0.61662,     0.61762,     0.61862,     0.61962,     0.62062,     0.62162,     0.62262,     0.62362,\n",
       "           0.62462,     0.62563,     0.62663,     0.62763,     0.62863,     0.62963,     0.63063,     0.63163,     0.63263,     0.63363,     0.63463,     0.63564,     0.63664,     0.63764,     0.63864,     0.63964,     0.64064,     0.64164,     0.64264,     0.64364,     0.64464,     0.64565,     0.64665,     0.64765,\n",
       "           0.64865,     0.64965,     0.65065,     0.65165,     0.65265,     0.65365,     0.65465,     0.65566,     0.65666,     0.65766,     0.65866,     0.65966,     0.66066,     0.66166,     0.66266,     0.66366,     0.66466,     0.66567,     0.66667,     0.66767,     0.66867,     0.66967,     0.67067,     0.67167,\n",
       "           0.67267,     0.67367,     0.67467,     0.67568,     0.67668,     0.67768,     0.67868,     0.67968,     0.68068,     0.68168,     0.68268,     0.68368,     0.68468,     0.68569,     0.68669,     0.68769,     0.68869,     0.68969,     0.69069,     0.69169,     0.69269,     0.69369,     0.69469,      0.6957,\n",
       "            0.6967,      0.6977,      0.6987,      0.6997,      0.7007,      0.7017,      0.7027,      0.7037,      0.7047,     0.70571,     0.70671,     0.70771,     0.70871,     0.70971,     0.71071,     0.71171,     0.71271,     0.71371,     0.71471,     0.71572,     0.71672,     0.71772,     0.71872,     0.71972,\n",
       "           0.72072,     0.72172,     0.72272,     0.72372,     0.72472,     0.72573,     0.72673,     0.72773,     0.72873,     0.72973,     0.73073,     0.73173,     0.73273,     0.73373,     0.73473,     0.73574,     0.73674,     0.73774,     0.73874,     0.73974,     0.74074,     0.74174,     0.74274,     0.74374,\n",
       "           0.74474,     0.74575,     0.74675,     0.74775,     0.74875,     0.74975,     0.75075,     0.75175,     0.75275,     0.75375,     0.75475,     0.75576,     0.75676,     0.75776,     0.75876,     0.75976,     0.76076,     0.76176,     0.76276,     0.76376,     0.76476,     0.76577,     0.76677,     0.76777,\n",
       "           0.76877,     0.76977,     0.77077,     0.77177,     0.77277,     0.77377,     0.77477,     0.77578,     0.77678,     0.77778,     0.77878,     0.77978,     0.78078,     0.78178,     0.78278,     0.78378,     0.78478,     0.78579,     0.78679,     0.78779,     0.78879,     0.78979,     0.79079,     0.79179,\n",
       "           0.79279,     0.79379,     0.79479,      0.7958,      0.7968,      0.7978,      0.7988,      0.7998,      0.8008,      0.8018,      0.8028,      0.8038,      0.8048,     0.80581,     0.80681,     0.80781,     0.80881,     0.80981,     0.81081,     0.81181,     0.81281,     0.81381,     0.81481,     0.81582,\n",
       "           0.81682,     0.81782,     0.81882,     0.81982,     0.82082,     0.82182,     0.82282,     0.82382,     0.82482,     0.82583,     0.82683,     0.82783,     0.82883,     0.82983,     0.83083,     0.83183,     0.83283,     0.83383,     0.83483,     0.83584,     0.83684,     0.83784,     0.83884,     0.83984,\n",
       "           0.84084,     0.84184,     0.84284,     0.84384,     0.84484,     0.84585,     0.84685,     0.84785,     0.84885,     0.84985,     0.85085,     0.85185,     0.85285,     0.85385,     0.85485,     0.85586,     0.85686,     0.85786,     0.85886,     0.85986,     0.86086,     0.86186,     0.86286,     0.86386,\n",
       "           0.86486,     0.86587,     0.86687,     0.86787,     0.86887,     0.86987,     0.87087,     0.87187,     0.87287,     0.87387,     0.87487,     0.87588,     0.87688,     0.87788,     0.87888,     0.87988,     0.88088,     0.88188,     0.88288,     0.88388,     0.88488,     0.88589,     0.88689,     0.88789,\n",
       "           0.88889,     0.88989,     0.89089,     0.89189,     0.89289,     0.89389,     0.89489,      0.8959,      0.8969,      0.8979,      0.8989,      0.8999,      0.9009,      0.9019,      0.9029,      0.9039,      0.9049,     0.90591,     0.90691,     0.90791,     0.90891,     0.90991,     0.91091,     0.91191,\n",
       "           0.91291,     0.91391,     0.91491,     0.91592,     0.91692,     0.91792,     0.91892,     0.91992,     0.92092,     0.92192,     0.92292,     0.92392,     0.92492,     0.92593,     0.92693,     0.92793,     0.92893,     0.92993,     0.93093,     0.93193,     0.93293,     0.93393,     0.93493,     0.93594,\n",
       "           0.93694,     0.93794,     0.93894,     0.93994,     0.94094,     0.94194,     0.94294,     0.94394,     0.94494,     0.94595,     0.94695,     0.94795,     0.94895,     0.94995,     0.95095,     0.95195,     0.95295,     0.95395,     0.95495,     0.95596,     0.95696,     0.95796,     0.95896,     0.95996,\n",
       "           0.96096,     0.96196,     0.96296,     0.96396,     0.96496,     0.96597,     0.96697,     0.96797,     0.96897,     0.96997,     0.97097,     0.97197,     0.97297,     0.97397,     0.97497,     0.97598,     0.97698,     0.97798,     0.97898,     0.97998,     0.98098,     0.98198,     0.98298,     0.98398,\n",
       "           0.98498,     0.98599,     0.98699,     0.98799,     0.98899,     0.98999,     0.99099,     0.99199,     0.99299,     0.99399,     0.99499,       0.996,       0.997,       0.998,       0.999,           1]), array([[          1,           1,           1,           1,           1,           1,           1,           1,           1,           1,           1,           1,           1,           1,           1,           1,           1,           1,           1,           1,           1,           1,           1,\n",
       "                  1,           1,           1,           1,           1,           1,           1,           1,           1,           1,           1,           1,           1,           1,           1,           1,           1,           1,           1,           1,           1,           1,           1,\n",
       "                  1,           1,           1,           1,           1,           1,           1,           1,           1,           1,           1,           1,           1,           1,           1,           1,           1,           1,           1,           1,           1,           1,           1,\n",
       "                  1,           1,           1,           1,           1,           1,           1,           1,           1,           1,           1,           1,           1,           1,           1,           1,           1,           1,           1,           1,           1,           1,           1,\n",
       "            0.98958,     0.98958,     0.98958,     0.98681,     0.98681,     0.98681,     0.98681,     0.98681,     0.98681,     0.98681,     0.98681,     0.98681,     0.98681,     0.98681,     0.98681,     0.98681,     0.98681,     0.98681,     0.98681,     0.98681,     0.98681,     0.98681,     0.98681,\n",
       "            0.98681,     0.98681,     0.98681,     0.98681,     0.98681,     0.98681,     0.98681,     0.98681,     0.98681,     0.98681,     0.98681,     0.98681,     0.98681,     0.98681,     0.98681,     0.98681,     0.98681,     0.98681,     0.98681,     0.98681,     0.98681,     0.98681,     0.98681,\n",
       "            0.98681,     0.98681,     0.98681,     0.98681,     0.98681,     0.98681,     0.98681,     0.98681,     0.98681,     0.98681,     0.98681,     0.98681,     0.98681,     0.98681,     0.98681,     0.98681,     0.98681,     0.98681,     0.98681,     0.98681,     0.98681,     0.98681,     0.98681,\n",
       "            0.98681,     0.98681,     0.98681,     0.98681,     0.98681,     0.98681,     0.98681,     0.98681,     0.98681,     0.98681,     0.98681,     0.98681,     0.98681,     0.98681,     0.98681,     0.98681,     0.98681,     0.98681,     0.98681,     0.98681,     0.98681,     0.98681,     0.98681,\n",
       "            0.98681,     0.98681,     0.98681,     0.98681,     0.98681,     0.98681,     0.98681,     0.98681,     0.98681,     0.98681,     0.98681,     0.98681,     0.98681,     0.98681,     0.98681,     0.98681,     0.98681,     0.98681,     0.98681,     0.98681,     0.98681,     0.98681,     0.98681,\n",
       "            0.98681,     0.98681,     0.98681,     0.98681,     0.98681,     0.98681,     0.98681,     0.98681,     0.98681,     0.98681,     0.98681,     0.98681,     0.98681,     0.98681,     0.98681,     0.98681,     0.98681,     0.98681,     0.98681,     0.98681,     0.98681,     0.98681,     0.98681,\n",
       "            0.98681,     0.98681,     0.98681,     0.98681,     0.98681,     0.98681,     0.98681,     0.98681,     0.98681,     0.98681,     0.98681,     0.98681,     0.98681,     0.98681,     0.98681,     0.98681,     0.98681,     0.98681,     0.98681,     0.98681,     0.98681,     0.98681,     0.98681,\n",
       "            0.98681,     0.98681,     0.98681,     0.98681,     0.98681,     0.98681,     0.98681,     0.98681,     0.98681,     0.98681,     0.98681,     0.98681,     0.98681,     0.98681,     0.98681,     0.98681,     0.98681,     0.98681,     0.98681,     0.98681,     0.98681,     0.98681,     0.98681,\n",
       "            0.98681,     0.98681,     0.98681,     0.98681,     0.98681,     0.98681,     0.98681,     0.98681,     0.98681,     0.98681,     0.98681,     0.98681,     0.98681,     0.98681,     0.98681,     0.98681,     0.98681,     0.98681,     0.98681,     0.98681,     0.98681,     0.98681,     0.98681,\n",
       "            0.98681,     0.98681,     0.98681,     0.98681,     0.98681,     0.98681,     0.98681,     0.98681,     0.98681,     0.98681,     0.98681,     0.98681,     0.98681,     0.98681,     0.98681,     0.98681,     0.98681,     0.98681,     0.98681,     0.98681,     0.98681,     0.98681,     0.98681,\n",
       "            0.98681,     0.98681,     0.98681,     0.98681,     0.98681,     0.98681,     0.98681,     0.98681,     0.98681,     0.98681,     0.98681,     0.98681,     0.98681,     0.98681,     0.98681,     0.98681,     0.98681,     0.98681,     0.98681,     0.98681,     0.98681,     0.98681,     0.98681,\n",
       "            0.98681,     0.98681,     0.98681,     0.98681,     0.98681,     0.98681,     0.98681,     0.98681,     0.98681,     0.98681,     0.98681,     0.98681,     0.98681,     0.98681,     0.98681,     0.98681,     0.98681,     0.98681,     0.98681,     0.98681,     0.98681,     0.98681,     0.98681,\n",
       "            0.98681,     0.98681,     0.98681,     0.98681,     0.98681,      0.9863,      0.9863,      0.9863,      0.9863,      0.9863,      0.9863,      0.9863,      0.9863,      0.9863,      0.9863,      0.9863,      0.9863,      0.9863,      0.9863,      0.9863,      0.9863,      0.9863,      0.9863,\n",
       "             0.9863,      0.9863,      0.9863,      0.9863,      0.9863,      0.9863,      0.9863,      0.9863,      0.9863,      0.9863,      0.9863,      0.9863,      0.9863,      0.9863,      0.9863,      0.9863,      0.9863,      0.9863,      0.9863,      0.9863,      0.9863,      0.9863,      0.9863,\n",
       "             0.9863,      0.9863,      0.9863,      0.9863,      0.9863,      0.9863,      0.9863,      0.9863,      0.9863,      0.9863,      0.9863,      0.9863,      0.9863,      0.9863,      0.9863,      0.9863,      0.9863,      0.9863,      0.9863,      0.9863,      0.9863,      0.9863,      0.9863,\n",
       "             0.9863,      0.9863,      0.9863,      0.9863,      0.9863,      0.9863,      0.9863,      0.9863,      0.9863,      0.9863,      0.9863,      0.9863,      0.9863,      0.9863,      0.9863,      0.9863,      0.9863,      0.9863,      0.9863,      0.9863,      0.9863,      0.9863,      0.9863,\n",
       "             0.9863,      0.9863,      0.9863,      0.9863,      0.9863,      0.9863,      0.9863,      0.9863,      0.9863,      0.9863,      0.9863,      0.9863,      0.9863,      0.9863,      0.9863,      0.9863,      0.9863,      0.9863,      0.9863,      0.9863,      0.9863,      0.9863,      0.9863,\n",
       "             0.9863,      0.9863,      0.9863,      0.9863,      0.9863,      0.9863,      0.9863,      0.9863,      0.9863,      0.9863,      0.9863,      0.9863,      0.9863,      0.9863,      0.9863,      0.9863,      0.9863,      0.9863,      0.9863,      0.9863,      0.9863,      0.9863,      0.9863,\n",
       "             0.9863,      0.9863,      0.9863,      0.9863,      0.9863,      0.9863,      0.9863,      0.9863,      0.9863,      0.9863,      0.9863,      0.9863,      0.9863,      0.9863,      0.9863,      0.9863,      0.9863,      0.9863,      0.9863,      0.9863,      0.9863,      0.9863,      0.9863,\n",
       "             0.9863,      0.9863,      0.9863,      0.9863,      0.9863,      0.9863,      0.9863,      0.9863,      0.9863,      0.9863,      0.9863,      0.9863,      0.9863,      0.9863,      0.9863,      0.9863,      0.9863,      0.9863,      0.9863,      0.9863,      0.9863,      0.9863,      0.9863,\n",
       "             0.9863,      0.9863,      0.9863,      0.9863,      0.9863,      0.9863,      0.9863,      0.9863,      0.9863,      0.9863,      0.9863,      0.9863,      0.9863,      0.9863,      0.9863,      0.9863,      0.9863,      0.9863,      0.9863,      0.9863,      0.9863,      0.9863,     0.98477,\n",
       "            0.98477,     0.98477,     0.98477,     0.98477,     0.98477,     0.98333,     0.98333,     0.98333,     0.98333,     0.98333,     0.98333,     0.98333,     0.98333,     0.98049,     0.98049,     0.98049,     0.98049,     0.98049,     0.98049,     0.98049,     0.98049,     0.98049,     0.98049,\n",
       "            0.98049,     0.98049,     0.98049,     0.97767,     0.97767,     0.97767,     0.97767,     0.97767,     0.97767,     0.97767,     0.97767,     0.97767,     0.97767,     0.97615,     0.97464,     0.97356,     0.97356,     0.97356,     0.97356,     0.97356,     0.97356,     0.97356,     0.97356,\n",
       "            0.97356,     0.97356,     0.97356,     0.97209,     0.96799,     0.96799,     0.96799,     0.96799,     0.96799,     0.96799,     0.96799,     0.96799,     0.96716,     0.96716,     0.96716,     0.96716,     0.96716,     0.96716,     0.96716,     0.96716,     0.96716,     0.96716,     0.96716,\n",
       "            0.96716,     0.96716,     0.96608,     0.96608,     0.96608,     0.96608,     0.96608,     0.96608,     0.96608,     0.96501,     0.96501,     0.96501,     0.96501,     0.96501,     0.96501,     0.96501,     0.96398,     0.96398,     0.96398,     0.96398,     0.96398,     0.96398,     0.96398,\n",
       "            0.96137,     0.96137,     0.96137,      0.9604,      0.9604,      0.9604,      0.9604,      0.9604,      0.9604,      0.9604,     0.95915,     0.95915,      0.9581,      0.9581,      0.9581,      0.9581,      0.9581,     0.95706,     0.95706,     0.95706,     0.95706,     0.95706,     0.95586,\n",
       "            0.95586,     0.95498,     0.95498,     0.95498,     0.95498,     0.95498,     0.95498,     0.95498,      0.9538,      0.9538,     0.95264,     0.95264,     0.94933,     0.94933,     0.94933,     0.94933,     0.94933,     0.94933,     0.94933,     0.94933,     0.94688,     0.94444,     0.94211,\n",
       "            0.94211,     0.94102,     0.94102,      0.9375,      0.9375,     0.93565,     0.93565,     0.93565,     0.93565,     0.93565,     0.93565,     0.93565,     0.93453,     0.93342,     0.93248,     0.93248,     0.93248,     0.93139,     0.93064,     0.93064,     0.93064,     0.93064,     0.93064,\n",
       "            0.92956,     0.92875,     0.92875,     0.92875,     0.92875,     0.92777,     0.92777,     0.92355,     0.92355,     0.92355,     0.92355,     0.92025,     0.91697,     0.91606,     0.90953,     0.90854,     0.90659,     0.90659,     0.90488,     0.90488,     0.90488,     0.90488,     0.90391,\n",
       "            0.90342,     0.90342,     0.90342,     0.90342,     0.90342,     0.89965,     0.89965,     0.89965,     0.89965,     0.89872,     0.89779,     0.89699,     0.89699,     0.89401,     0.89106,     0.88927,     0.88927,     0.88838,      0.8875,     0.88662,     0.88575,     0.88501,     0.88501,\n",
       "            0.87639,     0.87639,     0.87458,     0.87182,       0.871,     0.86937,     0.86937,     0.86761,     0.86587,     0.86226,     0.86162,     0.86162,     0.85991,     0.85914,     0.85561,     0.85319,     0.85319,     0.85244,     0.84989,     0.84575,     0.84575,     0.84414,     0.84254,\n",
       "            0.83661,     0.83591,     0.83265,     0.82437,     0.82305,     0.82305,     0.82276,     0.82276,     0.82276,     0.82082,     0.82082,     0.82082,     0.81854,      0.8171,     0.81566,     0.80882,     0.80882,     0.80664,     0.80388,     0.80388,      0.8029,      0.8029,      0.8029,\n",
       "            0.79809,     0.79809,     0.79809,     0.79487,     0.79487,     0.79487,     0.79171,     0.79171,     0.79171,     0.79061,     0.79061,     0.78933,     0.78879,     0.78844,     0.78844,     0.78446,     0.78446,     0.78321,      0.7793,      0.7793,     0.77737,     0.77707,     0.77707,\n",
       "            0.77166,     0.77117,     0.77068,     0.76951,     0.76696,     0.76241,     0.76195,     0.76148,     0.75702,     0.75657,     0.75546,     0.75304,     0.75108,     0.75108,     0.75108,     0.74871,     0.74508,     0.74361,     0.74361,     0.74068,     0.73777,     0.73428,     0.73144,\n",
       "            0.72984,     0.72705,      0.7257,      0.7257,     0.72295,     0.72023,     0.71928,      0.7088,      0.7088,     0.70734,     0.70701,         0.7,     0.69914,     0.69773,     0.69201,     0.69171,     0.69088,     0.68582,     0.67623,     0.67342,     0.66815,     0.66103,      0.6529,\n",
       "             0.6529,     0.65173,     0.64917,     0.64896,     0.64643,      0.6453,     0.64463,     0.64397,     0.64014,      0.6384,      0.6384,     0.62983,     0.62024,     0.61741,     0.61741,     0.59597,     0.59276,     0.59111,      0.5891,     0.58711,     0.57925,     0.57842,     0.57796,\n",
       "            0.57786,     0.57418,     0.55616,     0.55074,     0.55074,     0.55003,     0.54965,      0.5454,      0.5406,     0.53868,     0.52033,     0.51233,     0.50053,     0.49787,      0.4963,     0.49137,     0.45631,     0.45154,     0.43631,     0.42612,     0.42256,      0.4152,     0.41077,\n",
       "            0.40679,     0.40221,     0.39492,     0.39014,     0.38564,     0.38187,     0.37938,     0.37121,      0.3652,     0.35859,     0.34991,     0.34399,     0.33791,     0.32096,     0.29891,      0.2971,     0.29486,     0.28686,     0.28686,      0.2858,     0.28433,     0.27438,     0.26389,\n",
       "            0.22888,     0.20559,     0.19541,     0.18911,      0.1828,      0.1765,      0.1702,     0.16389,     0.15759,     0.15129,     0.14498,     0.13868,     0.13238,     0.12607,     0.11977,     0.11346,     0.10716,     0.10086,    0.094554,     0.08825,    0.081947,    0.075643,    0.069339,\n",
       "           0.063036,    0.056732,    0.050429,    0.044125,    0.037822,    0.031518,    0.025214,    0.018911,    0.012607,   0.0063036,           0]]), 'Recall', 'Precision'], [array([          0,    0.001001,    0.002002,    0.003003,    0.004004,    0.005005,    0.006006,    0.007007,    0.008008,    0.009009,     0.01001,    0.011011,    0.012012,    0.013013,    0.014014,    0.015015,    0.016016,    0.017017,    0.018018,    0.019019,     0.02002,    0.021021,    0.022022,    0.023023,\n",
       "          0.024024,    0.025025,    0.026026,    0.027027,    0.028028,    0.029029,     0.03003,    0.031031,    0.032032,    0.033033,    0.034034,    0.035035,    0.036036,    0.037037,    0.038038,    0.039039,     0.04004,    0.041041,    0.042042,    0.043043,    0.044044,    0.045045,    0.046046,    0.047047,\n",
       "          0.048048,    0.049049,     0.05005,    0.051051,    0.052052,    0.053053,    0.054054,    0.055055,    0.056056,    0.057057,    0.058058,    0.059059,     0.06006,    0.061061,    0.062062,    0.063063,    0.064064,    0.065065,    0.066066,    0.067067,    0.068068,    0.069069,     0.07007,    0.071071,\n",
       "          0.072072,    0.073073,    0.074074,    0.075075,    0.076076,    0.077077,    0.078078,    0.079079,     0.08008,    0.081081,    0.082082,    0.083083,    0.084084,    0.085085,    0.086086,    0.087087,    0.088088,    0.089089,     0.09009,    0.091091,    0.092092,    0.093093,    0.094094,    0.095095,\n",
       "          0.096096,    0.097097,    0.098098,    0.099099,      0.1001,      0.1011,      0.1021,      0.1031,      0.1041,     0.10511,     0.10611,     0.10711,     0.10811,     0.10911,     0.11011,     0.11111,     0.11211,     0.11311,     0.11411,     0.11512,     0.11612,     0.11712,     0.11812,     0.11912,\n",
       "           0.12012,     0.12112,     0.12212,     0.12312,     0.12412,     0.12513,     0.12613,     0.12713,     0.12813,     0.12913,     0.13013,     0.13113,     0.13213,     0.13313,     0.13413,     0.13514,     0.13614,     0.13714,     0.13814,     0.13914,     0.14014,     0.14114,     0.14214,     0.14314,\n",
       "           0.14414,     0.14515,     0.14615,     0.14715,     0.14815,     0.14915,     0.15015,     0.15115,     0.15215,     0.15315,     0.15415,     0.15516,     0.15616,     0.15716,     0.15816,     0.15916,     0.16016,     0.16116,     0.16216,     0.16316,     0.16416,     0.16517,     0.16617,     0.16717,\n",
       "           0.16817,     0.16917,     0.17017,     0.17117,     0.17217,     0.17317,     0.17417,     0.17518,     0.17618,     0.17718,     0.17818,     0.17918,     0.18018,     0.18118,     0.18218,     0.18318,     0.18418,     0.18519,     0.18619,     0.18719,     0.18819,     0.18919,     0.19019,     0.19119,\n",
       "           0.19219,     0.19319,     0.19419,      0.1952,      0.1962,      0.1972,      0.1982,      0.1992,      0.2002,      0.2012,      0.2022,      0.2032,      0.2042,     0.20521,     0.20621,     0.20721,     0.20821,     0.20921,     0.21021,     0.21121,     0.21221,     0.21321,     0.21421,     0.21522,\n",
       "           0.21622,     0.21722,     0.21822,     0.21922,     0.22022,     0.22122,     0.22222,     0.22322,     0.22422,     0.22523,     0.22623,     0.22723,     0.22823,     0.22923,     0.23023,     0.23123,     0.23223,     0.23323,     0.23423,     0.23524,     0.23624,     0.23724,     0.23824,     0.23924,\n",
       "           0.24024,     0.24124,     0.24224,     0.24324,     0.24424,     0.24525,     0.24625,     0.24725,     0.24825,     0.24925,     0.25025,     0.25125,     0.25225,     0.25325,     0.25425,     0.25526,     0.25626,     0.25726,     0.25826,     0.25926,     0.26026,     0.26126,     0.26226,     0.26326,\n",
       "           0.26426,     0.26527,     0.26627,     0.26727,     0.26827,     0.26927,     0.27027,     0.27127,     0.27227,     0.27327,     0.27427,     0.27528,     0.27628,     0.27728,     0.27828,     0.27928,     0.28028,     0.28128,     0.28228,     0.28328,     0.28428,     0.28529,     0.28629,     0.28729,\n",
       "           0.28829,     0.28929,     0.29029,     0.29129,     0.29229,     0.29329,     0.29429,      0.2953,      0.2963,      0.2973,      0.2983,      0.2993,      0.3003,      0.3013,      0.3023,      0.3033,      0.3043,     0.30531,     0.30631,     0.30731,     0.30831,     0.30931,     0.31031,     0.31131,\n",
       "           0.31231,     0.31331,     0.31431,     0.31532,     0.31632,     0.31732,     0.31832,     0.31932,     0.32032,     0.32132,     0.32232,     0.32332,     0.32432,     0.32533,     0.32633,     0.32733,     0.32833,     0.32933,     0.33033,     0.33133,     0.33233,     0.33333,     0.33433,     0.33534,\n",
       "           0.33634,     0.33734,     0.33834,     0.33934,     0.34034,     0.34134,     0.34234,     0.34334,     0.34434,     0.34535,     0.34635,     0.34735,     0.34835,     0.34935,     0.35035,     0.35135,     0.35235,     0.35335,     0.35435,     0.35536,     0.35636,     0.35736,     0.35836,     0.35936,\n",
       "           0.36036,     0.36136,     0.36236,     0.36336,     0.36436,     0.36537,     0.36637,     0.36737,     0.36837,     0.36937,     0.37037,     0.37137,     0.37237,     0.37337,     0.37437,     0.37538,     0.37638,     0.37738,     0.37838,     0.37938,     0.38038,     0.38138,     0.38238,     0.38338,\n",
       "           0.38438,     0.38539,     0.38639,     0.38739,     0.38839,     0.38939,     0.39039,     0.39139,     0.39239,     0.39339,     0.39439,      0.3954,      0.3964,      0.3974,      0.3984,      0.3994,      0.4004,      0.4014,      0.4024,      0.4034,      0.4044,     0.40541,     0.40641,     0.40741,\n",
       "           0.40841,     0.40941,     0.41041,     0.41141,     0.41241,     0.41341,     0.41441,     0.41542,     0.41642,     0.41742,     0.41842,     0.41942,     0.42042,     0.42142,     0.42242,     0.42342,     0.42442,     0.42543,     0.42643,     0.42743,     0.42843,     0.42943,     0.43043,     0.43143,\n",
       "           0.43243,     0.43343,     0.43443,     0.43544,     0.43644,     0.43744,     0.43844,     0.43944,     0.44044,     0.44144,     0.44244,     0.44344,     0.44444,     0.44545,     0.44645,     0.44745,     0.44845,     0.44945,     0.45045,     0.45145,     0.45245,     0.45345,     0.45445,     0.45546,\n",
       "           0.45646,     0.45746,     0.45846,     0.45946,     0.46046,     0.46146,     0.46246,     0.46346,     0.46446,     0.46547,     0.46647,     0.46747,     0.46847,     0.46947,     0.47047,     0.47147,     0.47247,     0.47347,     0.47447,     0.47548,     0.47648,     0.47748,     0.47848,     0.47948,\n",
       "           0.48048,     0.48148,     0.48248,     0.48348,     0.48448,     0.48549,     0.48649,     0.48749,     0.48849,     0.48949,     0.49049,     0.49149,     0.49249,     0.49349,     0.49449,      0.4955,      0.4965,      0.4975,      0.4985,      0.4995,      0.5005,      0.5015,      0.5025,      0.5035,\n",
       "            0.5045,     0.50551,     0.50651,     0.50751,     0.50851,     0.50951,     0.51051,     0.51151,     0.51251,     0.51351,     0.51451,     0.51552,     0.51652,     0.51752,     0.51852,     0.51952,     0.52052,     0.52152,     0.52252,     0.52352,     0.52452,     0.52553,     0.52653,     0.52753,\n",
       "           0.52853,     0.52953,     0.53053,     0.53153,     0.53253,     0.53353,     0.53453,     0.53554,     0.53654,     0.53754,     0.53854,     0.53954,     0.54054,     0.54154,     0.54254,     0.54354,     0.54454,     0.54555,     0.54655,     0.54755,     0.54855,     0.54955,     0.55055,     0.55155,\n",
       "           0.55255,     0.55355,     0.55455,     0.55556,     0.55656,     0.55756,     0.55856,     0.55956,     0.56056,     0.56156,     0.56256,     0.56356,     0.56456,     0.56557,     0.56657,     0.56757,     0.56857,     0.56957,     0.57057,     0.57157,     0.57257,     0.57357,     0.57457,     0.57558,\n",
       "           0.57658,     0.57758,     0.57858,     0.57958,     0.58058,     0.58158,     0.58258,     0.58358,     0.58458,     0.58559,     0.58659,     0.58759,     0.58859,     0.58959,     0.59059,     0.59159,     0.59259,     0.59359,     0.59459,      0.5956,      0.5966,      0.5976,      0.5986,      0.5996,\n",
       "            0.6006,      0.6016,      0.6026,      0.6036,      0.6046,     0.60561,     0.60661,     0.60761,     0.60861,     0.60961,     0.61061,     0.61161,     0.61261,     0.61361,     0.61461,     0.61562,     0.61662,     0.61762,     0.61862,     0.61962,     0.62062,     0.62162,     0.62262,     0.62362,\n",
       "           0.62462,     0.62563,     0.62663,     0.62763,     0.62863,     0.62963,     0.63063,     0.63163,     0.63263,     0.63363,     0.63463,     0.63564,     0.63664,     0.63764,     0.63864,     0.63964,     0.64064,     0.64164,     0.64264,     0.64364,     0.64464,     0.64565,     0.64665,     0.64765,\n",
       "           0.64865,     0.64965,     0.65065,     0.65165,     0.65265,     0.65365,     0.65465,     0.65566,     0.65666,     0.65766,     0.65866,     0.65966,     0.66066,     0.66166,     0.66266,     0.66366,     0.66466,     0.66567,     0.66667,     0.66767,     0.66867,     0.66967,     0.67067,     0.67167,\n",
       "           0.67267,     0.67367,     0.67467,     0.67568,     0.67668,     0.67768,     0.67868,     0.67968,     0.68068,     0.68168,     0.68268,     0.68368,     0.68468,     0.68569,     0.68669,     0.68769,     0.68869,     0.68969,     0.69069,     0.69169,     0.69269,     0.69369,     0.69469,      0.6957,\n",
       "            0.6967,      0.6977,      0.6987,      0.6997,      0.7007,      0.7017,      0.7027,      0.7037,      0.7047,     0.70571,     0.70671,     0.70771,     0.70871,     0.70971,     0.71071,     0.71171,     0.71271,     0.71371,     0.71471,     0.71572,     0.71672,     0.71772,     0.71872,     0.71972,\n",
       "           0.72072,     0.72172,     0.72272,     0.72372,     0.72472,     0.72573,     0.72673,     0.72773,     0.72873,     0.72973,     0.73073,     0.73173,     0.73273,     0.73373,     0.73473,     0.73574,     0.73674,     0.73774,     0.73874,     0.73974,     0.74074,     0.74174,     0.74274,     0.74374,\n",
       "           0.74474,     0.74575,     0.74675,     0.74775,     0.74875,     0.74975,     0.75075,     0.75175,     0.75275,     0.75375,     0.75475,     0.75576,     0.75676,     0.75776,     0.75876,     0.75976,     0.76076,     0.76176,     0.76276,     0.76376,     0.76476,     0.76577,     0.76677,     0.76777,\n",
       "           0.76877,     0.76977,     0.77077,     0.77177,     0.77277,     0.77377,     0.77477,     0.77578,     0.77678,     0.77778,     0.77878,     0.77978,     0.78078,     0.78178,     0.78278,     0.78378,     0.78478,     0.78579,     0.78679,     0.78779,     0.78879,     0.78979,     0.79079,     0.79179,\n",
       "           0.79279,     0.79379,     0.79479,      0.7958,      0.7968,      0.7978,      0.7988,      0.7998,      0.8008,      0.8018,      0.8028,      0.8038,      0.8048,     0.80581,     0.80681,     0.80781,     0.80881,     0.80981,     0.81081,     0.81181,     0.81281,     0.81381,     0.81481,     0.81582,\n",
       "           0.81682,     0.81782,     0.81882,     0.81982,     0.82082,     0.82182,     0.82282,     0.82382,     0.82482,     0.82583,     0.82683,     0.82783,     0.82883,     0.82983,     0.83083,     0.83183,     0.83283,     0.83383,     0.83483,     0.83584,     0.83684,     0.83784,     0.83884,     0.83984,\n",
       "           0.84084,     0.84184,     0.84284,     0.84384,     0.84484,     0.84585,     0.84685,     0.84785,     0.84885,     0.84985,     0.85085,     0.85185,     0.85285,     0.85385,     0.85485,     0.85586,     0.85686,     0.85786,     0.85886,     0.85986,     0.86086,     0.86186,     0.86286,     0.86386,\n",
       "           0.86486,     0.86587,     0.86687,     0.86787,     0.86887,     0.86987,     0.87087,     0.87187,     0.87287,     0.87387,     0.87487,     0.87588,     0.87688,     0.87788,     0.87888,     0.87988,     0.88088,     0.88188,     0.88288,     0.88388,     0.88488,     0.88589,     0.88689,     0.88789,\n",
       "           0.88889,     0.88989,     0.89089,     0.89189,     0.89289,     0.89389,     0.89489,      0.8959,      0.8969,      0.8979,      0.8989,      0.8999,      0.9009,      0.9019,      0.9029,      0.9039,      0.9049,     0.90591,     0.90691,     0.90791,     0.90891,     0.90991,     0.91091,     0.91191,\n",
       "           0.91291,     0.91391,     0.91491,     0.91592,     0.91692,     0.91792,     0.91892,     0.91992,     0.92092,     0.92192,     0.92292,     0.92392,     0.92492,     0.92593,     0.92693,     0.92793,     0.92893,     0.92993,     0.93093,     0.93193,     0.93293,     0.93393,     0.93493,     0.93594,\n",
       "           0.93694,     0.93794,     0.93894,     0.93994,     0.94094,     0.94194,     0.94294,     0.94394,     0.94494,     0.94595,     0.94695,     0.94795,     0.94895,     0.94995,     0.95095,     0.95195,     0.95295,     0.95395,     0.95495,     0.95596,     0.95696,     0.95796,     0.95896,     0.95996,\n",
       "           0.96096,     0.96196,     0.96296,     0.96396,     0.96496,     0.96597,     0.96697,     0.96797,     0.96897,     0.96997,     0.97097,     0.97197,     0.97297,     0.97397,     0.97497,     0.97598,     0.97698,     0.97798,     0.97898,     0.97998,     0.98098,     0.98198,     0.98298,     0.98398,\n",
       "           0.98498,     0.98599,     0.98699,     0.98799,     0.98899,     0.98999,     0.99099,     0.99199,     0.99299,     0.99399,     0.99499,       0.996,       0.997,       0.998,       0.999,           1]), array([[    0.33276,     0.33276,     0.41207,     0.45779,     0.49204,     0.51484,      0.5336,       0.548,      0.5628,     0.57268,     0.58308,     0.59293,     0.60206,     0.61055,     0.61576,     0.62227,     0.62759,     0.63153,     0.63779,      0.6444,     0.64813,      0.6507,     0.65447,\n",
       "            0.65902,     0.66182,     0.66696,     0.66988,     0.67345,     0.67579,     0.67817,      0.6819,      0.6842,     0.68706,      0.6884,     0.68969,     0.69047,       0.694,     0.69573,     0.69733,     0.69841,     0.70092,     0.70352,     0.70486,     0.70769,     0.70994,     0.71028,\n",
       "            0.71129,     0.71296,     0.71417,      0.7154,     0.71587,     0.71682,      0.7173,     0.71909,     0.71965,     0.72084,     0.72134,      0.7231,     0.72401,     0.72542,     0.72702,     0.72862,     0.72992,     0.73177,     0.73265,     0.73369,       0.735,     0.73564,     0.73613,\n",
       "            0.73562,     0.73659,     0.73761,     0.73993,     0.74178,     0.74289,     0.74374,     0.74487,     0.74656,     0.74735,     0.74924,     0.74917,     0.74882,     0.74936,     0.74963,     0.75033,     0.75155,      0.7523,     0.75242,     0.75254,     0.75231,     0.75215,     0.75231,\n",
       "            0.75272,     0.75299,     0.75284,     0.75381,      0.7542,     0.75412,     0.75432,     0.75509,     0.75538,     0.75589,      0.7553,     0.75604,      0.7572,     0.75759,     0.75793,     0.75869,      0.7592,     0.75975,     0.76032,     0.76047,     0.76067,     0.76044,     0.76087,\n",
       "            0.76114,     0.76203,     0.76229,     0.76301,     0.76354,     0.76508,     0.76497,       0.766,     0.76628,     0.76707,     0.76754,     0.76822,     0.76815,     0.76794,     0.76826,     0.76899,     0.76933,     0.76945,     0.76994,     0.77019,     0.77101,     0.77115,     0.77225,\n",
       "            0.77292,     0.77309,     0.77372,     0.77418,     0.77518,     0.77532,     0.77535,     0.77559,     0.77604,     0.77613,     0.77622,      0.7763,     0.77674,     0.77698,     0.77749,     0.77786,      0.7781,     0.77835,     0.77789,     0.77831,     0.77847,     0.77918,     0.77979,\n",
       "             0.7803,     0.78051,     0.78068,     0.78083,     0.78108,     0.78141,     0.78197,     0.78178,     0.78159,     0.78204,     0.78209,     0.78206,     0.78297,     0.78361,     0.78452,     0.78517,     0.78606,     0.78583,     0.78578,     0.78588,     0.78605,     0.78552,     0.78624,\n",
       "            0.78665,     0.78695,     0.78723,     0.78742,     0.78813,     0.78906,     0.78977,     0.78997,     0.79025,      0.7911,     0.79203,     0.79186,     0.79158,     0.79176,     0.79197,     0.79201,     0.79295,     0.79329,     0.79349,     0.79319,     0.79339,      0.7935,     0.79361,\n",
       "            0.79375,     0.79393,     0.79451,     0.79472,     0.79431,     0.79373,     0.79399,     0.79426,     0.79432,     0.79445,     0.79472,     0.79497,     0.79515,     0.79536,     0.79563,     0.79577,     0.79551,      0.7963,     0.79618,     0.79644,     0.79734,     0.79778,     0.79737,\n",
       "            0.79872,       0.799,     0.79925,      0.7993,     0.79948,     0.79967,     0.79992,     0.80038,     0.80063,     0.80029,      0.8003,     0.80043,     0.80058,       0.801,     0.80125,      0.8017,     0.80132,     0.80094,     0.80154,     0.80196,     0.80148,     0.80198,     0.80309,\n",
       "            0.80318,     0.80435,      0.8046,     0.80341,     0.80318,     0.80406,     0.80436,     0.80426,     0.80415,     0.80405,     0.80395,     0.80458,     0.80487,     0.80533,     0.80495,      0.8051,     0.80526,     0.80543,     0.80504,     0.80514,     0.80523,     0.80533,     0.80531,\n",
       "            0.80488,     0.80495,     0.80502,     0.80508,     0.80515,     0.80522,     0.80543,     0.80577,     0.80659,     0.80717,     0.80725,     0.80733,     0.80741,     0.80749,     0.80731,     0.80683,     0.80708,     0.80667,     0.80717,     0.80748,     0.80777,     0.80793,     0.80808,\n",
       "            0.80859,     0.80904,     0.80906,     0.80873,     0.80926,     0.80957,     0.81015,     0.81001,     0.80988,     0.80974,     0.81007,     0.81029,     0.80998,     0.81019,     0.80967,     0.80978,     0.80989,     0.81001,     0.80983,     0.81007,     0.81027,     0.81038,      0.8105,\n",
       "            0.81061,     0.81095,     0.81115,     0.81131,     0.81144,     0.81152,     0.81161,      0.8117,     0.81179,      0.8119,     0.81201,     0.81213,     0.81249,     0.81238,     0.81217,     0.81194,      0.8116,     0.81172,      0.8115,     0.81129,     0.81129,     0.81133,     0.81138,\n",
       "            0.81143,     0.81148,     0.81153,     0.81158,     0.81162,     0.81241,     0.81183,      0.8115,     0.81132,     0.81147,     0.81161,     0.81179,     0.81199,     0.81281,      0.8136,     0.81343,     0.81366,     0.81275,     0.81298,     0.81349,     0.81355,      0.8136,     0.81365,\n",
       "            0.81371,     0.81376,     0.81381,     0.81429,     0.81443,     0.81458,     0.81488,      0.8149,     0.81468,     0.81447,     0.81391,     0.81427,     0.81395,     0.81376,     0.81396,     0.81403,     0.81382,      0.8136,     0.81418,     0.81354,     0.81325,     0.81366,     0.81381,\n",
       "            0.81394,     0.81365,     0.81333,     0.81263,      0.8127,     0.81277,     0.81284,     0.81291,     0.81298,     0.81313,     0.81336,     0.81413,     0.81396,     0.81367,     0.81354,     0.81343,     0.81333,     0.81323,     0.81312,     0.81252,     0.81272,     0.81293,     0.81313,\n",
       "            0.81411,     0.81426,      0.8144,     0.81348,     0.81288,      0.8134,     0.81421,     0.81479,      0.8149,     0.81501,     0.81549,     0.81534,     0.81519,     0.81504,      0.8148,      0.8143,      0.8141,      0.8139,      0.8138,     0.81394,     0.81407,     0.81437,     0.81359,\n",
       "            0.81353,     0.81374,     0.81434,     0.81455,     0.81484,     0.81464,     0.81444,     0.81516,      0.8154,      0.8156,     0.81551,     0.81539,     0.81527,     0.81515,     0.81503,     0.81483,     0.81463,     0.81528,     0.81552,     0.81574,     0.81595,     0.81616,     0.81636,\n",
       "            0.81657,     0.81678,      0.8171,     0.81752,     0.81802,      0.8179,     0.81778,     0.81766,     0.81754,     0.81756,     0.81765,     0.81773,     0.81781,      0.8179,     0.81826,     0.81814,     0.81794,     0.81774,     0.81823,     0.81834,     0.81844,     0.81796,     0.81804,\n",
       "            0.81813,     0.81821,     0.81829,     0.81839,     0.81853,     0.81866,     0.81887,     0.81914,     0.81899,     0.81884,     0.81869,     0.81848,     0.81818,     0.81776,     0.81759,     0.81791,     0.81812,     0.81844,     0.81856,     0.81841,     0.81825,      0.8181,     0.81767,\n",
       "            0.81726,     0.81695,     0.81715,     0.81683,     0.81622,     0.81681,     0.81666,     0.81635,     0.81638,     0.81646,     0.81655,     0.81663,     0.81671,     0.81692,     0.81754,     0.81768,     0.81782,     0.81799,     0.81839,      0.8186,     0.81885,     0.81921,     0.81932,\n",
       "            0.81942,     0.81953,     0.82004,     0.82013,     0.82021,      0.8203,     0.82038,     0.82019,     0.82002,     0.82032,     0.82046,      0.8206,     0.82089,      0.8212,     0.82142,     0.82132,     0.82101,     0.82118,     0.82143,     0.82166,      0.8218,     0.82194,     0.82256,\n",
       "            0.82277,     0.82299,      0.8232,      0.8232,     0.82337,     0.82365,      0.8238,     0.82359,     0.82339,     0.82336,     0.82351,     0.82365,     0.82397,     0.82375,     0.82333,     0.82302,     0.82303,     0.82317,     0.82332,     0.82346,      0.8236,     0.82375,     0.82395,\n",
       "            0.82417,     0.82439,      0.8246,     0.82472,     0.82483,     0.82493,     0.82499,     0.82467,     0.82492,     0.82503,     0.82514,     0.82525,      0.8255,     0.82519,     0.82542,     0.82507,     0.82444,     0.82509,     0.82542,     0.82522,     0.82501,     0.82505,     0.82511,\n",
       "            0.82518,     0.82525,     0.82532,     0.82538,     0.82549,     0.82564,     0.82579,     0.82598,      0.8262,     0.82646,     0.82595,     0.82617,     0.82675,     0.82668,     0.82662,     0.82655,     0.82648,     0.82642,     0.82635,     0.82629,     0.82622,     0.82616,     0.82577,\n",
       "            0.82556,     0.82539,     0.82583,     0.82675,     0.82669,     0.82676,     0.82691,     0.82715,     0.82652,     0.82643,     0.82653,     0.82663,     0.82673,       0.827,      0.8267,     0.82692,      0.8265,     0.82664,     0.82686,     0.82697,     0.82708,      0.8272,     0.82738,\n",
       "            0.82754,     0.82723,     0.82765,      0.8278,     0.82794,     0.82706,      0.8273,     0.82775,     0.82897,      0.8291,     0.82923,     0.82936,     0.83001,     0.83024,      0.8304,     0.82997,     0.82976,     0.82954,     0.82948,     0.82952,     0.82957,     0.82962,     0.82967,\n",
       "            0.82971,     0.82976,     0.82981,     0.82985,      0.8294,     0.82951,     0.82913,     0.82926,     0.82939,     0.82952,     0.82914,     0.82906,     0.82886,     0.82837,     0.82818,     0.82831,     0.82844,     0.82857,     0.82934,     0.82909,     0.82898,     0.82913,     0.82928,\n",
       "            0.83011,     0.82971,     0.82907,     0.82892,     0.82906,     0.82863,     0.82874,     0.82842,     0.82762,      0.8273,     0.82696,     0.82827,     0.82694,     0.82538,      0.8254,       0.825,     0.82403,      0.8236,     0.82324,     0.82291,     0.82306,     0.82336,     0.82367,\n",
       "            0.82318,     0.82328,     0.82287,     0.82261,     0.82267,     0.82286,     0.82407,     0.82446,     0.82477,     0.82518,     0.82474,      0.8243,     0.82374,      0.8239,     0.82405,     0.82494,     0.82455,     0.82416,     0.82334,     0.82345,     0.82376,     0.82408,     0.82498,\n",
       "            0.82429,     0.82406,     0.82384,     0.82386,     0.82221,     0.82177,     0.82167,     0.82186,     0.82139,     0.82158,     0.82177,     0.82104,     0.82023,     0.81937,     0.81883,      0.8186,     0.81837,     0.81842,     0.81698,     0.81722,     0.81645,     0.81654,      0.8167,\n",
       "            0.81685,     0.81616,     0.81528,     0.81416,      0.8137,     0.81266,     0.81285,     0.81304,     0.81279,     0.81196,     0.81239,     0.81262,      0.8126,     0.81211,     0.81165,     0.81119,     0.81129,     0.81157,     0.81183,     0.81121,     0.80961,     0.80937,     0.80914,\n",
       "            0.80883,     0.80761,     0.80792,     0.80811,     0.80803,     0.80722,     0.80619,     0.80525,     0.80454,     0.80264,     0.80079,     0.80111,     0.79855,     0.79795,     0.79545,     0.79477,     0.79509,      0.7938,      0.7913,     0.78965,     0.78956,     0.78831,     0.78729,\n",
       "            0.78235,     0.78161,     0.78014,     0.77825,      0.7773,     0.77582,     0.77371,     0.77198,     0.76538,     0.76301,      0.7612,      0.7596,     0.75965,     0.75914,      0.7561,      0.7523,     0.75268,     0.75051,     0.74749,     0.74696,     0.74504,     0.74121,     0.73584,\n",
       "            0.73586,     0.73178,     0.73003,     0.72577,     0.72524,      0.7205,     0.71548,     0.71309,     0.70564,     0.70348,     0.69889,     0.69212,      0.6827,     0.67922,     0.67136,      0.6643,     0.65937,      0.6532,     0.64762,     0.63937,     0.62658,     0.61975,     0.61212,\n",
       "            0.60921,     0.60435,     0.59849,     0.59161,     0.57967,     0.57159,      0.5608,     0.55769,     0.55405,     0.53908,     0.52514,      0.5164,     0.50866,     0.49861,     0.48615,     0.47695,     0.46879,     0.45937,     0.44745,     0.43412,     0.42304,     0.39918,     0.39305,\n",
       "            0.38136,     0.37608,     0.36536,     0.36001,     0.34655,     0.32613,     0.32378,     0.30484,     0.28891,     0.28153,     0.26515,     0.25151,      0.2361,     0.22376,     0.21574,     0.21096,     0.20288,      0.1931,     0.18486,     0.17655,     0.16679,      0.1549,     0.13941,\n",
       "            0.13751,     0.13231,     0.13048,     0.12164,     0.10738,    0.098317,    0.093885,    0.079932,     0.07431,    0.066794,    0.058651,    0.051585,    0.046267,    0.041885,     0.03661,    0.030987,    0.029666,    0.027778,    0.026835,    0.026039,    0.021899,    0.021063,    0.020396,\n",
       "           0.019713,    0.018377,     0.01573,    0.014388,    0.012635,    0.011041,   0.0095787,   0.0079226,   0.0078099,   0.0076973,   0.0075846,   0.0074719,   0.0073592,   0.0072465,   0.0071337,    0.007021,   0.0069082,   0.0067954,   0.0066827,   0.0065699,    0.006457,   0.0063442,   0.0062314,\n",
       "          0.0061185,   0.0060057,   0.0055356,   0.0048578,   0.0041796,   0.0039002,   0.0037871,    0.003674,   0.0035609,   0.0034477,   0.0033345,   0.0032214,   0.0031082,    0.002995,   0.0028817,   0.0027685,   0.0026553,    0.002542,   0.0024287,   0.0023155,   0.0022022,   0.0020889,           0,\n",
       "                  0,           0,           0,           0,           0,           0,           0,           0,           0,           0,           0,           0,           0,           0,           0,           0,           0,           0,           0,           0,           0,           0,           0,\n",
       "                  0,           0,           0,           0,           0,           0,           0,           0,           0,           0,           0]]), 'Confidence', 'F1'], [array([          0,    0.001001,    0.002002,    0.003003,    0.004004,    0.005005,    0.006006,    0.007007,    0.008008,    0.009009,     0.01001,    0.011011,    0.012012,    0.013013,    0.014014,    0.015015,    0.016016,    0.017017,    0.018018,    0.019019,     0.02002,    0.021021,    0.022022,    0.023023,\n",
       "          0.024024,    0.025025,    0.026026,    0.027027,    0.028028,    0.029029,     0.03003,    0.031031,    0.032032,    0.033033,    0.034034,    0.035035,    0.036036,    0.037037,    0.038038,    0.039039,     0.04004,    0.041041,    0.042042,    0.043043,    0.044044,    0.045045,    0.046046,    0.047047,\n",
       "          0.048048,    0.049049,     0.05005,    0.051051,    0.052052,    0.053053,    0.054054,    0.055055,    0.056056,    0.057057,    0.058058,    0.059059,     0.06006,    0.061061,    0.062062,    0.063063,    0.064064,    0.065065,    0.066066,    0.067067,    0.068068,    0.069069,     0.07007,    0.071071,\n",
       "          0.072072,    0.073073,    0.074074,    0.075075,    0.076076,    0.077077,    0.078078,    0.079079,     0.08008,    0.081081,    0.082082,    0.083083,    0.084084,    0.085085,    0.086086,    0.087087,    0.088088,    0.089089,     0.09009,    0.091091,    0.092092,    0.093093,    0.094094,    0.095095,\n",
       "          0.096096,    0.097097,    0.098098,    0.099099,      0.1001,      0.1011,      0.1021,      0.1031,      0.1041,     0.10511,     0.10611,     0.10711,     0.10811,     0.10911,     0.11011,     0.11111,     0.11211,     0.11311,     0.11411,     0.11512,     0.11612,     0.11712,     0.11812,     0.11912,\n",
       "           0.12012,     0.12112,     0.12212,     0.12312,     0.12412,     0.12513,     0.12613,     0.12713,     0.12813,     0.12913,     0.13013,     0.13113,     0.13213,     0.13313,     0.13413,     0.13514,     0.13614,     0.13714,     0.13814,     0.13914,     0.14014,     0.14114,     0.14214,     0.14314,\n",
       "           0.14414,     0.14515,     0.14615,     0.14715,     0.14815,     0.14915,     0.15015,     0.15115,     0.15215,     0.15315,     0.15415,     0.15516,     0.15616,     0.15716,     0.15816,     0.15916,     0.16016,     0.16116,     0.16216,     0.16316,     0.16416,     0.16517,     0.16617,     0.16717,\n",
       "           0.16817,     0.16917,     0.17017,     0.17117,     0.17217,     0.17317,     0.17417,     0.17518,     0.17618,     0.17718,     0.17818,     0.17918,     0.18018,     0.18118,     0.18218,     0.18318,     0.18418,     0.18519,     0.18619,     0.18719,     0.18819,     0.18919,     0.19019,     0.19119,\n",
       "           0.19219,     0.19319,     0.19419,      0.1952,      0.1962,      0.1972,      0.1982,      0.1992,      0.2002,      0.2012,      0.2022,      0.2032,      0.2042,     0.20521,     0.20621,     0.20721,     0.20821,     0.20921,     0.21021,     0.21121,     0.21221,     0.21321,     0.21421,     0.21522,\n",
       "           0.21622,     0.21722,     0.21822,     0.21922,     0.22022,     0.22122,     0.22222,     0.22322,     0.22422,     0.22523,     0.22623,     0.22723,     0.22823,     0.22923,     0.23023,     0.23123,     0.23223,     0.23323,     0.23423,     0.23524,     0.23624,     0.23724,     0.23824,     0.23924,\n",
       "           0.24024,     0.24124,     0.24224,     0.24324,     0.24424,     0.24525,     0.24625,     0.24725,     0.24825,     0.24925,     0.25025,     0.25125,     0.25225,     0.25325,     0.25425,     0.25526,     0.25626,     0.25726,     0.25826,     0.25926,     0.26026,     0.26126,     0.26226,     0.26326,\n",
       "           0.26426,     0.26527,     0.26627,     0.26727,     0.26827,     0.26927,     0.27027,     0.27127,     0.27227,     0.27327,     0.27427,     0.27528,     0.27628,     0.27728,     0.27828,     0.27928,     0.28028,     0.28128,     0.28228,     0.28328,     0.28428,     0.28529,     0.28629,     0.28729,\n",
       "           0.28829,     0.28929,     0.29029,     0.29129,     0.29229,     0.29329,     0.29429,      0.2953,      0.2963,      0.2973,      0.2983,      0.2993,      0.3003,      0.3013,      0.3023,      0.3033,      0.3043,     0.30531,     0.30631,     0.30731,     0.30831,     0.30931,     0.31031,     0.31131,\n",
       "           0.31231,     0.31331,     0.31431,     0.31532,     0.31632,     0.31732,     0.31832,     0.31932,     0.32032,     0.32132,     0.32232,     0.32332,     0.32432,     0.32533,     0.32633,     0.32733,     0.32833,     0.32933,     0.33033,     0.33133,     0.33233,     0.33333,     0.33433,     0.33534,\n",
       "           0.33634,     0.33734,     0.33834,     0.33934,     0.34034,     0.34134,     0.34234,     0.34334,     0.34434,     0.34535,     0.34635,     0.34735,     0.34835,     0.34935,     0.35035,     0.35135,     0.35235,     0.35335,     0.35435,     0.35536,     0.35636,     0.35736,     0.35836,     0.35936,\n",
       "           0.36036,     0.36136,     0.36236,     0.36336,     0.36436,     0.36537,     0.36637,     0.36737,     0.36837,     0.36937,     0.37037,     0.37137,     0.37237,     0.37337,     0.37437,     0.37538,     0.37638,     0.37738,     0.37838,     0.37938,     0.38038,     0.38138,     0.38238,     0.38338,\n",
       "           0.38438,     0.38539,     0.38639,     0.38739,     0.38839,     0.38939,     0.39039,     0.39139,     0.39239,     0.39339,     0.39439,      0.3954,      0.3964,      0.3974,      0.3984,      0.3994,      0.4004,      0.4014,      0.4024,      0.4034,      0.4044,     0.40541,     0.40641,     0.40741,\n",
       "           0.40841,     0.40941,     0.41041,     0.41141,     0.41241,     0.41341,     0.41441,     0.41542,     0.41642,     0.41742,     0.41842,     0.41942,     0.42042,     0.42142,     0.42242,     0.42342,     0.42442,     0.42543,     0.42643,     0.42743,     0.42843,     0.42943,     0.43043,     0.43143,\n",
       "           0.43243,     0.43343,     0.43443,     0.43544,     0.43644,     0.43744,     0.43844,     0.43944,     0.44044,     0.44144,     0.44244,     0.44344,     0.44444,     0.44545,     0.44645,     0.44745,     0.44845,     0.44945,     0.45045,     0.45145,     0.45245,     0.45345,     0.45445,     0.45546,\n",
       "           0.45646,     0.45746,     0.45846,     0.45946,     0.46046,     0.46146,     0.46246,     0.46346,     0.46446,     0.46547,     0.46647,     0.46747,     0.46847,     0.46947,     0.47047,     0.47147,     0.47247,     0.47347,     0.47447,     0.47548,     0.47648,     0.47748,     0.47848,     0.47948,\n",
       "           0.48048,     0.48148,     0.48248,     0.48348,     0.48448,     0.48549,     0.48649,     0.48749,     0.48849,     0.48949,     0.49049,     0.49149,     0.49249,     0.49349,     0.49449,      0.4955,      0.4965,      0.4975,      0.4985,      0.4995,      0.5005,      0.5015,      0.5025,      0.5035,\n",
       "            0.5045,     0.50551,     0.50651,     0.50751,     0.50851,     0.50951,     0.51051,     0.51151,     0.51251,     0.51351,     0.51451,     0.51552,     0.51652,     0.51752,     0.51852,     0.51952,     0.52052,     0.52152,     0.52252,     0.52352,     0.52452,     0.52553,     0.52653,     0.52753,\n",
       "           0.52853,     0.52953,     0.53053,     0.53153,     0.53253,     0.53353,     0.53453,     0.53554,     0.53654,     0.53754,     0.53854,     0.53954,     0.54054,     0.54154,     0.54254,     0.54354,     0.54454,     0.54555,     0.54655,     0.54755,     0.54855,     0.54955,     0.55055,     0.55155,\n",
       "           0.55255,     0.55355,     0.55455,     0.55556,     0.55656,     0.55756,     0.55856,     0.55956,     0.56056,     0.56156,     0.56256,     0.56356,     0.56456,     0.56557,     0.56657,     0.56757,     0.56857,     0.56957,     0.57057,     0.57157,     0.57257,     0.57357,     0.57457,     0.57558,\n",
       "           0.57658,     0.57758,     0.57858,     0.57958,     0.58058,     0.58158,     0.58258,     0.58358,     0.58458,     0.58559,     0.58659,     0.58759,     0.58859,     0.58959,     0.59059,     0.59159,     0.59259,     0.59359,     0.59459,      0.5956,      0.5966,      0.5976,      0.5986,      0.5996,\n",
       "            0.6006,      0.6016,      0.6026,      0.6036,      0.6046,     0.60561,     0.60661,     0.60761,     0.60861,     0.60961,     0.61061,     0.61161,     0.61261,     0.61361,     0.61461,     0.61562,     0.61662,     0.61762,     0.61862,     0.61962,     0.62062,     0.62162,     0.62262,     0.62362,\n",
       "           0.62462,     0.62563,     0.62663,     0.62763,     0.62863,     0.62963,     0.63063,     0.63163,     0.63263,     0.63363,     0.63463,     0.63564,     0.63664,     0.63764,     0.63864,     0.63964,     0.64064,     0.64164,     0.64264,     0.64364,     0.64464,     0.64565,     0.64665,     0.64765,\n",
       "           0.64865,     0.64965,     0.65065,     0.65165,     0.65265,     0.65365,     0.65465,     0.65566,     0.65666,     0.65766,     0.65866,     0.65966,     0.66066,     0.66166,     0.66266,     0.66366,     0.66466,     0.66567,     0.66667,     0.66767,     0.66867,     0.66967,     0.67067,     0.67167,\n",
       "           0.67267,     0.67367,     0.67467,     0.67568,     0.67668,     0.67768,     0.67868,     0.67968,     0.68068,     0.68168,     0.68268,     0.68368,     0.68468,     0.68569,     0.68669,     0.68769,     0.68869,     0.68969,     0.69069,     0.69169,     0.69269,     0.69369,     0.69469,      0.6957,\n",
       "            0.6967,      0.6977,      0.6987,      0.6997,      0.7007,      0.7017,      0.7027,      0.7037,      0.7047,     0.70571,     0.70671,     0.70771,     0.70871,     0.70971,     0.71071,     0.71171,     0.71271,     0.71371,     0.71471,     0.71572,     0.71672,     0.71772,     0.71872,     0.71972,\n",
       "           0.72072,     0.72172,     0.72272,     0.72372,     0.72472,     0.72573,     0.72673,     0.72773,     0.72873,     0.72973,     0.73073,     0.73173,     0.73273,     0.73373,     0.73473,     0.73574,     0.73674,     0.73774,     0.73874,     0.73974,     0.74074,     0.74174,     0.74274,     0.74374,\n",
       "           0.74474,     0.74575,     0.74675,     0.74775,     0.74875,     0.74975,     0.75075,     0.75175,     0.75275,     0.75375,     0.75475,     0.75576,     0.75676,     0.75776,     0.75876,     0.75976,     0.76076,     0.76176,     0.76276,     0.76376,     0.76476,     0.76577,     0.76677,     0.76777,\n",
       "           0.76877,     0.76977,     0.77077,     0.77177,     0.77277,     0.77377,     0.77477,     0.77578,     0.77678,     0.77778,     0.77878,     0.77978,     0.78078,     0.78178,     0.78278,     0.78378,     0.78478,     0.78579,     0.78679,     0.78779,     0.78879,     0.78979,     0.79079,     0.79179,\n",
       "           0.79279,     0.79379,     0.79479,      0.7958,      0.7968,      0.7978,      0.7988,      0.7998,      0.8008,      0.8018,      0.8028,      0.8038,      0.8048,     0.80581,     0.80681,     0.80781,     0.80881,     0.80981,     0.81081,     0.81181,     0.81281,     0.81381,     0.81481,     0.81582,\n",
       "           0.81682,     0.81782,     0.81882,     0.81982,     0.82082,     0.82182,     0.82282,     0.82382,     0.82482,     0.82583,     0.82683,     0.82783,     0.82883,     0.82983,     0.83083,     0.83183,     0.83283,     0.83383,     0.83483,     0.83584,     0.83684,     0.83784,     0.83884,     0.83984,\n",
       "           0.84084,     0.84184,     0.84284,     0.84384,     0.84484,     0.84585,     0.84685,     0.84785,     0.84885,     0.84985,     0.85085,     0.85185,     0.85285,     0.85385,     0.85485,     0.85586,     0.85686,     0.85786,     0.85886,     0.85986,     0.86086,     0.86186,     0.86286,     0.86386,\n",
       "           0.86486,     0.86587,     0.86687,     0.86787,     0.86887,     0.86987,     0.87087,     0.87187,     0.87287,     0.87387,     0.87487,     0.87588,     0.87688,     0.87788,     0.87888,     0.87988,     0.88088,     0.88188,     0.88288,     0.88388,     0.88488,     0.88589,     0.88689,     0.88789,\n",
       "           0.88889,     0.88989,     0.89089,     0.89189,     0.89289,     0.89389,     0.89489,      0.8959,      0.8969,      0.8979,      0.8989,      0.8999,      0.9009,      0.9019,      0.9029,      0.9039,      0.9049,     0.90591,     0.90691,     0.90791,     0.90891,     0.90991,     0.91091,     0.91191,\n",
       "           0.91291,     0.91391,     0.91491,     0.91592,     0.91692,     0.91792,     0.91892,     0.91992,     0.92092,     0.92192,     0.92292,     0.92392,     0.92492,     0.92593,     0.92693,     0.92793,     0.92893,     0.92993,     0.93093,     0.93193,     0.93293,     0.93393,     0.93493,     0.93594,\n",
       "           0.93694,     0.93794,     0.93894,     0.93994,     0.94094,     0.94194,     0.94294,     0.94394,     0.94494,     0.94595,     0.94695,     0.94795,     0.94895,     0.94995,     0.95095,     0.95195,     0.95295,     0.95395,     0.95495,     0.95596,     0.95696,     0.95796,     0.95896,     0.95996,\n",
       "           0.96096,     0.96196,     0.96296,     0.96396,     0.96496,     0.96597,     0.96697,     0.96797,     0.96897,     0.96997,     0.97097,     0.97197,     0.97297,     0.97397,     0.97497,     0.97598,     0.97698,     0.97798,     0.97898,     0.97998,     0.98098,     0.98198,     0.98298,     0.98398,\n",
       "           0.98498,     0.98599,     0.98699,     0.98799,     0.98899,     0.98999,     0.99099,     0.99199,     0.99299,     0.99399,     0.99499,       0.996,       0.997,       0.998,       0.999,           1]), array([[    0.20091,     0.20091,     0.26189,     0.30084,     0.33125,     0.35266,     0.37097,     0.38553,      0.4007,     0.41135,     0.42237,     0.43321,     0.44326,     0.45275,     0.45875,     0.46601,       0.472,     0.47648,     0.48364,     0.49128,      0.4959,     0.49949,     0.50425,\n",
       "            0.50967,     0.51332,     0.51953,      0.5234,     0.52777,     0.53065,      0.5336,     0.53848,     0.54178,     0.54537,      0.5474,     0.54939,     0.55144,     0.55596,     0.55855,     0.56062,     0.56201,     0.56527,     0.56866,     0.57041,     0.57416,     0.57793,     0.57913,\n",
       "            0.58086,     0.58309,     0.58471,     0.58637,     0.58741,     0.58869,     0.58975,      0.5927,     0.59377,     0.59539,      0.5965,     0.59892,     0.60016,      0.6021,     0.60431,     0.60653,     0.60833,     0.61091,     0.61214,     0.61358,     0.61542,     0.61632,       0.617,\n",
       "              0.617,     0.61857,     0.62047,     0.62377,     0.62639,     0.62799,     0.62967,      0.6313,     0.63372,     0.63486,      0.6376,      0.6381,     0.63792,     0.63875,     0.63916,     0.64067,     0.64245,     0.64355,     0.64373,      0.6439,     0.64384,     0.64383,     0.64407,\n",
       "            0.64526,     0.64608,     0.64637,     0.64781,     0.64839,     0.64877,      0.6496,     0.65074,     0.65169,     0.65245,     0.65262,     0.65373,     0.65547,     0.65605,     0.65657,     0.65771,     0.65846,      0.6593,     0.66016,     0.66038,     0.66069,     0.66081,     0.66153,\n",
       "            0.66195,     0.66328,     0.66368,     0.66478,     0.66558,     0.66808,     0.66831,     0.66989,     0.67031,     0.67153,     0.67224,      0.6733,     0.67335,     0.67325,     0.67392,     0.67504,     0.67603,     0.67633,     0.67708,     0.67746,     0.67873,     0.67896,     0.68066,\n",
       "             0.6817,     0.68196,     0.68295,     0.68367,     0.68522,     0.68571,     0.68609,     0.68646,     0.68717,      0.6873,     0.68744,     0.68757,     0.68827,     0.68863,     0.68944,     0.69002,      0.6904,     0.69085,     0.69067,     0.69199,      0.6928,     0.69391,     0.69488,\n",
       "            0.69569,     0.69603,     0.69629,     0.69654,     0.69755,     0.69807,     0.69909,     0.69901,     0.69892,      0.6997,     0.69994,     0.70036,     0.70182,     0.70285,     0.70432,     0.70535,     0.70695,     0.70685,     0.70698,     0.70778,      0.7086,     0.70837,     0.70966,\n",
       "            0.71032,      0.7108,     0.71127,     0.71158,     0.71275,     0.71427,     0.71542,     0.71576,     0.71622,     0.71761,     0.71915,     0.71918,     0.71906,     0.71936,     0.71972,     0.72045,     0.72201,     0.72257,     0.72289,     0.72308,      0.7234,     0.72359,     0.72378,\n",
       "              0.724,     0.72431,     0.72527,     0.72568,     0.72551,     0.72533,     0.72577,     0.72622,     0.72686,     0.72722,     0.72767,     0.72809,      0.7284,     0.72874,     0.72919,     0.72974,     0.72964,     0.73102,     0.73129,     0.73196,     0.73348,     0.73427,      0.7341,\n",
       "            0.73653,       0.737,     0.73743,     0.73824,     0.73854,     0.73885,     0.73928,     0.74007,      0.7405,      0.7405,     0.74065,     0.74087,     0.74113,     0.74186,     0.74229,     0.74348,     0.74333,     0.74318,     0.74425,     0.74496,     0.74487,     0.74574,     0.74766,\n",
       "            0.74856,     0.75059,     0.75103,      0.7506,     0.75081,     0.75235,     0.75301,     0.75297,     0.75293,     0.75288,     0.75284,     0.75402,     0.75453,     0.75534,     0.75542,      0.7557,     0.75597,     0.75628,     0.75636,     0.75653,      0.7567,     0.75687,     0.75698,\n",
       "            0.75685,     0.75697,     0.75709,     0.75721,     0.75733,     0.75744,     0.75783,     0.75843,     0.75988,      0.7609,     0.76105,     0.76119,     0.76134,     0.76148,     0.76194,     0.76186,     0.76232,     0.76224,     0.76327,     0.76382,     0.76435,     0.76462,      0.7649,\n",
       "            0.76581,     0.76663,      0.7669,     0.76678,     0.76782,     0.76838,     0.76949,     0.76944,     0.76939,     0.76934,     0.77008,     0.77049,     0.77072,     0.77116,     0.77098,     0.77119,     0.77139,     0.77159,     0.77209,     0.77253,      0.7729,      0.7731,     0.77331,\n",
       "            0.77351,     0.77413,     0.77449,     0.77478,     0.77502,     0.77518,     0.77534,      0.7755,     0.77566,     0.77587,     0.77607,     0.77628,     0.77694,       0.777,     0.77693,     0.77685,     0.77673,     0.77734,     0.77726,     0.77718,     0.77724,     0.77733,     0.77742,\n",
       "             0.7775,     0.77759,     0.77768,     0.77777,     0.77786,      0.7793,      0.7791,     0.77898,     0.77899,     0.77925,     0.77952,     0.77985,     0.78022,     0.78173,      0.7832,     0.78374,     0.78416,     0.78419,     0.78461,     0.78557,     0.78567,     0.78577,     0.78587,\n",
       "            0.78597,     0.78607,     0.78617,     0.78705,     0.78733,      0.7876,     0.78816,      0.7884,     0.78832,     0.78825,     0.78806,     0.78877,     0.78867,     0.78869,     0.78907,      0.7893,     0.78923,     0.78915,     0.79036,     0.79035,     0.79024,     0.79116,     0.79144,\n",
       "             0.7917,      0.7916,     0.79149,     0.79188,     0.79201,     0.79215,     0.79228,     0.79241,     0.79255,     0.79283,     0.79327,     0.79473,     0.79479,     0.79469,     0.79465,     0.79461,     0.79458,     0.79454,     0.79451,     0.79438,     0.79477,     0.79516,     0.79555,\n",
       "            0.79742,     0.79771,     0.79799,     0.79776,     0.79756,     0.79884,     0.80039,     0.80151,     0.80172,     0.80193,     0.80289,     0.80284,      0.8028,     0.80275,     0.80267,      0.8025,     0.80244,     0.80237,     0.80241,     0.80267,     0.80294,      0.8035,     0.80357,\n",
       "            0.80377,     0.80417,     0.80536,     0.80576,     0.80659,     0.80653,     0.80646,     0.80792,     0.80838,     0.80879,     0.80879,     0.80875,     0.80871,     0.80867,     0.80863,     0.80857,     0.80851,     0.81009,     0.81056,       0.811,     0.81141,     0.81182,     0.81223,\n",
       "            0.81264,     0.81306,     0.81369,     0.81452,     0.81564,      0.8156,     0.81556,     0.81552,     0.81549,      0.8156,     0.81576,     0.81593,     0.81609,     0.81626,     0.81699,     0.81704,     0.81698,     0.81692,     0.81793,     0.81813,     0.81834,     0.81837,     0.81854,\n",
       "             0.8187,     0.81887,     0.81904,     0.81923,      0.8195,     0.81978,     0.82019,     0.82081,     0.82076,     0.82072,     0.82067,     0.82061,     0.82052,     0.82039,     0.82064,      0.8213,     0.82172,     0.82236,     0.82274,     0.82269,     0.82264,      0.8226,     0.82247,\n",
       "            0.82234,     0.82225,     0.82281,     0.82292,     0.82274,     0.82419,     0.82429,      0.8242,     0.82433,      0.8245,     0.82468,     0.82485,     0.82502,     0.82544,     0.82671,       0.827,     0.82729,     0.82763,     0.82844,     0.82888,     0.82938,     0.83013,     0.83035,\n",
       "            0.83057,     0.83079,     0.83184,     0.83202,     0.83219,     0.83237,     0.83254,     0.83258,     0.83285,     0.83347,     0.83376,     0.83405,     0.83465,     0.83529,     0.83574,     0.83586,     0.83577,     0.83632,      0.8379,     0.83838,     0.83868,     0.83898,     0.84026,\n",
       "            0.84071,     0.84116,     0.84161,     0.84269,     0.84305,     0.84365,     0.84412,     0.84406,     0.84401,     0.84414,     0.84444,     0.84474,     0.84541,     0.84565,     0.84553,     0.84545,     0.84564,     0.84594,     0.84625,     0.84655,     0.84686,     0.84716,     0.84759,\n",
       "            0.84805,     0.84851,     0.84897,     0.84921,     0.84944,     0.84967,     0.84988,     0.85024,     0.85077,       0.851,     0.85123,     0.85146,     0.85239,     0.85231,     0.85296,     0.85307,     0.85291,     0.85453,     0.85557,     0.85552,     0.85547,     0.85559,     0.85573,\n",
       "            0.85588,     0.85602,     0.85617,     0.85631,     0.85655,     0.85686,     0.85718,     0.85759,     0.85806,     0.85864,     0.85986,     0.86034,     0.86162,      0.8616,     0.86159,     0.86157,     0.86155,     0.86154,     0.86152,      0.8615,     0.86149,     0.86147,     0.86221,\n",
       "            0.86215,     0.86217,     0.86313,     0.86514,     0.86577,     0.86635,     0.86751,     0.86927,     0.86912,     0.86925,     0.86947,     0.86969,      0.8699,     0.87095,     0.87105,     0.87154,      0.8717,     0.87215,     0.87264,     0.87289,     0.87314,     0.87339,     0.87379,\n",
       "            0.87454,     0.87447,     0.87563,     0.87597,      0.8763,     0.87619,     0.87736,     0.87836,     0.88112,     0.88141,      0.8817,     0.88199,     0.88347,     0.88398,     0.88495,     0.88485,     0.88481,     0.88477,     0.88481,     0.88491,     0.88502,     0.88513,     0.88524,\n",
       "            0.88535,     0.88545,     0.88556,     0.88567,     0.88591,     0.88658,     0.88659,     0.88689,     0.88718,     0.88748,     0.88742,     0.88832,     0.88921,     0.89005,     0.89094,     0.89124,     0.89154,     0.89184,     0.89364,     0.89393,     0.89413,     0.89448,     0.89483,\n",
       "            0.89675,      0.8969,     0.89677,     0.89803,     0.89869,     0.89861,      0.8996,     0.89954,     0.89939,     0.89933,     0.90025,     0.90341,     0.90317,     0.90289,     0.90351,     0.90395,     0.90464,     0.90456,     0.90449,     0.90444,     0.90497,     0.90571,     0.90646,\n",
       "            0.90649,      0.9084,     0.90886,     0.90944,     0.90984,     0.91029,     0.91327,     0.91422,     0.91499,     0.91605,     0.91598,     0.91591,     0.91692,     0.91731,     0.91769,     0.92022,     0.92042,     0.92331,     0.92319,      0.9238,     0.92458,     0.92537,     0.92765,\n",
       "            0.92767,     0.92764,     0.92761,     0.92871,     0.92848,     0.92842,     0.92866,     0.92914,     0.92953,     0.93001,     0.93049,     0.93054,     0.93043,     0.93031,     0.93136,     0.93133,      0.9313,     0.93244,     0.93225,     0.93329,     0.93445,     0.93483,     0.93524,\n",
       "            0.93565,     0.93556,     0.93545,     0.93531,     0.93526,     0.93634,     0.93684,     0.93734,     0.93746,     0.93787,     0.93902,     0.93965,     0.94096,     0.94209,     0.94204,     0.94198,     0.94439,     0.94552,       0.948,     0.94922,     0.94906,     0.94904,     0.94902,\n",
       "            0.94898,     0.95083,     0.95167,      0.9522,     0.95262,     0.95341,     0.95425,     0.95487,     0.95481,     0.95464,     0.95602,     0.95693,     0.95684,     0.95756,     0.95787,     0.95821,     0.95913,     0.96037,     0.96017,     0.96004,     0.96137,     0.96397,     0.96389,\n",
       "             0.9649,     0.96485,     0.96475,       0.966,     0.96594,     0.96584,      0.9671,     0.96698,     0.96753,     0.96782,      0.9677,      0.9676,     0.97351,     0.97348,     0.97331,     0.97313,     0.97464,     0.97759,     0.97745,     0.97743,     0.97936,     0.98032,     0.98009,\n",
       "            0.98242,     0.98318,     0.98401,     0.98463,     0.98628,     0.98614,     0.98599,     0.98592,     0.98569,     0.98563,     0.98548,     0.98527,     0.98496,     0.98485,     0.98458,     0.98434,      0.9861,     0.98591,     0.98573,     0.98547,     0.98504,      0.9848,     0.98453,\n",
       "            0.98442,     0.98425,     0.98403,     0.98377,      0.9833,     0.98297,     0.98252,     0.98239,     0.98223,     0.98674,     0.98626,     0.98595,     0.98567,     0.98528,     0.98479,     0.98441,     0.98406,     0.98364,     0.98308,     0.98242,     0.98184,      0.9805,     0.98402,\n",
       "            0.98342,     0.98314,     0.98254,     0.98223,      0.9814,     0.98493,      0.9848,     0.98369,     0.98264,     0.98212,     0.98086,     0.97969,     0.97821,     0.98445,     0.98381,      0.9834,     0.98268,     0.98172,     0.98083,     0.97986,           1,           1,           1,\n",
       "                  1,           1,           1,           1,           1,           1,           1,           1,           1,           1,           1,           1,           1,           1,           1,           1,           1,           1,           1,           1,           1,           1,           1,\n",
       "                  1,           1,           1,           1,           1,           1,           1,           1,           1,           1,           1,           1,           1,           1,           1,           1,           1,           1,           1,           1,           1,           1,           1,\n",
       "                  1,           1,           1,           1,           1,           1,           1,           1,           1,           1,           1,           1,           1,           1,           1,           1,           1,           1,           1,           1,           1,           1,           1,\n",
       "                  1,           1,           1,           1,           1,           1,           1,           1,           1,           1,           1,           1,           1,           1,           1,           1,           1,           1,           1,           1,           1,           1,           1,\n",
       "                  1,           1,           1,           1,           1,           1,           1,           1,           1,           1,           1]]), 'Confidence', 'Precision'], [array([          0,    0.001001,    0.002002,    0.003003,    0.004004,    0.005005,    0.006006,    0.007007,    0.008008,    0.009009,     0.01001,    0.011011,    0.012012,    0.013013,    0.014014,    0.015015,    0.016016,    0.017017,    0.018018,    0.019019,     0.02002,    0.021021,    0.022022,    0.023023,\n",
       "          0.024024,    0.025025,    0.026026,    0.027027,    0.028028,    0.029029,     0.03003,    0.031031,    0.032032,    0.033033,    0.034034,    0.035035,    0.036036,    0.037037,    0.038038,    0.039039,     0.04004,    0.041041,    0.042042,    0.043043,    0.044044,    0.045045,    0.046046,    0.047047,\n",
       "          0.048048,    0.049049,     0.05005,    0.051051,    0.052052,    0.053053,    0.054054,    0.055055,    0.056056,    0.057057,    0.058058,    0.059059,     0.06006,    0.061061,    0.062062,    0.063063,    0.064064,    0.065065,    0.066066,    0.067067,    0.068068,    0.069069,     0.07007,    0.071071,\n",
       "          0.072072,    0.073073,    0.074074,    0.075075,    0.076076,    0.077077,    0.078078,    0.079079,     0.08008,    0.081081,    0.082082,    0.083083,    0.084084,    0.085085,    0.086086,    0.087087,    0.088088,    0.089089,     0.09009,    0.091091,    0.092092,    0.093093,    0.094094,    0.095095,\n",
       "          0.096096,    0.097097,    0.098098,    0.099099,      0.1001,      0.1011,      0.1021,      0.1031,      0.1041,     0.10511,     0.10611,     0.10711,     0.10811,     0.10911,     0.11011,     0.11111,     0.11211,     0.11311,     0.11411,     0.11512,     0.11612,     0.11712,     0.11812,     0.11912,\n",
       "           0.12012,     0.12112,     0.12212,     0.12312,     0.12412,     0.12513,     0.12613,     0.12713,     0.12813,     0.12913,     0.13013,     0.13113,     0.13213,     0.13313,     0.13413,     0.13514,     0.13614,     0.13714,     0.13814,     0.13914,     0.14014,     0.14114,     0.14214,     0.14314,\n",
       "           0.14414,     0.14515,     0.14615,     0.14715,     0.14815,     0.14915,     0.15015,     0.15115,     0.15215,     0.15315,     0.15415,     0.15516,     0.15616,     0.15716,     0.15816,     0.15916,     0.16016,     0.16116,     0.16216,     0.16316,     0.16416,     0.16517,     0.16617,     0.16717,\n",
       "           0.16817,     0.16917,     0.17017,     0.17117,     0.17217,     0.17317,     0.17417,     0.17518,     0.17618,     0.17718,     0.17818,     0.17918,     0.18018,     0.18118,     0.18218,     0.18318,     0.18418,     0.18519,     0.18619,     0.18719,     0.18819,     0.18919,     0.19019,     0.19119,\n",
       "           0.19219,     0.19319,     0.19419,      0.1952,      0.1962,      0.1972,      0.1982,      0.1992,      0.2002,      0.2012,      0.2022,      0.2032,      0.2042,     0.20521,     0.20621,     0.20721,     0.20821,     0.20921,     0.21021,     0.21121,     0.21221,     0.21321,     0.21421,     0.21522,\n",
       "           0.21622,     0.21722,     0.21822,     0.21922,     0.22022,     0.22122,     0.22222,     0.22322,     0.22422,     0.22523,     0.22623,     0.22723,     0.22823,     0.22923,     0.23023,     0.23123,     0.23223,     0.23323,     0.23423,     0.23524,     0.23624,     0.23724,     0.23824,     0.23924,\n",
       "           0.24024,     0.24124,     0.24224,     0.24324,     0.24424,     0.24525,     0.24625,     0.24725,     0.24825,     0.24925,     0.25025,     0.25125,     0.25225,     0.25325,     0.25425,     0.25526,     0.25626,     0.25726,     0.25826,     0.25926,     0.26026,     0.26126,     0.26226,     0.26326,\n",
       "           0.26426,     0.26527,     0.26627,     0.26727,     0.26827,     0.26927,     0.27027,     0.27127,     0.27227,     0.27327,     0.27427,     0.27528,     0.27628,     0.27728,     0.27828,     0.27928,     0.28028,     0.28128,     0.28228,     0.28328,     0.28428,     0.28529,     0.28629,     0.28729,\n",
       "           0.28829,     0.28929,     0.29029,     0.29129,     0.29229,     0.29329,     0.29429,      0.2953,      0.2963,      0.2973,      0.2983,      0.2993,      0.3003,      0.3013,      0.3023,      0.3033,      0.3043,     0.30531,     0.30631,     0.30731,     0.30831,     0.30931,     0.31031,     0.31131,\n",
       "           0.31231,     0.31331,     0.31431,     0.31532,     0.31632,     0.31732,     0.31832,     0.31932,     0.32032,     0.32132,     0.32232,     0.32332,     0.32432,     0.32533,     0.32633,     0.32733,     0.32833,     0.32933,     0.33033,     0.33133,     0.33233,     0.33333,     0.33433,     0.33534,\n",
       "           0.33634,     0.33734,     0.33834,     0.33934,     0.34034,     0.34134,     0.34234,     0.34334,     0.34434,     0.34535,     0.34635,     0.34735,     0.34835,     0.34935,     0.35035,     0.35135,     0.35235,     0.35335,     0.35435,     0.35536,     0.35636,     0.35736,     0.35836,     0.35936,\n",
       "           0.36036,     0.36136,     0.36236,     0.36336,     0.36436,     0.36537,     0.36637,     0.36737,     0.36837,     0.36937,     0.37037,     0.37137,     0.37237,     0.37337,     0.37437,     0.37538,     0.37638,     0.37738,     0.37838,     0.37938,     0.38038,     0.38138,     0.38238,     0.38338,\n",
       "           0.38438,     0.38539,     0.38639,     0.38739,     0.38839,     0.38939,     0.39039,     0.39139,     0.39239,     0.39339,     0.39439,      0.3954,      0.3964,      0.3974,      0.3984,      0.3994,      0.4004,      0.4014,      0.4024,      0.4034,      0.4044,     0.40541,     0.40641,     0.40741,\n",
       "           0.40841,     0.40941,     0.41041,     0.41141,     0.41241,     0.41341,     0.41441,     0.41542,     0.41642,     0.41742,     0.41842,     0.41942,     0.42042,     0.42142,     0.42242,     0.42342,     0.42442,     0.42543,     0.42643,     0.42743,     0.42843,     0.42943,     0.43043,     0.43143,\n",
       "           0.43243,     0.43343,     0.43443,     0.43544,     0.43644,     0.43744,     0.43844,     0.43944,     0.44044,     0.44144,     0.44244,     0.44344,     0.44444,     0.44545,     0.44645,     0.44745,     0.44845,     0.44945,     0.45045,     0.45145,     0.45245,     0.45345,     0.45445,     0.45546,\n",
       "           0.45646,     0.45746,     0.45846,     0.45946,     0.46046,     0.46146,     0.46246,     0.46346,     0.46446,     0.46547,     0.46647,     0.46747,     0.46847,     0.46947,     0.47047,     0.47147,     0.47247,     0.47347,     0.47447,     0.47548,     0.47648,     0.47748,     0.47848,     0.47948,\n",
       "           0.48048,     0.48148,     0.48248,     0.48348,     0.48448,     0.48549,     0.48649,     0.48749,     0.48849,     0.48949,     0.49049,     0.49149,     0.49249,     0.49349,     0.49449,      0.4955,      0.4965,      0.4975,      0.4985,      0.4995,      0.5005,      0.5015,      0.5025,      0.5035,\n",
       "            0.5045,     0.50551,     0.50651,     0.50751,     0.50851,     0.50951,     0.51051,     0.51151,     0.51251,     0.51351,     0.51451,     0.51552,     0.51652,     0.51752,     0.51852,     0.51952,     0.52052,     0.52152,     0.52252,     0.52352,     0.52452,     0.52553,     0.52653,     0.52753,\n",
       "           0.52853,     0.52953,     0.53053,     0.53153,     0.53253,     0.53353,     0.53453,     0.53554,     0.53654,     0.53754,     0.53854,     0.53954,     0.54054,     0.54154,     0.54254,     0.54354,     0.54454,     0.54555,     0.54655,     0.54755,     0.54855,     0.54955,     0.55055,     0.55155,\n",
       "           0.55255,     0.55355,     0.55455,     0.55556,     0.55656,     0.55756,     0.55856,     0.55956,     0.56056,     0.56156,     0.56256,     0.56356,     0.56456,     0.56557,     0.56657,     0.56757,     0.56857,     0.56957,     0.57057,     0.57157,     0.57257,     0.57357,     0.57457,     0.57558,\n",
       "           0.57658,     0.57758,     0.57858,     0.57958,     0.58058,     0.58158,     0.58258,     0.58358,     0.58458,     0.58559,     0.58659,     0.58759,     0.58859,     0.58959,     0.59059,     0.59159,     0.59259,     0.59359,     0.59459,      0.5956,      0.5966,      0.5976,      0.5986,      0.5996,\n",
       "            0.6006,      0.6016,      0.6026,      0.6036,      0.6046,     0.60561,     0.60661,     0.60761,     0.60861,     0.60961,     0.61061,     0.61161,     0.61261,     0.61361,     0.61461,     0.61562,     0.61662,     0.61762,     0.61862,     0.61962,     0.62062,     0.62162,     0.62262,     0.62362,\n",
       "           0.62462,     0.62563,     0.62663,     0.62763,     0.62863,     0.62963,     0.63063,     0.63163,     0.63263,     0.63363,     0.63463,     0.63564,     0.63664,     0.63764,     0.63864,     0.63964,     0.64064,     0.64164,     0.64264,     0.64364,     0.64464,     0.64565,     0.64665,     0.64765,\n",
       "           0.64865,     0.64965,     0.65065,     0.65165,     0.65265,     0.65365,     0.65465,     0.65566,     0.65666,     0.65766,     0.65866,     0.65966,     0.66066,     0.66166,     0.66266,     0.66366,     0.66466,     0.66567,     0.66667,     0.66767,     0.66867,     0.66967,     0.67067,     0.67167,\n",
       "           0.67267,     0.67367,     0.67467,     0.67568,     0.67668,     0.67768,     0.67868,     0.67968,     0.68068,     0.68168,     0.68268,     0.68368,     0.68468,     0.68569,     0.68669,     0.68769,     0.68869,     0.68969,     0.69069,     0.69169,     0.69269,     0.69369,     0.69469,      0.6957,\n",
       "            0.6967,      0.6977,      0.6987,      0.6997,      0.7007,      0.7017,      0.7027,      0.7037,      0.7047,     0.70571,     0.70671,     0.70771,     0.70871,     0.70971,     0.71071,     0.71171,     0.71271,     0.71371,     0.71471,     0.71572,     0.71672,     0.71772,     0.71872,     0.71972,\n",
       "           0.72072,     0.72172,     0.72272,     0.72372,     0.72472,     0.72573,     0.72673,     0.72773,     0.72873,     0.72973,     0.73073,     0.73173,     0.73273,     0.73373,     0.73473,     0.73574,     0.73674,     0.73774,     0.73874,     0.73974,     0.74074,     0.74174,     0.74274,     0.74374,\n",
       "           0.74474,     0.74575,     0.74675,     0.74775,     0.74875,     0.74975,     0.75075,     0.75175,     0.75275,     0.75375,     0.75475,     0.75576,     0.75676,     0.75776,     0.75876,     0.75976,     0.76076,     0.76176,     0.76276,     0.76376,     0.76476,     0.76577,     0.76677,     0.76777,\n",
       "           0.76877,     0.76977,     0.77077,     0.77177,     0.77277,     0.77377,     0.77477,     0.77578,     0.77678,     0.77778,     0.77878,     0.77978,     0.78078,     0.78178,     0.78278,     0.78378,     0.78478,     0.78579,     0.78679,     0.78779,     0.78879,     0.78979,     0.79079,     0.79179,\n",
       "           0.79279,     0.79379,     0.79479,      0.7958,      0.7968,      0.7978,      0.7988,      0.7998,      0.8008,      0.8018,      0.8028,      0.8038,      0.8048,     0.80581,     0.80681,     0.80781,     0.80881,     0.80981,     0.81081,     0.81181,     0.81281,     0.81381,     0.81481,     0.81582,\n",
       "           0.81682,     0.81782,     0.81882,     0.81982,     0.82082,     0.82182,     0.82282,     0.82382,     0.82482,     0.82583,     0.82683,     0.82783,     0.82883,     0.82983,     0.83083,     0.83183,     0.83283,     0.83383,     0.83483,     0.83584,     0.83684,     0.83784,     0.83884,     0.83984,\n",
       "           0.84084,     0.84184,     0.84284,     0.84384,     0.84484,     0.84585,     0.84685,     0.84785,     0.84885,     0.84985,     0.85085,     0.85185,     0.85285,     0.85385,     0.85485,     0.85586,     0.85686,     0.85786,     0.85886,     0.85986,     0.86086,     0.86186,     0.86286,     0.86386,\n",
       "           0.86486,     0.86587,     0.86687,     0.86787,     0.86887,     0.86987,     0.87087,     0.87187,     0.87287,     0.87387,     0.87487,     0.87588,     0.87688,     0.87788,     0.87888,     0.87988,     0.88088,     0.88188,     0.88288,     0.88388,     0.88488,     0.88589,     0.88689,     0.88789,\n",
       "           0.88889,     0.88989,     0.89089,     0.89189,     0.89289,     0.89389,     0.89489,      0.8959,      0.8969,      0.8979,      0.8989,      0.8999,      0.9009,      0.9019,      0.9029,      0.9039,      0.9049,     0.90591,     0.90691,     0.90791,     0.90891,     0.90991,     0.91091,     0.91191,\n",
       "           0.91291,     0.91391,     0.91491,     0.91592,     0.91692,     0.91792,     0.91892,     0.91992,     0.92092,     0.92192,     0.92292,     0.92392,     0.92492,     0.92593,     0.92693,     0.92793,     0.92893,     0.92993,     0.93093,     0.93193,     0.93293,     0.93393,     0.93493,     0.93594,\n",
       "           0.93694,     0.93794,     0.93894,     0.93994,     0.94094,     0.94194,     0.94294,     0.94394,     0.94494,     0.94595,     0.94695,     0.94795,     0.94895,     0.94995,     0.95095,     0.95195,     0.95295,     0.95395,     0.95495,     0.95596,     0.95696,     0.95796,     0.95896,     0.95996,\n",
       "           0.96096,     0.96196,     0.96296,     0.96396,     0.96496,     0.96597,     0.96697,     0.96797,     0.96897,     0.96997,     0.97097,     0.97197,     0.97297,     0.97397,     0.97497,     0.97598,     0.97698,     0.97798,     0.97898,     0.97998,     0.98098,     0.98198,     0.98298,     0.98398,\n",
       "           0.98498,     0.98599,     0.98699,     0.98799,     0.98899,     0.98999,     0.99099,     0.99199,     0.99299,     0.99399,     0.99499,       0.996,       0.997,       0.998,       0.999,           1]), array([[     0.9681,      0.9681,      0.9661,     0.95713,     0.95613,     0.95314,     0.95015,     0.94716,     0.94516,     0.94217,     0.94118,     0.93918,     0.93819,     0.93719,     0.93619,     0.93619,     0.93619,     0.93619,     0.93619,     0.93619,     0.93519,      0.9332,      0.9322,\n",
       "             0.9322,     0.93121,     0.93121,     0.93021,     0.93021,     0.93021,     0.93021,     0.92945,     0.92822,     0.92822,     0.92722,     0.92622,     0.92323,     0.92323,     0.92223,     0.92223,     0.92223,     0.92223,     0.92223,     0.92223,     0.92216,     0.92013,     0.91825,\n",
       "            0.91725,     0.91725,     0.91725,     0.91725,     0.91625,     0.91625,     0.91525,     0.91402,     0.91326,     0.91326,     0.91226,     0.91226,     0.91226,     0.91226,     0.91226,     0.91226,     0.91226,     0.91226,     0.91226,     0.91226,     0.91226,     0.91226,     0.91226,\n",
       "            0.91069,     0.91027,     0.90927,     0.90927,     0.90927,     0.90927,     0.90828,     0.90828,     0.90828,     0.90828,     0.90828,     0.90707,     0.90639,     0.90628,     0.90628,     0.90528,     0.90528,     0.90528,     0.90528,     0.90528,     0.90475,     0.90429,     0.90429,\n",
       "            0.90312,     0.90229,      0.9013,      0.9013,      0.9013,      0.9003,      0.8993,      0.8993,     0.89831,     0.89831,     0.89631,     0.89631,     0.89631,     0.89631,     0.89631,     0.89631,     0.89631,     0.89631,     0.89631,     0.89631,     0.89631,     0.89544,     0.89531,\n",
       "            0.89531,     0.89531,     0.89531,     0.89531,     0.89531,     0.89502,     0.89432,     0.89432,     0.89432,     0.89432,     0.89432,     0.89432,     0.89401,     0.89362,     0.89332,     0.89332,     0.89252,     0.89232,     0.89232,     0.89232,     0.89232,     0.89232,     0.89232,\n",
       "            0.89232,     0.89232,     0.89232,     0.89232,     0.89232,     0.89187,     0.89133,     0.89133,     0.89133,     0.89133,     0.89133,     0.89133,     0.89133,     0.89133,     0.89133,     0.89133,     0.89133,     0.89121,     0.89033,     0.88925,     0.88833,     0.88833,     0.88833,\n",
       "            0.88833,     0.88833,     0.88833,     0.88833,     0.88734,     0.88734,     0.88715,     0.88679,     0.88643,     0.88634,     0.88609,     0.88534,     0.88534,     0.88534,     0.88534,     0.88534,     0.88511,     0.88468,     0.88435,     0.88335,     0.88251,     0.88153,     0.88136,\n",
       "            0.88136,     0.88136,     0.88136,     0.88136,     0.88136,     0.88136,     0.88136,     0.88136,     0.88136,     0.88136,     0.88136,     0.88089,     0.88036,     0.88036,     0.88036,     0.87936,     0.87936,     0.87936,     0.87936,     0.87836,     0.87836,     0.87836,     0.87836,\n",
       "            0.87836,     0.87836,     0.87836,     0.87827,     0.87753,     0.87637,     0.87637,     0.87637,     0.87556,     0.87537,     0.87537,     0.87537,     0.87537,     0.87537,     0.87537,     0.87494,     0.87446,     0.87438,      0.8737,     0.87338,     0.87338,     0.87332,     0.87258,\n",
       "            0.87238,     0.87238,     0.87238,     0.87139,     0.87139,     0.87139,     0.87139,     0.87139,     0.87139,     0.87058,     0.87039,     0.87039,     0.87039,     0.87039,     0.87039,      0.8698,     0.86912,     0.86844,     0.86839,     0.86839,      0.8674,      0.8674,      0.8674,\n",
       "             0.8664,      0.8664,      0.8664,      0.8642,     0.86341,     0.86341,     0.86323,     0.86305,     0.86286,     0.86267,     0.86249,     0.86241,     0.86241,     0.86241,     0.86142,     0.86142,     0.86142,     0.86142,     0.86042,     0.86042,     0.86042,     0.86042,     0.86024,\n",
       "            0.85942,     0.85942,     0.85942,     0.85942,     0.85942,     0.85942,     0.85942,     0.85942,     0.85942,     0.85942,     0.85942,     0.85942,     0.85942,     0.85942,     0.85842,     0.85743,     0.85743,      0.8566,     0.85643,     0.85643,     0.85643,     0.85643,     0.85643,\n",
       "            0.85643,     0.85643,     0.85613,     0.85554,     0.85543,     0.85543,     0.85534,      0.8551,     0.85486,     0.85462,     0.85444,     0.85444,     0.85344,     0.85338,     0.85244,     0.85244,     0.85244,     0.85244,     0.85145,     0.85145,     0.85145,     0.85145,     0.85145,\n",
       "            0.85145,     0.85145,     0.85145,     0.85145,     0.85145,     0.85145,     0.85145,     0.85145,     0.85145,     0.85145,     0.85145,     0.85145,     0.85145,     0.85113,     0.85075,     0.85034,     0.84976,     0.84928,      0.8489,     0.84853,     0.84845,     0.84845,     0.84845,\n",
       "            0.84845,     0.84845,     0.84845,     0.84845,     0.84845,     0.84845,     0.84744,     0.84685,     0.84646,     0.84646,     0.84646,     0.84646,     0.84646,     0.84646,     0.84646,     0.84546,     0.84546,     0.84347,     0.84347,     0.84347,     0.84347,     0.84347,     0.84347,\n",
       "            0.84347,     0.84347,     0.84347,     0.84347,     0.84347,     0.84347,     0.84347,     0.84324,     0.84287,      0.8425,     0.84152,     0.84148,      0.8409,     0.84048,     0.84048,     0.84036,     0.83999,     0.83961,     0.83948,     0.83814,     0.83763,     0.83749,     0.83749,\n",
       "            0.83747,     0.83696,     0.83641,      0.8345,      0.8345,      0.8345,      0.8345,      0.8345,      0.8345,      0.8345,      0.8345,      0.8345,     0.83408,     0.83357,     0.83335,     0.83317,     0.83299,     0.83281,     0.83264,     0.83151,     0.83151,     0.83151,     0.83151,\n",
       "            0.83151,     0.83151,     0.83151,     0.82983,      0.8288,     0.82851,     0.82851,     0.82851,     0.82851,     0.82851,     0.82849,     0.82823,     0.82798,     0.82772,     0.82731,     0.82644,      0.8261,     0.82576,     0.82552,     0.82552,     0.82552,     0.82552,     0.82387,\n",
       "            0.82353,     0.82353,     0.82353,     0.82353,     0.82327,     0.82293,     0.82259,     0.82253,     0.82253,     0.82253,     0.82235,     0.82214,     0.82194,     0.82173,     0.82152,     0.82118,     0.82084,     0.82054,     0.82054,     0.82054,     0.82054,     0.82054,     0.82054,\n",
       "            0.82054,     0.82054,     0.82054,     0.82054,     0.82042,     0.82021,     0.82001,      0.8198,      0.8196,     0.81954,     0.81954,     0.81954,     0.81954,     0.81954,     0.81954,     0.81925,     0.81891,     0.81857,     0.81854,     0.81854,     0.81854,     0.81755,     0.81755,\n",
       "            0.81755,     0.81755,     0.81755,     0.81755,     0.81755,     0.81755,     0.81755,     0.81748,     0.81723,     0.81697,     0.81672,     0.81637,     0.81586,     0.81514,     0.81456,     0.81456,     0.81456,     0.81456,     0.81442,     0.81417,     0.81391,     0.81366,     0.81292,\n",
       "            0.81223,     0.81172,     0.81157,     0.81083,     0.80981,     0.80957,     0.80917,     0.80866,     0.80857,     0.80857,     0.80857,     0.80857,     0.80857,     0.80857,     0.80857,     0.80857,     0.80857,     0.80857,     0.80857,     0.80857,     0.80857,     0.80857,     0.80857,\n",
       "            0.80857,     0.80857,     0.80857,     0.80857,     0.80857,     0.80857,     0.80857,     0.80816,     0.80758,     0.80758,     0.80758,     0.80758,     0.80758,     0.80758,     0.80758,     0.80727,     0.80676,     0.80658,     0.80558,     0.80558,     0.80558,     0.80558,     0.80558,\n",
       "            0.80558,     0.80558,     0.80558,     0.80459,     0.80459,     0.80459,     0.80443,     0.80409,     0.80375,     0.80359,     0.80359,     0.80359,     0.80359,     0.80295,     0.80226,     0.80175,      0.8016,      0.8016,      0.8016,      0.8016,      0.8016,      0.8016,      0.8016,\n",
       "             0.8016,      0.8016,      0.8016,      0.8016,      0.8016,      0.8016,     0.80152,      0.8006,      0.8006,      0.8006,      0.8006,      0.8006,     0.80025,     0.79974,      0.7996,     0.79884,     0.79782,     0.79761,     0.79733,     0.79699,     0.79665,     0.79661,     0.79661,\n",
       "            0.79661,     0.79661,     0.79661,     0.79661,     0.79661,     0.79661,     0.79661,     0.79661,     0.79661,     0.79661,     0.79462,     0.79462,     0.79459,     0.79448,     0.79437,     0.79427,     0.79416,     0.79405,     0.79394,     0.79384,     0.79373,     0.79362,     0.79228,\n",
       "            0.79194,     0.79163,     0.79163,     0.79163,     0.79099,     0.79063,     0.78994,     0.78892,      0.7879,     0.78764,     0.78764,     0.78764,     0.78764,     0.78727,     0.78664,     0.78664,     0.78576,     0.78564,     0.78564,     0.78564,     0.78564,     0.78564,     0.78564,\n",
       "            0.78534,     0.78482,     0.78465,     0.78465,     0.78465,     0.78316,     0.78265,     0.78265,     0.78265,     0.78265,     0.78265,     0.78265,     0.78265,     0.78265,     0.78219,     0.78149,     0.78115,     0.78081,     0.78066,     0.78066,     0.78066,     0.78066,     0.78066,\n",
       "            0.78066,     0.78066,     0.78066,     0.78066,     0.77966,     0.77935,     0.77866,     0.77866,     0.77866,     0.77866,     0.77804,      0.7772,     0.77618,     0.77468,     0.77368,     0.77368,     0.77368,     0.77368,     0.77368,     0.77301,     0.77268,     0.77268,     0.77268,\n",
       "            0.77268,     0.77189,     0.77087,     0.76969,     0.76945,     0.76877,     0.76824,     0.76773,     0.76647,     0.76596,     0.76471,     0.76466,     0.76258,     0.76013,     0.75972,     0.75872,     0.75662,     0.75594,     0.75538,     0.75486,     0.75474,     0.75474,     0.75474,\n",
       "             0.7539,     0.75274,     0.75174,     0.75091,     0.75075,     0.75075,     0.75075,     0.75075,     0.75075,      0.7507,     0.75002,     0.74934,     0.74776,     0.74776,     0.74776,     0.74754,     0.74676,     0.74423,     0.74298,     0.74277,     0.74277,     0.74277,     0.74277,\n",
       "            0.74164,     0.74129,     0.74095,     0.74029,     0.73777,     0.73709,     0.73679,     0.73679,     0.73579,     0.73579,     0.73579,      0.7346,     0.73336,     0.73206,     0.73055,     0.73021,     0.72987,     0.72925,     0.72708,     0.72682,     0.72491,     0.72483,     0.72483,\n",
       "            0.72483,     0.72379,     0.72247,     0.72079,     0.72011,     0.71785,     0.71785,     0.71785,     0.71739,     0.71585,     0.71585,     0.71585,     0.71506,     0.71365,     0.71296,     0.71228,     0.71108,     0.71087,     0.70987,     0.70823,     0.70589,     0.70554,      0.7052,\n",
       "            0.70475,     0.70189,     0.70189,     0.70189,     0.70156,      0.6999,     0.69791,     0.69617,     0.69514,     0.69239,     0.68893,     0.68893,      0.6852,     0.68395,     0.68012,     0.67896,     0.67896,     0.67648,     0.67294,     0.67062,     0.66985,     0.66681,     0.66538,\n",
       "            0.65788,     0.65686,     0.65484,      0.6516,      0.6503,     0.64828,     0.64477,     0.64243,      0.6331,     0.62974,     0.62733,      0.6252,     0.62283,     0.62215,     0.61815,     0.61316,     0.61307,     0.60903,     0.60512,     0.60444,      0.6012,     0.59587,     0.58904,\n",
       "            0.58824,     0.58276,     0.58026,     0.57468,     0.57346,     0.56761,     0.56144,     0.55853,     0.54951,     0.54691,     0.54143,     0.53341,     0.52239,     0.51835,     0.50933,      0.5013,     0.49527,     0.48839,     0.48221,     0.47319,      0.4594,     0.45215,     0.44413,\n",
       "            0.44108,     0.43605,     0.43002,     0.42299,     0.41097,     0.40295,     0.39238,     0.38936,     0.38585,     0.37084,     0.35783,     0.34981,     0.34278,     0.33376,     0.32274,     0.31471,     0.30768,     0.29966,     0.28964,     0.27862,      0.2696,      0.2506,     0.24557,\n",
       "            0.23655,     0.23251,      0.2244,     0.22039,     0.21042,     0.19542,     0.19374,     0.18036,     0.16935,     0.16431,      0.1533,     0.14427,     0.13425,     0.12623,     0.12116,     0.11815,     0.11312,     0.10708,     0.10205,    0.097014,    0.090982,    0.083953,     0.07493,\n",
       "           0.073831,    0.070843,    0.069793,    0.064761,    0.056735,      0.0517,    0.049255,     0.04163,    0.038589,    0.034551,    0.030212,    0.026475,    0.023681,     0.02139,    0.018646,    0.015738,    0.015056,    0.014085,      0.0136,    0.013191,    0.011071,    0.010644,    0.010303,\n",
       "          0.0099548,   0.0092735,   0.0079275,   0.0072462,   0.0063578,   0.0055512,   0.0048124,   0.0039771,   0.0039203,   0.0038635,   0.0038067,     0.00375,   0.0036932,   0.0036364,   0.0035796,   0.0035229,   0.0034661,   0.0034093,   0.0033525,   0.0032958,    0.003239,   0.0031822,   0.0031254,\n",
       "          0.0030686,   0.0030119,   0.0027755,   0.0024348,   0.0020942,   0.0019539,   0.0018972,   0.0018404,   0.0017836,   0.0017268,   0.0016701,   0.0016133,   0.0015565,   0.0014997,    0.001443,   0.0013862,   0.0013294,   0.0012726,   0.0012158,   0.0011591,   0.0011023,   0.0010455,           0,\n",
       "                  0,           0,           0,           0,           0,           0,           0,           0,           0,           0,           0,           0,           0,           0,           0,           0,           0,           0,           0,           0,           0,           0,           0,\n",
       "                  0,           0,           0,           0,           0,           0,           0,           0,           0,           0,           0]]), 'Confidence', 'Recall']]\n",
       "fitness: 0.5556186242190073\n",
       "keys: ['metrics/precision(B)', 'metrics/recall(B)', 'metrics/mAP50(B)', 'metrics/mAP50-95(B)']\n",
       "maps: array([    0.51814])\n",
       "names: {0: 'hand'}\n",
       "plot: True\n",
       "results_dict: {'metrics/precision(B)': 0.8811220131791639, 'metrics/recall(B)': 0.7826520438683948, 'metrics/mAP50(B)': 0.8929260433211859, 'metrics/mAP50-95(B)': 0.518140022096543, 'fitness': 0.5556186242190073}\n",
       "save_dir: PosixPath('runs/detect/train')\n",
       "speed: {'preprocess': 0.14633711646584902, 'inference': 6.648812574498794, 'loss': 0.0002010195863013174, 'postprocess': 1.0918159110873353}\n",
       "task: 'detect'"
      ]
     },
     "execution_count": 2,
     "metadata": {},
     "output_type": "execute_result"
    }
   ],
   "source": [
    "from ultralytics import YOLO\n",
    "\n",
    "model = YOLO('yolov8n.pt')  \n",
    "\n",
    "model.train(data='Hands-data/data.yaml', epochs=100, batch=64, pretrained = True, patience = 15, augment = True)"
   ]
  }
 ],
 "metadata": {
  "kaggle": {
   "accelerator": "nvidiaTeslaT4",
   "dataSources": [
    {
     "datasetId": 1079863,
     "sourceId": 1817597,
     "sourceType": "datasetVersion"
    },
    {
     "datasetId": 6289706,
     "sourceId": 10181950,
     "sourceType": "datasetVersion"
    },
    {
     "datasetId": 6298048,
     "sourceId": 10193093,
     "sourceType": "datasetVersion"
    }
   ],
   "dockerImageVersionId": 30805,
   "isGpuEnabled": true,
   "isInternetEnabled": true,
   "language": "python",
   "sourceType": "notebook"
  },
  "kernelspec": {
   "display_name": "Python 3",
   "language": "python",
   "name": "python3"
  },
  "language_info": {
   "codemirror_mode": {
    "name": "ipython",
    "version": 3
   },
   "file_extension": ".py",
   "mimetype": "text/x-python",
   "name": "python",
   "nbconvert_exporter": "python",
   "pygments_lexer": "ipython3",
   "version": "3.10.14"
  }
 },
 "nbformat": 4,
 "nbformat_minor": 4
}
